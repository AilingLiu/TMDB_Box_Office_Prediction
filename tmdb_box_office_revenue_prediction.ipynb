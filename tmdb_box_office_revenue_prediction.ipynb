{
  "nbformat": 4,
  "nbformat_minor": 0,
  "metadata": {
    "colab": {
      "name": "tmdb_box_office_revenue_prediction.ipynb",
      "provenance": [],
      "collapsed_sections": [],
      "toc_visible": true,
      "include_colab_link": true
    },
    "kernelspec": {
      "name": "python3",
      "display_name": "Python 3"
    }
  },
  "cells": [
    {
      "cell_type": "markdown",
      "metadata": {
        "id": "view-in-github",
        "colab_type": "text"
      },
      "source": [
        "<a href=\"https://colab.research.google.com/github/AilingLiu/TMDB_Box_Office_Prediction/blob/master/tmdb_box_office_revenue_prediction.ipynb\" target=\"_parent\"><img src=\"https://colab.research.google.com/assets/colab-badge.svg\" alt=\"Open In Colab\"/></a>"
      ]
    },
    {
      "cell_type": "markdown",
      "metadata": {
        "id": "UcYQuHtjZT1g",
        "colab_type": "text"
      },
      "source": [
        "\n",
        "Competition details\n",
        "\n",
        "`https://www.kaggle.com/c/tmdb-box-office-prediction/data`\n"
      ]
    },
    {
      "cell_type": "markdown",
      "metadata": {
        "id": "i1wPtHOB2qlU",
        "colab_type": "text"
      },
      "source": [
        "# Overview"
      ]
    },
    {
      "cell_type": "markdown",
      "metadata": {
        "id": "2zNS6Fhi2sow",
        "colab_type": "text"
      },
      "source": [
        "\n",
        "\n",
        "---\n",
        "\n",
        "\n",
        "In this competition, you're presented with metadata on over 7,000 past films \n",
        "from The Movie Database to try and predict their overall worldwide box office revenue. Data points provided include cast, crew, plot keywords, budget, posters, release dates, languages, production companies, and countries. You can collect other publicly available data to use in your model predictions, but in the spirit of this competition, use only data that would have been available before a movie's release."
      ]
    },
    {
      "cell_type": "markdown",
      "metadata": {
        "id": "2IailJkgESvX",
        "colab_type": "text"
      },
      "source": [
        "# Set up"
      ]
    },
    {
      "cell_type": "code",
      "metadata": {
        "id": "5HHn239wEkBS",
        "colab_type": "code",
        "colab": {}
      },
      "source": [
        "import sys\n",
        "sys.version_info >= (3, 5) # evaluate python version is 3.5 and later\n",
        "\n",
        "import sklearn\n",
        "sklearn.__version__ >= '0.20' # evaluate sklearn version is 0.2 and later\n",
        "\n",
        "# common imports\n",
        "import os\n",
        "import numpy as np\n",
        "\n",
        "# set up the display\n",
        "import pandas as pd\n",
        "pd.set_option('max_rows', 101)\n",
        "pd.set_option('max_colwidth', 100)\n",
        "\n",
        "# setting figure\n",
        "import matplotlib as mpl\n",
        "%matplotlib inline\n",
        "import matplotlib.pyplot as plt\n",
        "mpl.rc('axes', labelsize=14)\n",
        "mpl.rc('xtick', labelsize=12)\n",
        "mpl.rc('ytick', labelsize=12)\n",
        "\n",
        "# figure saving location\n",
        "PROJECT_ROOT_DIR = '.'\n",
        "PROJECT_ID = 'tmdb_movie_revenue'\n",
        "IMAGE_PATH = os.path.join(PROJECT_ROOT_DIR, 'images', PROJECT_ID)\n",
        "os.makedirs(IMAGE_PATH, exist_ok=True)\n",
        "\n",
        "def save_fig(image_name, save_in=IMAGE_PATH, tight_layout=True, dpi=300, image_extension='png'):\n",
        "  path=os.path.join(IMAGE_PATH, image_name + '.' + image_extension)\n",
        "  print('Saving Picture: ', image_name)\n",
        "  if tight_layout:\n",
        "    plt.tight_layout()\n",
        "  plt.savefig(path, format=image_extension, dpi=dpi)\n",
        "\n"
      ],
      "execution_count": 0,
      "outputs": []
    },
    {
      "cell_type": "markdown",
      "metadata": {
        "id": "AIBNBfyEES7d",
        "colab_type": "text"
      },
      "source": [
        "# Get Data"
      ]
    },
    {
      "cell_type": "code",
      "metadata": {
        "id": "XvUQ8SaKX9KV",
        "colab_type": "code",
        "colab": {}
      },
      "source": [
        "URL_PATH = 'https://github.com/AilingLiu/TMDB_Box_Office_Prediction/raw/master/tmdb-box-office-prediction.zip'\n",
        "DATA_PATH = os.path.join('datasets', PROJECT_ID)\n",
        "\n",
        "from zipfile import ZipFile\n",
        "import urllib\n",
        "\n",
        "def fetch_data(url=URL_PATH, to_local=DATA_PATH):\n",
        "  zip_path = os.path.join(DATA_PATH, 'tmdb_movie_revenue.zip')\n",
        "  if not os.path.isdir(to_local):\n",
        "    os.makedirs(to_local)\n",
        "  urllib.request.urlretrieve(URL_PATH, zip_path)\n",
        "  zip_=ZipFile(zip_path, 'r')\n",
        "  zip_.extractall(DATA_PATH)\n",
        "  zip_.close()"
      ],
      "execution_count": 0,
      "outputs": []
    },
    {
      "cell_type": "code",
      "metadata": {
        "id": "6IRDIA2htrEc",
        "colab_type": "code",
        "colab": {}
      },
      "source": [
        "fetch_data()"
      ],
      "execution_count": 0,
      "outputs": []
    },
    {
      "cell_type": "code",
      "metadata": {
        "id": "aSuSXine3HWY",
        "colab_type": "code",
        "colab": {}
      },
      "source": [
        "# quick look of csv data in shell command\n",
        "#!head -n 2 datasets/tmdb_movie_revenue/train.csv"
      ],
      "execution_count": 0,
      "outputs": []
    },
    {
      "cell_type": "code",
      "metadata": {
        "id": "01snuIDNtvvA",
        "colab_type": "code",
        "colab": {}
      },
      "source": [
        "import pandas as pd\n",
        "\n",
        "def load_data(train_set=True, data_path=DATA_PATH):\n",
        "  if train_set:\n",
        "    path=os.path.join(data_path, 'train.csv')\n",
        "  else:\n",
        "    path=os.path.join(data_path, 'test.csv')\n",
        "  return pd.read_csv(path, index_col='id')"
      ],
      "execution_count": 0,
      "outputs": []
    },
    {
      "cell_type": "code",
      "metadata": {
        "id": "fC_7VRDpugqq",
        "colab_type": "code",
        "outputId": "2ec901a1-3c02-4070-e141-116ef1a707bf",
        "colab": {
          "base_uri": "https://localhost:8080/",
          "height": 485
        }
      },
      "source": [
        "movies=load_data()\n",
        "movies.head(2)"
      ],
      "execution_count": 6,
      "outputs": [
        {
          "output_type": "execute_result",
          "data": {
            "text/html": [
              "<div>\n",
              "<style scoped>\n",
              "    .dataframe tbody tr th:only-of-type {\n",
              "        vertical-align: middle;\n",
              "    }\n",
              "\n",
              "    .dataframe tbody tr th {\n",
              "        vertical-align: top;\n",
              "    }\n",
              "\n",
              "    .dataframe thead th {\n",
              "        text-align: right;\n",
              "    }\n",
              "</style>\n",
              "<table border=\"1\" class=\"dataframe\">\n",
              "  <thead>\n",
              "    <tr style=\"text-align: right;\">\n",
              "      <th></th>\n",
              "      <th>belongs_to_collection</th>\n",
              "      <th>budget</th>\n",
              "      <th>genres</th>\n",
              "      <th>homepage</th>\n",
              "      <th>imdb_id</th>\n",
              "      <th>original_language</th>\n",
              "      <th>original_title</th>\n",
              "      <th>overview</th>\n",
              "      <th>popularity</th>\n",
              "      <th>poster_path</th>\n",
              "      <th>production_companies</th>\n",
              "      <th>production_countries</th>\n",
              "      <th>release_date</th>\n",
              "      <th>runtime</th>\n",
              "      <th>spoken_languages</th>\n",
              "      <th>status</th>\n",
              "      <th>tagline</th>\n",
              "      <th>title</th>\n",
              "      <th>Keywords</th>\n",
              "      <th>cast</th>\n",
              "      <th>crew</th>\n",
              "      <th>revenue</th>\n",
              "    </tr>\n",
              "    <tr>\n",
              "      <th>id</th>\n",
              "      <th></th>\n",
              "      <th></th>\n",
              "      <th></th>\n",
              "      <th></th>\n",
              "      <th></th>\n",
              "      <th></th>\n",
              "      <th></th>\n",
              "      <th></th>\n",
              "      <th></th>\n",
              "      <th></th>\n",
              "      <th></th>\n",
              "      <th></th>\n",
              "      <th></th>\n",
              "      <th></th>\n",
              "      <th></th>\n",
              "      <th></th>\n",
              "      <th></th>\n",
              "      <th></th>\n",
              "      <th></th>\n",
              "      <th></th>\n",
              "      <th></th>\n",
              "      <th></th>\n",
              "    </tr>\n",
              "  </thead>\n",
              "  <tbody>\n",
              "    <tr>\n",
              "      <th>1</th>\n",
              "      <td>[{'id': 313576, 'name': 'Hot Tub Time Machine Collection', 'poster_path': '/iEhb00TGPucF0b4joM1i...</td>\n",
              "      <td>14000000</td>\n",
              "      <td>[{'id': 35, 'name': 'Comedy'}]</td>\n",
              "      <td>NaN</td>\n",
              "      <td>tt2637294</td>\n",
              "      <td>en</td>\n",
              "      <td>Hot Tub Time Machine 2</td>\n",
              "      <td>When Lou, who has become the \"father of the Internet,\" is shot by an unknown assailant, Jacob an...</td>\n",
              "      <td>6.575393</td>\n",
              "      <td>/tQtWuwvMf0hCc2QR2tkolwl7c3c.jpg</td>\n",
              "      <td>[{'name': 'Paramount Pictures', 'id': 4}, {'name': 'United Artists', 'id': 60}, {'name': 'Metro-...</td>\n",
              "      <td>[{'iso_3166_1': 'US', 'name': 'United States of America'}]</td>\n",
              "      <td>2/20/15</td>\n",
              "      <td>93.0</td>\n",
              "      <td>[{'iso_639_1': 'en', 'name': 'English'}]</td>\n",
              "      <td>Released</td>\n",
              "      <td>The Laws of Space and Time are About to be Violated.</td>\n",
              "      <td>Hot Tub Time Machine 2</td>\n",
              "      <td>[{'id': 4379, 'name': 'time travel'}, {'id': 9663, 'name': 'sequel'}, {'id': 11830, 'name': 'hot...</td>\n",
              "      <td>[{'cast_id': 4, 'character': 'Lou', 'credit_id': '52fe4ee7c3a36847f82afae7', 'gender': 2, 'id': ...</td>\n",
              "      <td>[{'credit_id': '59ac067c92514107af02c8c8', 'department': 'Directing', 'gender': 0, 'id': 1449071...</td>\n",
              "      <td>12314651</td>\n",
              "    </tr>\n",
              "    <tr>\n",
              "      <th>2</th>\n",
              "      <td>[{'id': 107674, 'name': 'The Princess Diaries Collection', 'poster_path': '/wt5AMbxPTS4Kfjx7Fgm1...</td>\n",
              "      <td>40000000</td>\n",
              "      <td>[{'id': 35, 'name': 'Comedy'}, {'id': 18, 'name': 'Drama'}, {'id': 10751, 'name': 'Family'}, {'i...</td>\n",
              "      <td>NaN</td>\n",
              "      <td>tt0368933</td>\n",
              "      <td>en</td>\n",
              "      <td>The Princess Diaries 2: Royal Engagement</td>\n",
              "      <td>Mia Thermopolis is now a college graduate and on her way to Genovia to take up her duties as pri...</td>\n",
              "      <td>8.248895</td>\n",
              "      <td>/w9Z7A0GHEhIp7etpj0vyKOeU1Wx.jpg</td>\n",
              "      <td>[{'name': 'Walt Disney Pictures', 'id': 2}]</td>\n",
              "      <td>[{'iso_3166_1': 'US', 'name': 'United States of America'}]</td>\n",
              "      <td>8/6/04</td>\n",
              "      <td>113.0</td>\n",
              "      <td>[{'iso_639_1': 'en', 'name': 'English'}]</td>\n",
              "      <td>Released</td>\n",
              "      <td>It can take a lifetime to find true love; she's got 30 days!</td>\n",
              "      <td>The Princess Diaries 2: Royal Engagement</td>\n",
              "      <td>[{'id': 2505, 'name': 'coronation'}, {'id': 4263, 'name': 'duty'}, {'id': 6038, 'name': 'marriag...</td>\n",
              "      <td>[{'cast_id': 1, 'character': 'Mia Thermopolis', 'credit_id': '52fe43fe9251416c7502561f', 'gender...</td>\n",
              "      <td>[{'credit_id': '52fe43fe9251416c7502563d', 'department': 'Directing', 'gender': 2, 'id': 1201, '...</td>\n",
              "      <td>95149435</td>\n",
              "    </tr>\n",
              "  </tbody>\n",
              "</table>\n",
              "</div>"
            ],
            "text/plain": [
              "                                                                                  belongs_to_collection  ...   revenue\n",
              "id                                                                                                       ...          \n",
              "1   [{'id': 313576, 'name': 'Hot Tub Time Machine Collection', 'poster_path': '/iEhb00TGPucF0b4joM1i...  ...  12314651\n",
              "2   [{'id': 107674, 'name': 'The Princess Diaries Collection', 'poster_path': '/wt5AMbxPTS4Kfjx7Fgm1...  ...  95149435\n",
              "\n",
              "[2 rows x 22 columns]"
            ]
          },
          "metadata": {
            "tags": []
          },
          "execution_count": 6
        }
      ]
    },
    {
      "cell_type": "code",
      "metadata": {
        "id": "J1vUEwq9uvHc",
        "colab_type": "code",
        "colab": {}
      },
      "source": [
        "#!head -n 2 'datasets/tmdb_movie_revenue/train.csv'"
      ],
      "execution_count": 0,
      "outputs": []
    },
    {
      "cell_type": "code",
      "metadata": {
        "id": "R3hyrCxK9QEh",
        "colab_type": "code",
        "colab": {}
      },
      "source": [
        "# Some columns contain sort of json format in string format. We can use the pandas `converter` trick to cast string to whatever format we want\n",
        "\n",
        "def string_to_list(x):\n",
        "  return eval(x) if x and x != '#N/A' else []\n",
        "\n",
        "io_columns = [\n",
        "              'belongs_to_collection',\n",
        "              'genres',\n",
        "              'production_companies',\n",
        "              'production_countries',\n",
        "              'spoken_languages',\n",
        "              'Keywords',\n",
        "              'cast',\n",
        "              'crew'\n",
        "]\n",
        "\n",
        "\n",
        "io_params = {\n",
        "    'index_col': 'id',\n",
        "    'converters': {col: string_to_list for col in io_columns}\n",
        "    \n",
        "}\n",
        "\n",
        "def load_data(train_set=True, data_path=DATA_PATH, params=io_params):\n",
        "  if train_set:\n",
        "    path=os.path.join(data_path, 'train.csv')\n",
        "  else:\n",
        "    path=os.path.join(data_path, 'test.csv')\n",
        "  return pd.read_csv(path, **io_params)"
      ],
      "execution_count": 0,
      "outputs": []
    },
    {
      "cell_type": "code",
      "metadata": {
        "id": "7Vfnvljh5ZDf",
        "colab_type": "code",
        "outputId": "4cce3caf-42e1-447e-a110-358766da95a8",
        "colab": {
          "base_uri": "https://localhost:8080/",
          "height": 669
        }
      },
      "source": [
        "movies = load_data()\n",
        "movies.head(3)"
      ],
      "execution_count": 8,
      "outputs": [
        {
          "output_type": "execute_result",
          "data": {
            "text/html": [
              "<div>\n",
              "<style scoped>\n",
              "    .dataframe tbody tr th:only-of-type {\n",
              "        vertical-align: middle;\n",
              "    }\n",
              "\n",
              "    .dataframe tbody tr th {\n",
              "        vertical-align: top;\n",
              "    }\n",
              "\n",
              "    .dataframe thead th {\n",
              "        text-align: right;\n",
              "    }\n",
              "</style>\n",
              "<table border=\"1\" class=\"dataframe\">\n",
              "  <thead>\n",
              "    <tr style=\"text-align: right;\">\n",
              "      <th></th>\n",
              "      <th>belongs_to_collection</th>\n",
              "      <th>budget</th>\n",
              "      <th>genres</th>\n",
              "      <th>homepage</th>\n",
              "      <th>imdb_id</th>\n",
              "      <th>original_language</th>\n",
              "      <th>original_title</th>\n",
              "      <th>overview</th>\n",
              "      <th>popularity</th>\n",
              "      <th>poster_path</th>\n",
              "      <th>production_companies</th>\n",
              "      <th>production_countries</th>\n",
              "      <th>release_date</th>\n",
              "      <th>runtime</th>\n",
              "      <th>spoken_languages</th>\n",
              "      <th>status</th>\n",
              "      <th>tagline</th>\n",
              "      <th>title</th>\n",
              "      <th>Keywords</th>\n",
              "      <th>cast</th>\n",
              "      <th>crew</th>\n",
              "      <th>revenue</th>\n",
              "    </tr>\n",
              "    <tr>\n",
              "      <th>id</th>\n",
              "      <th></th>\n",
              "      <th></th>\n",
              "      <th></th>\n",
              "      <th></th>\n",
              "      <th></th>\n",
              "      <th></th>\n",
              "      <th></th>\n",
              "      <th></th>\n",
              "      <th></th>\n",
              "      <th></th>\n",
              "      <th></th>\n",
              "      <th></th>\n",
              "      <th></th>\n",
              "      <th></th>\n",
              "      <th></th>\n",
              "      <th></th>\n",
              "      <th></th>\n",
              "      <th></th>\n",
              "      <th></th>\n",
              "      <th></th>\n",
              "      <th></th>\n",
              "      <th></th>\n",
              "    </tr>\n",
              "  </thead>\n",
              "  <tbody>\n",
              "    <tr>\n",
              "      <th>1</th>\n",
              "      <td>[{'id': 313576, 'name': 'Hot Tub Time Machine Collection', 'poster_path': '/iEhb00TGPucF0b4joM1i...</td>\n",
              "      <td>14000000</td>\n",
              "      <td>[{'id': 35, 'name': 'Comedy'}]</td>\n",
              "      <td>NaN</td>\n",
              "      <td>tt2637294</td>\n",
              "      <td>en</td>\n",
              "      <td>Hot Tub Time Machine 2</td>\n",
              "      <td>When Lou, who has become the \"father of the Internet,\" is shot by an unknown assailant, Jacob an...</td>\n",
              "      <td>6.575393</td>\n",
              "      <td>/tQtWuwvMf0hCc2QR2tkolwl7c3c.jpg</td>\n",
              "      <td>[{'name': 'Paramount Pictures', 'id': 4}, {'name': 'United Artists', 'id': 60}, {'name': 'Metro-...</td>\n",
              "      <td>[{'iso_3166_1': 'US', 'name': 'United States of America'}]</td>\n",
              "      <td>2/20/15</td>\n",
              "      <td>93.0</td>\n",
              "      <td>[{'iso_639_1': 'en', 'name': 'English'}]</td>\n",
              "      <td>Released</td>\n",
              "      <td>The Laws of Space and Time are About to be Violated.</td>\n",
              "      <td>Hot Tub Time Machine 2</td>\n",
              "      <td>[{'id': 4379, 'name': 'time travel'}, {'id': 9663, 'name': 'sequel'}, {'id': 11830, 'name': 'hot...</td>\n",
              "      <td>[{'cast_id': 4, 'character': 'Lou', 'credit_id': '52fe4ee7c3a36847f82afae7', 'gender': 2, 'id': ...</td>\n",
              "      <td>[{'credit_id': '59ac067c92514107af02c8c8', 'department': 'Directing', 'gender': 0, 'id': 1449071...</td>\n",
              "      <td>12314651</td>\n",
              "    </tr>\n",
              "    <tr>\n",
              "      <th>2</th>\n",
              "      <td>[{'id': 107674, 'name': 'The Princess Diaries Collection', 'poster_path': '/wt5AMbxPTS4Kfjx7Fgm1...</td>\n",
              "      <td>40000000</td>\n",
              "      <td>[{'id': 35, 'name': 'Comedy'}, {'id': 18, 'name': 'Drama'}, {'id': 10751, 'name': 'Family'}, {'i...</td>\n",
              "      <td>NaN</td>\n",
              "      <td>tt0368933</td>\n",
              "      <td>en</td>\n",
              "      <td>The Princess Diaries 2: Royal Engagement</td>\n",
              "      <td>Mia Thermopolis is now a college graduate and on her way to Genovia to take up her duties as pri...</td>\n",
              "      <td>8.248895</td>\n",
              "      <td>/w9Z7A0GHEhIp7etpj0vyKOeU1Wx.jpg</td>\n",
              "      <td>[{'name': 'Walt Disney Pictures', 'id': 2}]</td>\n",
              "      <td>[{'iso_3166_1': 'US', 'name': 'United States of America'}]</td>\n",
              "      <td>8/6/04</td>\n",
              "      <td>113.0</td>\n",
              "      <td>[{'iso_639_1': 'en', 'name': 'English'}]</td>\n",
              "      <td>Released</td>\n",
              "      <td>It can take a lifetime to find true love; she's got 30 days!</td>\n",
              "      <td>The Princess Diaries 2: Royal Engagement</td>\n",
              "      <td>[{'id': 2505, 'name': 'coronation'}, {'id': 4263, 'name': 'duty'}, {'id': 6038, 'name': 'marriag...</td>\n",
              "      <td>[{'cast_id': 1, 'character': 'Mia Thermopolis', 'credit_id': '52fe43fe9251416c7502561f', 'gender...</td>\n",
              "      <td>[{'credit_id': '52fe43fe9251416c7502563d', 'department': 'Directing', 'gender': 2, 'id': 1201, '...</td>\n",
              "      <td>95149435</td>\n",
              "    </tr>\n",
              "    <tr>\n",
              "      <th>3</th>\n",
              "      <td>[]</td>\n",
              "      <td>3300000</td>\n",
              "      <td>[{'id': 18, 'name': 'Drama'}]</td>\n",
              "      <td>http://sonyclassics.com/whiplash/</td>\n",
              "      <td>tt2582802</td>\n",
              "      <td>en</td>\n",
              "      <td>Whiplash</td>\n",
              "      <td>Under the direction of a ruthless instructor, a talented young drummer begins to pursue perfecti...</td>\n",
              "      <td>64.299990</td>\n",
              "      <td>/lIv1QinFqz4dlp5U4lQ6HaiskOZ.jpg</td>\n",
              "      <td>[{'name': 'Bold Films', 'id': 2266}, {'name': 'Blumhouse Productions', 'id': 3172}, {'name': 'Ri...</td>\n",
              "      <td>[{'iso_3166_1': 'US', 'name': 'United States of America'}]</td>\n",
              "      <td>10/10/14</td>\n",
              "      <td>105.0</td>\n",
              "      <td>[{'iso_639_1': 'en', 'name': 'English'}]</td>\n",
              "      <td>Released</td>\n",
              "      <td>The road to greatness can take you to the edge.</td>\n",
              "      <td>Whiplash</td>\n",
              "      <td>[{'id': 1416, 'name': 'jazz'}, {'id': 1523, 'name': 'obsession'}, {'id': 1640, 'name': 'conserva...</td>\n",
              "      <td>[{'cast_id': 5, 'character': 'Andrew Neimann', 'credit_id': '52fe4ef7c3a36847f82b3fc3', 'gender'...</td>\n",
              "      <td>[{'credit_id': '54d5356ec3a3683ba0000039', 'department': 'Production', 'gender': 1, 'id': 494, '...</td>\n",
              "      <td>13092000</td>\n",
              "    </tr>\n",
              "  </tbody>\n",
              "</table>\n",
              "</div>"
            ],
            "text/plain": [
              "                                                                                  belongs_to_collection  ...   revenue\n",
              "id                                                                                                       ...          \n",
              "1   [{'id': 313576, 'name': 'Hot Tub Time Machine Collection', 'poster_path': '/iEhb00TGPucF0b4joM1i...  ...  12314651\n",
              "2   [{'id': 107674, 'name': 'The Princess Diaries Collection', 'poster_path': '/wt5AMbxPTS4Kfjx7Fgm1...  ...  95149435\n",
              "3                                                                                                    []  ...  13092000\n",
              "\n",
              "[3 rows x 22 columns]"
            ]
          },
          "metadata": {
            "tags": []
          },
          "execution_count": 8
        }
      ]
    },
    {
      "cell_type": "code",
      "metadata": {
        "id": "kfmvFgii5olJ",
        "colab_type": "code",
        "outputId": "20ffe476-2ece-45c5-d7af-2d6e35c48830",
        "colab": {
          "base_uri": "https://localhost:8080/",
          "height": 102
        }
      },
      "source": [
        "movies.iloc[:3, 0] # Now we can see the `blongs_to_collection` format become list of dictionaries, instead of string, and nan is empty list."
      ],
      "execution_count": 0,
      "outputs": [
        {
          "output_type": "execute_result",
          "data": {
            "text/plain": [
              "id\n",
              "1    [{'id': 313576, 'name': 'Hot Tub Time Machine ...\n",
              "2    [{'id': 107674, 'name': 'The Princess Diaries ...\n",
              "3                                                   []\n",
              "Name: belongs_to_collection, dtype: object"
            ]
          },
          "metadata": {
            "tags": []
          },
          "execution_count": 10
        }
      ]
    },
    {
      "cell_type": "markdown",
      "metadata": {
        "id": "K4jAYKiqETPP",
        "colab_type": "text"
      },
      "source": [
        "# Quick view of data structure"
      ]
    },
    {
      "cell_type": "code",
      "metadata": {
        "id": "jQ51r3Z_ugFk",
        "colab_type": "code",
        "outputId": "f6e8c131-30a8-4935-9721-c1578023f087",
        "colab": {
          "base_uri": "https://localhost:8080/",
          "height": 476
        }
      },
      "source": [
        "movies.info()"
      ],
      "execution_count": 0,
      "outputs": [
        {
          "output_type": "stream",
          "text": [
            "<class 'pandas.core.frame.DataFrame'>\n",
            "Int64Index: 3000 entries, 1 to 3000\n",
            "Data columns (total 22 columns):\n",
            "belongs_to_collection    3000 non-null object\n",
            "budget                   3000 non-null int64\n",
            "genres                   3000 non-null object\n",
            "homepage                 946 non-null object\n",
            "imdb_id                  3000 non-null object\n",
            "original_language        3000 non-null object\n",
            "original_title           3000 non-null object\n",
            "overview                 2992 non-null object\n",
            "popularity               3000 non-null float64\n",
            "poster_path              2999 non-null object\n",
            "production_companies     3000 non-null object\n",
            "production_countries     3000 non-null object\n",
            "release_date             3000 non-null object\n",
            "runtime                  2998 non-null float64\n",
            "spoken_languages         3000 non-null object\n",
            "status                   3000 non-null object\n",
            "tagline                  2403 non-null object\n",
            "title                    3000 non-null object\n",
            "Keywords                 3000 non-null object\n",
            "cast                     3000 non-null object\n",
            "crew                     3000 non-null object\n",
            "revenue                  3000 non-null int64\n",
            "dtypes: float64(2), int64(2), object(18)\n",
            "memory usage: 619.1+ KB\n"
          ],
          "name": "stdout"
        }
      ]
    },
    {
      "cell_type": "markdown",
      "metadata": {
        "id": "psq4Okq_9w4h",
        "colab_type": "text"
      },
      "source": [
        "this data has only 3000 entries, quite a small dataset. There are 22 columns, including the target column `revenue`. It has four numerical attributes, and the remaining attributes are object type. "
      ]
    },
    {
      "cell_type": "code",
      "metadata": {
        "id": "MMEPB2qB-Ii9",
        "colab_type": "code",
        "outputId": "6e11af7c-61d7-435e-efb0-b64c11e86c19",
        "colab": {
          "base_uri": "https://localhost:8080/",
          "height": 297
        }
      },
      "source": [
        "movies.describe()"
      ],
      "execution_count": 0,
      "outputs": [
        {
          "output_type": "execute_result",
          "data": {
            "text/html": [
              "<div>\n",
              "<style scoped>\n",
              "    .dataframe tbody tr th:only-of-type {\n",
              "        vertical-align: middle;\n",
              "    }\n",
              "\n",
              "    .dataframe tbody tr th {\n",
              "        vertical-align: top;\n",
              "    }\n",
              "\n",
              "    .dataframe thead th {\n",
              "        text-align: right;\n",
              "    }\n",
              "</style>\n",
              "<table border=\"1\" class=\"dataframe\">\n",
              "  <thead>\n",
              "    <tr style=\"text-align: right;\">\n",
              "      <th></th>\n",
              "      <th>budget</th>\n",
              "      <th>popularity</th>\n",
              "      <th>runtime</th>\n",
              "      <th>revenue</th>\n",
              "    </tr>\n",
              "  </thead>\n",
              "  <tbody>\n",
              "    <tr>\n",
              "      <th>count</th>\n",
              "      <td>3.000000e+03</td>\n",
              "      <td>3000.000000</td>\n",
              "      <td>2998.000000</td>\n",
              "      <td>3.000000e+03</td>\n",
              "    </tr>\n",
              "    <tr>\n",
              "      <th>mean</th>\n",
              "      <td>2.253133e+07</td>\n",
              "      <td>8.463274</td>\n",
              "      <td>107.856571</td>\n",
              "      <td>6.672585e+07</td>\n",
              "    </tr>\n",
              "    <tr>\n",
              "      <th>std</th>\n",
              "      <td>3.702609e+07</td>\n",
              "      <td>12.104000</td>\n",
              "      <td>22.086434</td>\n",
              "      <td>1.375323e+08</td>\n",
              "    </tr>\n",
              "    <tr>\n",
              "      <th>min</th>\n",
              "      <td>0.000000e+00</td>\n",
              "      <td>0.000001</td>\n",
              "      <td>0.000000</td>\n",
              "      <td>1.000000e+00</td>\n",
              "    </tr>\n",
              "    <tr>\n",
              "      <th>25%</th>\n",
              "      <td>0.000000e+00</td>\n",
              "      <td>4.018053</td>\n",
              "      <td>94.000000</td>\n",
              "      <td>2.379808e+06</td>\n",
              "    </tr>\n",
              "    <tr>\n",
              "      <th>50%</th>\n",
              "      <td>8.000000e+06</td>\n",
              "      <td>7.374861</td>\n",
              "      <td>104.000000</td>\n",
              "      <td>1.680707e+07</td>\n",
              "    </tr>\n",
              "    <tr>\n",
              "      <th>75%</th>\n",
              "      <td>2.900000e+07</td>\n",
              "      <td>10.890983</td>\n",
              "      <td>118.000000</td>\n",
              "      <td>6.891920e+07</td>\n",
              "    </tr>\n",
              "    <tr>\n",
              "      <th>max</th>\n",
              "      <td>3.800000e+08</td>\n",
              "      <td>294.337037</td>\n",
              "      <td>338.000000</td>\n",
              "      <td>1.519558e+09</td>\n",
              "    </tr>\n",
              "  </tbody>\n",
              "</table>\n",
              "</div>"
            ],
            "text/plain": [
              "             budget   popularity      runtime       revenue\n",
              "count  3.000000e+03  3000.000000  2998.000000  3.000000e+03\n",
              "mean   2.253133e+07     8.463274   107.856571  6.672585e+07\n",
              "std    3.702609e+07    12.104000    22.086434  1.375323e+08\n",
              "min    0.000000e+00     0.000001     0.000000  1.000000e+00\n",
              "25%    0.000000e+00     4.018053    94.000000  2.379808e+06\n",
              "50%    8.000000e+06     7.374861   104.000000  1.680707e+07\n",
              "75%    2.900000e+07    10.890983   118.000000  6.891920e+07\n",
              "max    3.800000e+08   294.337037   338.000000  1.519558e+09"
            ]
          },
          "metadata": {
            "tags": []
          },
          "execution_count": 55
        }
      ]
    },
    {
      "cell_type": "code",
      "metadata": {
        "id": "TDDTVCZP-HAp",
        "colab_type": "code",
        "outputId": "44185346-e928-4418-9688-af53df3337db",
        "colab": {
          "base_uri": "https://localhost:8080/",
          "height": 746
        }
      },
      "source": [
        "from pandas.plotting import scatter_matrix\n",
        "\n",
        "scatter_matrix(movies, figsize=(12, 10));\n",
        "save_fig('scatter_matrix_of_movies')"
      ],
      "execution_count": 0,
      "outputs": [
        {
          "output_type": "stream",
          "text": [
            "Saving Picture:  scatter_matrix_of_movies\n"
          ],
          "name": "stdout"
        },
        {
          "output_type": "display_data",
          "data": {
            "image/png": "[encoded data removed]",
            "text/plain": [
              "<Figure size 864x720 with 16 Axes>"
            ]
          },
          "metadata": {
            "tags": []
          }
        }
      ]
    },
    {
      "cell_type": "markdown",
      "metadata": {
        "id": "2LI2XDDc_ArQ",
        "colab_type": "text"
      },
      "source": [
        "**`budget`** and **`revenue`** appear to have pretty positive linear relation. the more budget that the movie spent, the more revenue it gaine. Most of times are true especially for commercial movies. But there are exceptions nowadays. There are data scattered far from the main area.\n",
        "\n",
        "Popularity is stable regardless of revenue and popularity increases. However, we can also see that the images has been reduced/squeezed by the outliers from 30 and beyond. We need to clean the outliers to have a closer look on this attributes. **`runtime`** is normally distributed. We can find out the average runtime for most of the movies from this dataset. \n",
        "\n",
        "Lastly, notice that the unit of popularity and runtime (from 0 to 300) is much less than budget and revenue (million). We can change that as well for buiding the regression model."
      ]
    },
    {
      "cell_type": "markdown",
      "metadata": {
        "id": "o4EiaULhE3Iu",
        "colab_type": "text"
      },
      "source": [
        "# Test set\n",
        "\n",
        "Let's set aside test set so we will not have visibility on the patterns that might seem interesting in test set and get overfitting in our models. "
      ]
    },
    {
      "cell_type": "code",
      "metadata": {
        "id": "YF-lRG_LE08v",
        "colab_type": "code",
        "colab": {
          "base_uri": "https://localhost:8080/",
          "height": 68
        },
        "outputId": "c0c31951-c9a7-42a0-a41b-d61ab22f7011"
      },
      "source": [
        "from sklearn.model_selection import train_test_split\n",
        "\n",
        "dev_set, val_set = train_test_split(movies, test_size=0.3, random_state=42)\n",
        "print(f'shape of dev set: {dev_set.shape}')\n",
        "print(f'\\nshape of validation set: {val_set.shape}')"
      ],
      "execution_count": 29,
      "outputs": [
        {
          "output_type": "stream",
          "text": [
            "shape of dev set: (2100, 22)\n",
            "\n",
            "shape of validation set: (900, 22)\n"
          ],
          "name": "stdout"
        }
      ]
    },
    {
      "cell_type": "markdown",
      "metadata": {
        "id": "njPbaMa-ETaL",
        "colab_type": "text"
      },
      "source": [
        "# Analysis of data with visualisation"
      ]
    },
    {
      "cell_type": "code",
      "metadata": {
        "id": "o-njdzwNEglL",
        "colab_type": "code",
        "outputId": "2317440e-217f-42f5-dd4d-e1ce96f40a4e",
        "colab": {
          "base_uri": "https://localhost:8080/",
          "height": 85
        }
      },
      "source": [
        "# We can take a quick look at the simple dataset for a quick start (the ones not in io_params, not in list of dictionaries.)\n",
        "\n",
        "potential_col = dev_set.columns.difference(io_columns)\n",
        "potential_col"
      ],
      "execution_count": 10,
      "outputs": [
        {
          "output_type": "execute_result",
          "data": {
            "text/plain": [
              "Index(['budget', 'homepage', 'imdb_id', 'original_language', 'original_title',\n",
              "       'overview', 'popularity', 'poster_path', 'release_date', 'revenue',\n",
              "       'runtime', 'status', 'tagline', 'title'],\n",
              "      dtype='object')"
            ]
          },
          "metadata": {
            "tags": []
          },
          "execution_count": 10
        }
      ]
    },
    {
      "cell_type": "code",
      "metadata": {
        "id": "nptiRrILwVF8",
        "colab_type": "code",
        "outputId": "0e3e5825-031f-4de0-adcd-9199eed8fae0",
        "colab": {
          "base_uri": "https://localhost:8080/",
          "height": 524
        }
      },
      "source": [
        "# Original_language should be low cardinality. Good start to look at\n",
        "print('Total different languages: {}'.format(dev_set.original_language.nunique()))\n",
        "dev_set['original_language'].value_counts().plot(kind='bar', figsize=(10, 8));"
      ],
      "execution_count": 0,
      "outputs": [
        {
          "output_type": "stream",
          "text": [
            "Total different languages: 33\n"
          ],
          "name": "stdout"
        },
        {
          "output_type": "execute_result",
          "data": {
            "text/plain": [
              "<matplotlib.axes._subplots.AxesSubplot at 0x7f7aecafa860>"
            ]
          },
          "metadata": {
            "tags": []
          },
          "execution_count": 16
        },
        {
          "output_type": "display_data",
          "data": {
            "image/png": "[encoded data removed]",
            "text/plain": [
              "<Figure size 720x576 with 1 Axes>"
            ]
          },
          "metadata": {
            "tags": []
          }
        }
      ]
    },
    {
      "cell_type": "code",
      "metadata": {
        "id": "VNcc0cXhJFyy",
        "colab_type": "code",
        "outputId": "c732c573-761c-4ffb-cf5c-bc4e2adf1188",
        "colab": {
          "base_uri": "https://localhost:8080/",
          "height": 1000
        }
      },
      "source": [
        "import seaborn as sns\n",
        "import matplotlib.pyplot as plt\n",
        "sns.set(style=\"white\", context=\"talk\")\n",
        "\n",
        "# Set up the matplotlib figure\n",
        "f, (ax1, ax2, ax3) = plt.subplots(3, 1, figsize=(15, 15), sharex=True)\n",
        "\n",
        "x=dev_['original_language']\n",
        "y1=dev_['revenue']/1000000\n",
        "y2=dev_['budget']/1000000\n",
        "y3=dev_['popularity']\n",
        "\n",
        "# revenue plot\n",
        "sns.boxplot(x=x, y=y1, palette=\"vlag\", ax=ax1);\n",
        "ax1.axhline(0, color=\"k\", clip_on=False)\n",
        "ax1.set_ylabel(\"Revenue\")\n",
        "\n",
        "# budget plot\n",
        "sns.boxplot(x=x, y=y2, palette=\"deep\", ax=ax2);\n",
        "ax2.axhline(0, color=\"k\", clip_on=False)\n",
        "ax2.set_ylabel(\"Budget\")\n",
        "\n",
        "# popularity plot\n",
        "sns.boxplot(x=x, y=y3, palette=\"rocket\", ax=ax3);\n",
        "ax3.axhline(0, color=\"k\", clip_on=False)\n",
        "ax3.set_ylabel(\"Popularity\")\n",
        "\n",
        "# Finalize the plot\n",
        "sns.despine(bottom=True);\n",
        "plt.setp(f.axes);\n",
        "plt.tight_layout(h_pad=2)\n",
        "save_fig('box_plot_languaes_budget_revenue_popularity')"
      ],
      "execution_count": 0,
      "outputs": [
        {
          "output_type": "stream",
          "text": [
            "  adjustable: {'box', 'datalim'}\n",
            "  agg_filter: a filter function, which takes a (m, n, 3) float array and a dpi value, and returns a (m, n, 3) array\n",
            "  alpha: float\n",
            "  anchor: 2-tuple of floats or {'C', 'SW', 'S', 'SE', ...}\n",
            "  animated: bool\n",
            "  aspect: {'auto', 'equal'} or num\n",
            "  autoscale_on: bool\n",
            "  autoscalex_on: bool\n",
            "  autoscaley_on: bool\n",
            "  axes_locator: Callable[[Axes, Renderer], Bbox]\n",
            "  axisbelow: bool or 'line'\n",
            "  clip_box: `.Bbox`\n",
            "  clip_on: bool\n",
            "  clip_path: [(`~matplotlib.path.Path`, `.Transform`) | `.Patch` | None]\n",
            "  contains: callable\n",
            "  facecolor: color\n",
            "  fc: color\n",
            "  figure: `.Figure`\n",
            "  frame_on: bool\n",
            "  gid: str\n",
            "  in_layout: bool\n",
            "  label: object\n",
            "  navigate: bool\n",
            "  navigate_mode: unknown\n",
            "  path_effects: `.AbstractPathEffect`\n",
            "  picker: None or bool or float or callable\n",
            "  position: [left, bottom, width, height] or `~matplotlib.transforms.Bbox`\n",
            "  rasterization_zorder: float or None\n",
            "  rasterized: bool or None\n",
            "  sketch_params: (scale: float, length: float, randomness: float)\n",
            "  snap: bool or None\n",
            "  subplotspec: unknown\n",
            "  title: str\n",
            "  transform: `.Transform`\n",
            "  url: str\n",
            "  visible: bool\n",
            "  xbound: unknown\n",
            "  xlabel: str\n",
            "  xlim: (left: float, right: float)\n",
            "  xmargin: float greater than -0.5\n",
            "  xscale: {\"linear\", \"log\", \"symlog\", \"logit\", ...}\n",
            "  xticklabels: List[str]\n",
            "  xticks: list\n",
            "  ybound: unknown\n",
            "  ylabel: str\n",
            "  ylim: (bottom: float, top: float)\n",
            "  ymargin: float greater than -0.5\n",
            "  yscale: {\"linear\", \"log\", \"symlog\", \"logit\", ...}\n",
            "  yticklabels: List[str]\n",
            "  yticks: list\n",
            "  zorder: float\n",
            "Saving Picture:  box_plot_languaes_budget_revenue_popularity\n"
          ],
          "name": "stdout"
        },
        {
          "output_type": "display_data",
          "data": {
            "image/png": "[encoded data removed]",
            "text/plain": [
              "<Figure size 1080x1080 with 3 Axes>"
            ]
          },
          "metadata": {
            "tags": []
          }
        }
      ]
    },
    {
      "cell_type": "markdown",
      "metadata": {
        "id": "4VJDTtK_Hjvr",
        "colab_type": "text"
      },
      "source": [
        "More than half of those languages do not have enough data to be represensitive. We can consider to group the minority as an independent group. The group of `revenue`, `budget` and `popularity` also see lots of outliers lurking at the high end in the `English` category. Other language category are more centered."
      ]
    },
    {
      "cell_type": "code",
      "metadata": {
        "id": "nAed6ysVIIEa",
        "colab_type": "code",
        "outputId": "94c90929-0b6d-4f04-a4bc-5425eab57481",
        "colab": {
          "base_uri": "https://localhost:8080/",
          "height": 68
        }
      },
      "source": [
        "# Let's take a look at the status\n",
        "dev_set.status.value_counts()"
      ],
      "execution_count": 0,
      "outputs": [
        {
          "output_type": "execute_result",
          "data": {
            "text/plain": [
              "Released    2098\n",
              "Rumored        2\n",
              "Name: status, dtype: int64"
            ]
          },
          "metadata": {
            "tags": []
          },
          "execution_count": 28
        }
      ]
    },
    {
      "cell_type": "code",
      "metadata": {
        "id": "eMA1Q5IDPbFJ",
        "colab_type": "code",
        "outputId": "2dbe19b1-1025-403e-f5ce-283de4d2a7cf",
        "colab": {
          "base_uri": "https://localhost:8080/",
          "height": 349
        }
      },
      "source": [
        "dev_set[dev_set.status == 'Rumored']"
      ],
      "execution_count": 0,
      "outputs": [
        {
          "output_type": "execute_result",
          "data": {
            "text/html": [
              "<div>\n",
              "<style scoped>\n",
              "    .dataframe tbody tr th:only-of-type {\n",
              "        vertical-align: middle;\n",
              "    }\n",
              "\n",
              "    .dataframe tbody tr th {\n",
              "        vertical-align: top;\n",
              "    }\n",
              "\n",
              "    .dataframe thead th {\n",
              "        text-align: right;\n",
              "    }\n",
              "</style>\n",
              "<table border=\"1\" class=\"dataframe\">\n",
              "  <thead>\n",
              "    <tr style=\"text-align: right;\">\n",
              "      <th></th>\n",
              "      <th>belongs_to_collection</th>\n",
              "      <th>budget</th>\n",
              "      <th>genres</th>\n",
              "      <th>homepage</th>\n",
              "      <th>imdb_id</th>\n",
              "      <th>original_language</th>\n",
              "      <th>original_title</th>\n",
              "      <th>overview</th>\n",
              "      <th>popularity</th>\n",
              "      <th>poster_path</th>\n",
              "      <th>production_companies</th>\n",
              "      <th>production_countries</th>\n",
              "      <th>release_date</th>\n",
              "      <th>runtime</th>\n",
              "      <th>spoken_languages</th>\n",
              "      <th>status</th>\n",
              "      <th>tagline</th>\n",
              "      <th>title</th>\n",
              "      <th>Keywords</th>\n",
              "      <th>cast</th>\n",
              "      <th>crew</th>\n",
              "      <th>revenue</th>\n",
              "    </tr>\n",
              "    <tr>\n",
              "      <th>id</th>\n",
              "      <th></th>\n",
              "      <th></th>\n",
              "      <th></th>\n",
              "      <th></th>\n",
              "      <th></th>\n",
              "      <th></th>\n",
              "      <th></th>\n",
              "      <th></th>\n",
              "      <th></th>\n",
              "      <th></th>\n",
              "      <th></th>\n",
              "      <th></th>\n",
              "      <th></th>\n",
              "      <th></th>\n",
              "      <th></th>\n",
              "      <th></th>\n",
              "      <th></th>\n",
              "      <th></th>\n",
              "      <th></th>\n",
              "      <th></th>\n",
              "      <th></th>\n",
              "      <th></th>\n",
              "    </tr>\n",
              "  </thead>\n",
              "  <tbody>\n",
              "    <tr>\n",
              "      <th>610</th>\n",
              "      <td>[{'id': 144200, 'name': 'Swan Princess Series'...</td>\n",
              "      <td>0</td>\n",
              "      <td>[{'id': 14, 'name': 'Fantasy'}, {'id': 16, 'na...</td>\n",
              "      <td>NaN</td>\n",
              "      <td>tt0120254</td>\n",
              "      <td>en</td>\n",
              "      <td>The Swan Princess: Escape from Castle Mountain</td>\n",
              "      <td>The first wedding anniversary of Princess Odet...</td>\n",
              "      <td>5.121309</td>\n",
              "      <td>/oTEgvTpAIugS7OH6oIoVZkmV3C3.jpg</td>\n",
              "      <td>[]</td>\n",
              "      <td>[]</td>\n",
              "      <td>1/1/97</td>\n",
              "      <td>71.0</td>\n",
              "      <td>[{'iso_639_1': 'da', 'name': 'Dansk'}, {'iso_6...</td>\n",
              "      <td>Rumored</td>\n",
              "      <td>It Will Take All Her Magic to Rescue Her Friends!</td>\n",
              "      <td>The Swan Princess: Escape from Castle Mountain</td>\n",
              "      <td>[{'id': 3071, 'name': 'prince'}, {'id': 4456, ...</td>\n",
              "      <td>[{'cast_id': 2, 'character': 'Odette (voice)',...</td>\n",
              "      <td>[{'credit_id': '52fe488bc3a36847f816cfd3', 'de...</td>\n",
              "      <td>273644</td>\n",
              "    </tr>\n",
              "    <tr>\n",
              "      <th>1008</th>\n",
              "      <td>[]</td>\n",
              "      <td>0</td>\n",
              "      <td>[{'id': 35, 'name': 'Comedy'}]</td>\n",
              "      <td>NaN</td>\n",
              "      <td>tt1860180</td>\n",
              "      <td>en</td>\n",
              "      <td>Billy Gardell: Halftime</td>\n",
              "      <td>Billy Gardell, the star of CBS' hit comedy \"Mi...</td>\n",
              "      <td>0.007877</td>\n",
              "      <td>/3ypM4bwZTvUfXiKJTs0BaEZuBhe.jpg</td>\n",
              "      <td>[]</td>\n",
              "      <td>[{'iso_3166_1': 'US', 'name': 'United States o...</td>\n",
              "      <td>2/5/11</td>\n",
              "      <td>60.0</td>\n",
              "      <td>[{'iso_639_1': 'en', 'name': 'English'}]</td>\n",
              "      <td>Rumored</td>\n",
              "      <td>NaN</td>\n",
              "      <td>Billy Gardell: Halftime</td>\n",
              "      <td>[]</td>\n",
              "      <td>[{'cast_id': 9, 'character': 'Himself', 'credi...</td>\n",
              "      <td>[{'credit_id': '52fe4be1c3a368484e19d265', 'de...</td>\n",
              "      <td>60</td>\n",
              "    </tr>\n",
              "  </tbody>\n",
              "</table>\n",
              "</div>"
            ],
            "text/plain": [
              "                                  belongs_to_collection  ...  revenue\n",
              "id                                                       ...         \n",
              "610   [{'id': 144200, 'name': 'Swan Princess Series'...  ...   273644\n",
              "1008                                                 []  ...       60\n",
              "\n",
              "[2 rows x 22 columns]"
            ]
          },
          "metadata": {
            "tags": []
          },
          "execution_count": 29
        }
      ]
    },
    {
      "cell_type": "markdown",
      "metadata": {
        "id": "3ISjhP8GQtyw",
        "colab_type": "text"
      },
      "source": [
        "# clean data"
      ]
    },
    {
      "cell_type": "code",
      "metadata": {
        "id": "qJDa92DLPix_",
        "colab_type": "code",
        "outputId": "4aee4e5e-f309-4eec-88da-cf0c4a14b916",
        "colab": {
          "base_uri": "https://localhost:8080/",
          "height": 635
        }
      },
      "source": [
        "# clean up the list of dictionary format\n",
        "dev_set.head(3)"
      ],
      "execution_count": 0,
      "outputs": [
        {
          "output_type": "execute_result",
          "data": {
            "text/html": [
              "<div>\n",
              "<style scoped>\n",
              "    .dataframe tbody tr th:only-of-type {\n",
              "        vertical-align: middle;\n",
              "    }\n",
              "\n",
              "    .dataframe tbody tr th {\n",
              "        vertical-align: top;\n",
              "    }\n",
              "\n",
              "    .dataframe thead th {\n",
              "        text-align: right;\n",
              "    }\n",
              "</style>\n",
              "<table border=\"1\" class=\"dataframe\">\n",
              "  <thead>\n",
              "    <tr style=\"text-align: right;\">\n",
              "      <th></th>\n",
              "      <th>belongs_to_collection</th>\n",
              "      <th>budget</th>\n",
              "      <th>genres</th>\n",
              "      <th>homepage</th>\n",
              "      <th>imdb_id</th>\n",
              "      <th>original_language</th>\n",
              "      <th>original_title</th>\n",
              "      <th>overview</th>\n",
              "      <th>popularity</th>\n",
              "      <th>poster_path</th>\n",
              "      <th>production_companies</th>\n",
              "      <th>production_countries</th>\n",
              "      <th>release_date</th>\n",
              "      <th>runtime</th>\n",
              "      <th>spoken_languages</th>\n",
              "      <th>status</th>\n",
              "      <th>tagline</th>\n",
              "      <th>title</th>\n",
              "      <th>Keywords</th>\n",
              "      <th>cast</th>\n",
              "      <th>crew</th>\n",
              "      <th>revenue</th>\n",
              "    </tr>\n",
              "    <tr>\n",
              "      <th>id</th>\n",
              "      <th></th>\n",
              "      <th></th>\n",
              "      <th></th>\n",
              "      <th></th>\n",
              "      <th></th>\n",
              "      <th></th>\n",
              "      <th></th>\n",
              "      <th></th>\n",
              "      <th></th>\n",
              "      <th></th>\n",
              "      <th></th>\n",
              "      <th></th>\n",
              "      <th></th>\n",
              "      <th></th>\n",
              "      <th></th>\n",
              "      <th></th>\n",
              "      <th></th>\n",
              "      <th></th>\n",
              "      <th></th>\n",
              "      <th></th>\n",
              "      <th></th>\n",
              "      <th></th>\n",
              "    </tr>\n",
              "  </thead>\n",
              "  <tbody>\n",
              "    <tr>\n",
              "      <th>612</th>\n",
              "      <td>[]</td>\n",
              "      <td>8575000</td>\n",
              "      <td>[{'id': 53, 'name': 'Thriller'}, {'id': 18, 'name': 'Drama'}, {'id': 10749, 'name': 'Romance'}]</td>\n",
              "      <td>NaN</td>\n",
              "      <td>tt4016934</td>\n",
              "      <td>ko</td>\n",
              "      <td>아가씨</td>\n",
              "      <td>1930s Korea, in the period of Japanese occupation, a new girl (Sookee) is hired as a handmaiden ...</td>\n",
              "      <td>16.727405</td>\n",
              "      <td>/wvzfK5QR6dGLwND8MCzWjsQWG4Q.jpg</td>\n",
              "      <td>[{'name': 'CJ Entertainment', 'id': 7036}, {'name': 'Moho Film', 'id': 34725}, {'name': 'Yong Fi...</td>\n",
              "      <td>[{'iso_3166_1': 'KR', 'name': 'South Korea'}]</td>\n",
              "      <td>6/1/16</td>\n",
              "      <td>145.0</td>\n",
              "      <td>[{'iso_639_1': 'ja', 'name': '日本語'}, {'iso_639_1': 'ko', 'name': '한국어/조선말'}]</td>\n",
              "      <td>Released</td>\n",
              "      <td>Never did they expect to get into a controversial relationship...</td>\n",
              "      <td>The Handmaiden</td>\n",
              "      <td>[{'id': 293, 'name': 'female nudity'}, {'id': 3202, 'name': 'con man'}, {'id': 3430, 'name': 'pi...</td>\n",
              "      <td>[{'cast_id': 3, 'character': 'Lady Hideko', 'credit_id': '564beaf19251414dd1005414', 'gender': 1...</td>\n",
              "      <td>[{'credit_id': '54056d0b0e0a2658f100c167', 'department': 'Directing', 'gender': 2, 'id': 10099, ...</td>\n",
              "      <td>1983204</td>\n",
              "    </tr>\n",
              "    <tr>\n",
              "      <th>531</th>\n",
              "      <td>[{'id': 366444, 'name': 'Demetrius Filmreihe', 'poster_path': None, 'backdrop_path': None}]</td>\n",
              "      <td>4100000</td>\n",
              "      <td>[{'id': 18, 'name': 'Drama'}]</td>\n",
              "      <td>NaN</td>\n",
              "      <td>tt0046247</td>\n",
              "      <td>en</td>\n",
              "      <td>The Robe</td>\n",
              "      <td>Marcellus is a tribune in the time of Christ. He is in charge of the group that is assigned to c...</td>\n",
              "      <td>3.826281</td>\n",
              "      <td>/v3Bf2Tfbgdj5fOKbIfQvH7YPlFD.jpg</td>\n",
              "      <td>[{'name': 'Twentieth Century Fox Film Corporation', 'id': 306}]</td>\n",
              "      <td>[{'iso_3166_1': 'US', 'name': 'United States of America'}]</td>\n",
              "      <td>9/16/53</td>\n",
              "      <td>135.0</td>\n",
              "      <td>[{'iso_639_1': 'en', 'name': 'English'}]</td>\n",
              "      <td>Released</td>\n",
              "      <td>The first motion picture in CinemaScope--the modern miracle you see without glasses!</td>\n",
              "      <td>The Robe</td>\n",
              "      <td>[{'id': 3571, 'name': 'crucifixion'}, {'id': 5049, 'name': 'ancient rome'}]</td>\n",
              "      <td>[{'cast_id': 1, 'character': 'Marcellus Gallio', 'credit_id': '52fe4603c3a368484e07be07', 'gende...</td>\n",
              "      <td>[{'credit_id': '52fe4603c3a368484e07be21', 'department': 'Directing', 'gender': 2, 'id': 33064, ...</td>\n",
              "      <td>36000000</td>\n",
              "    </tr>\n",
              "    <tr>\n",
              "      <th>2788</th>\n",
              "      <td>[]</td>\n",
              "      <td>80000000</td>\n",
              "      <td>[{'id': 28, 'name': 'Action'}, {'id': 53, 'name': 'Thriller'}, {'id': 878, 'name': 'Science Fict...</td>\n",
              "      <td>NaN</td>\n",
              "      <td>tt1037705</td>\n",
              "      <td>en</td>\n",
              "      <td>The Book of Eli</td>\n",
              "      <td>A post-apocalyptic tale, in which a lone man fights his way across America in order to protect a...</td>\n",
              "      <td>14.398530</td>\n",
              "      <td>/qL3FnEug9DyBcaBXVb0oT3DJMJu.jpg</td>\n",
              "      <td>[{'name': 'Alcon Entertainment', 'id': 1088}, {'name': 'Silver Pictures', 'id': 1885}]</td>\n",
              "      <td>[{'iso_3166_1': 'US', 'name': 'United States of America'}]</td>\n",
              "      <td>1/14/10</td>\n",
              "      <td>118.0</td>\n",
              "      <td>[{'iso_639_1': 'en', 'name': 'English'}]</td>\n",
              "      <td>Released</td>\n",
              "      <td>Some will kill to have it. He will kill to protect it.</td>\n",
              "      <td>The Book of Eli</td>\n",
              "      <td>[{'id': 3096, 'name': 'book'}, {'id': 4458, 'name': 'post-apocalyptic'}, {'id': 4565, 'name': 'd...</td>\n",
              "      <td>[{'cast_id': 1, 'character': 'Eli', 'credit_id': '52fe43e9c3a368484e005825', 'gender': 2, 'id': ...</td>\n",
              "      <td>[{'credit_id': '52fe43e9c3a368484e0058ad', 'department': 'Camera', 'gender': 2, 'id': 36, 'job':...</td>\n",
              "      <td>157107755</td>\n",
              "    </tr>\n",
              "  </tbody>\n",
              "</table>\n",
              "</div>"
            ],
            "text/plain": [
              "                                                                            belongs_to_collection  ...    revenue\n",
              "id                                                                                                 ...           \n",
              "612                                                                                            []  ...    1983204\n",
              "531   [{'id': 366444, 'name': 'Demetrius Filmreihe', 'poster_path': None, 'backdrop_path': None}]  ...   36000000\n",
              "2788                                                                                           []  ...  157107755\n",
              "\n",
              "[3 rows x 22 columns]"
            ]
          },
          "metadata": {
            "tags": []
          },
          "execution_count": 115
        }
      ]
    },
    {
      "cell_type": "code",
      "metadata": {
        "id": "Ub64JSRQK6t9",
        "colab_type": "code",
        "colab": {}
      },
      "source": [
        "from pandas.io.json import json_normalize\n",
        "\n",
        "list_to_dict = lambda x: x[0] if x and isinstance(x, list) else {}\n",
        "\n",
        "def split_json_to_cols(col_names=io_columns, data=dev_set):\n",
        "  newdata = data.copy()\n",
        "\n",
        "  for colname in col_names:\n",
        "    column_unlist = newdata[colname].apply(list_to_dict)\n",
        "    df = json_normalize(column_unlist)\n",
        "    df.index = data.index\n",
        "    new_df_names = [colname + '_' + name for name in df.columns]\n",
        "    df.columns = new_df_names\n",
        "\n",
        "    # change the column '.._id' to object type instead of float\n",
        "    if df.columns.str.contains('_id').any():\n",
        "      id_ind = np.where(df.columns.str.contains('_id'))[0]\n",
        "      df.iloc[:, id_ind] = df.iloc[:, id_ind].astype('object')\n",
        "\n",
        "    newdata.drop(colname, axis=1, inplace=True)\n",
        "    #newdata.merge(df, left_index=True, right_index=True)\n",
        "    newdata=pd.concat([newdata, df], axis=1)\n",
        "\n",
        "  return newdata"
      ],
      "execution_count": 0,
      "outputs": []
    },
    {
      "cell_type": "code",
      "metadata": {
        "id": "BOJ1MBq0WBoJ",
        "colab_type": "code",
        "outputId": "9c1976ba-12c0-46d6-e1c5-18e525ae72dd",
        "colab": {
          "base_uri": "https://localhost:8080/",
          "height": 652
        }
      },
      "source": [
        "clean_dev = split_json_to_cols()\n",
        "clean_test = split_json_to_cols(data=val_set)\n",
        "\n",
        "print(f'shape of dataset after cleaning: {clean_dev.shape}')\n",
        "display(clean_dev.head(3))"
      ],
      "execution_count": 28,
      "outputs": [
        {
          "output_type": "stream",
          "text": [
            "shape of dataset after cleaning: (2100, 43)\n"
          ],
          "name": "stdout"
        },
        {
          "output_type": "display_data",
          "data": {
            "text/html": [
              "<div>\n",
              "<style scoped>\n",
              "    .dataframe tbody tr th:only-of-type {\n",
              "        vertical-align: middle;\n",
              "    }\n",
              "\n",
              "    .dataframe tbody tr th {\n",
              "        vertical-align: top;\n",
              "    }\n",
              "\n",
              "    .dataframe thead th {\n",
              "        text-align: right;\n",
              "    }\n",
              "</style>\n",
              "<table border=\"1\" class=\"dataframe\">\n",
              "  <thead>\n",
              "    <tr style=\"text-align: right;\">\n",
              "      <th></th>\n",
              "      <th>budget</th>\n",
              "      <th>homepage</th>\n",
              "      <th>imdb_id</th>\n",
              "      <th>original_language</th>\n",
              "      <th>original_title</th>\n",
              "      <th>overview</th>\n",
              "      <th>popularity</th>\n",
              "      <th>poster_path</th>\n",
              "      <th>release_date</th>\n",
              "      <th>runtime</th>\n",
              "      <th>status</th>\n",
              "      <th>tagline</th>\n",
              "      <th>title</th>\n",
              "      <th>revenue</th>\n",
              "      <th>belongs_to_collection_id</th>\n",
              "      <th>belongs_to_collection_name</th>\n",
              "      <th>belongs_to_collection_poster_path</th>\n",
              "      <th>belongs_to_collection_backdrop_path</th>\n",
              "      <th>genres_id</th>\n",
              "      <th>genres_name</th>\n",
              "      <th>production_companies_name</th>\n",
              "      <th>production_companies_id</th>\n",
              "      <th>production_countries_iso_3166_1</th>\n",
              "      <th>production_countries_name</th>\n",
              "      <th>spoken_languages_iso_639_1</th>\n",
              "      <th>spoken_languages_name</th>\n",
              "      <th>Keywords_id</th>\n",
              "      <th>Keywords_name</th>\n",
              "      <th>cast_cast_id</th>\n",
              "      <th>cast_character</th>\n",
              "      <th>cast_credit_id</th>\n",
              "      <th>cast_gender</th>\n",
              "      <th>cast_id</th>\n",
              "      <th>cast_name</th>\n",
              "      <th>cast_order</th>\n",
              "      <th>cast_profile_path</th>\n",
              "      <th>crew_credit_id</th>\n",
              "      <th>crew_department</th>\n",
              "      <th>crew_gender</th>\n",
              "      <th>crew_id</th>\n",
              "      <th>crew_job</th>\n",
              "      <th>crew_name</th>\n",
              "      <th>crew_profile_path</th>\n",
              "    </tr>\n",
              "    <tr>\n",
              "      <th>id</th>\n",
              "      <th></th>\n",
              "      <th></th>\n",
              "      <th></th>\n",
              "      <th></th>\n",
              "      <th></th>\n",
              "      <th></th>\n",
              "      <th></th>\n",
              "      <th></th>\n",
              "      <th></th>\n",
              "      <th></th>\n",
              "      <th></th>\n",
              "      <th></th>\n",
              "      <th></th>\n",
              "      <th></th>\n",
              "      <th></th>\n",
              "      <th></th>\n",
              "      <th></th>\n",
              "      <th></th>\n",
              "      <th></th>\n",
              "      <th></th>\n",
              "      <th></th>\n",
              "      <th></th>\n",
              "      <th></th>\n",
              "      <th></th>\n",
              "      <th></th>\n",
              "      <th></th>\n",
              "      <th></th>\n",
              "      <th></th>\n",
              "      <th></th>\n",
              "      <th></th>\n",
              "      <th></th>\n",
              "      <th></th>\n",
              "      <th></th>\n",
              "      <th></th>\n",
              "      <th></th>\n",
              "      <th></th>\n",
              "      <th></th>\n",
              "      <th></th>\n",
              "      <th></th>\n",
              "      <th></th>\n",
              "      <th></th>\n",
              "      <th></th>\n",
              "      <th></th>\n",
              "    </tr>\n",
              "  </thead>\n",
              "  <tbody>\n",
              "    <tr>\n",
              "      <th>612</th>\n",
              "      <td>8575000</td>\n",
              "      <td>NaN</td>\n",
              "      <td>tt4016934</td>\n",
              "      <td>ko</td>\n",
              "      <td>아가씨</td>\n",
              "      <td>1930s Korea, in the period of Japanese occupation, a new girl (Sookee) is hired as a handmaiden ...</td>\n",
              "      <td>16.727405</td>\n",
              "      <td>/wvzfK5QR6dGLwND8MCzWjsQWG4Q.jpg</td>\n",
              "      <td>6/1/16</td>\n",
              "      <td>145.0</td>\n",
              "      <td>Released</td>\n",
              "      <td>Never did they expect to get into a controversial relationship...</td>\n",
              "      <td>The Handmaiden</td>\n",
              "      <td>1983204</td>\n",
              "      <td>NaN</td>\n",
              "      <td>NaN</td>\n",
              "      <td>NaN</td>\n",
              "      <td>NaN</td>\n",
              "      <td>53</td>\n",
              "      <td>Thriller</td>\n",
              "      <td>CJ Entertainment</td>\n",
              "      <td>7036</td>\n",
              "      <td>KR</td>\n",
              "      <td>South Korea</td>\n",
              "      <td>ja</td>\n",
              "      <td>日本語</td>\n",
              "      <td>293</td>\n",
              "      <td>female nudity</td>\n",
              "      <td>3</td>\n",
              "      <td>Lady Hideko</td>\n",
              "      <td>564beaf19251414dd1005414</td>\n",
              "      <td>1.0</td>\n",
              "      <td>123664</td>\n",
              "      <td>Kim Min-hee</td>\n",
              "      <td>0.0</td>\n",
              "      <td>/3MNC2vPOIjYzhATMslPV1dypOJs.jpg</td>\n",
              "      <td>54056d0b0e0a2658f100c167</td>\n",
              "      <td>Directing</td>\n",
              "      <td>2.0</td>\n",
              "      <td>10099</td>\n",
              "      <td>Director</td>\n",
              "      <td>Park Chan-wook</td>\n",
              "      <td>/oITKgh5vsTZvW2a5sMwgSFSfJDb.jpg</td>\n",
              "    </tr>\n",
              "    <tr>\n",
              "      <th>531</th>\n",
              "      <td>4100000</td>\n",
              "      <td>NaN</td>\n",
              "      <td>tt0046247</td>\n",
              "      <td>en</td>\n",
              "      <td>The Robe</td>\n",
              "      <td>Marcellus is a tribune in the time of Christ. He is in charge of the group that is assigned to c...</td>\n",
              "      <td>3.826281</td>\n",
              "      <td>/v3Bf2Tfbgdj5fOKbIfQvH7YPlFD.jpg</td>\n",
              "      <td>9/16/53</td>\n",
              "      <td>135.0</td>\n",
              "      <td>Released</td>\n",
              "      <td>The first motion picture in CinemaScope--the modern miracle you see without glasses!</td>\n",
              "      <td>The Robe</td>\n",
              "      <td>36000000</td>\n",
              "      <td>366444</td>\n",
              "      <td>Demetrius Filmreihe</td>\n",
              "      <td>None</td>\n",
              "      <td>None</td>\n",
              "      <td>18</td>\n",
              "      <td>Drama</td>\n",
              "      <td>Twentieth Century Fox Film Corporation</td>\n",
              "      <td>306</td>\n",
              "      <td>US</td>\n",
              "      <td>United States of America</td>\n",
              "      <td>en</td>\n",
              "      <td>English</td>\n",
              "      <td>3571</td>\n",
              "      <td>crucifixion</td>\n",
              "      <td>1</td>\n",
              "      <td>Marcellus Gallio</td>\n",
              "      <td>52fe4603c3a368484e07be07</td>\n",
              "      <td>2.0</td>\n",
              "      <td>5341</td>\n",
              "      <td>Richard Burton</td>\n",
              "      <td>0.0</td>\n",
              "      <td>/fRoBAQQP9sfnIYuqw546yFs3qKn.jpg</td>\n",
              "      <td>52fe4603c3a368484e07be21</td>\n",
              "      <td>Directing</td>\n",
              "      <td>2.0</td>\n",
              "      <td>33064</td>\n",
              "      <td>Director</td>\n",
              "      <td>Henry Koster</td>\n",
              "      <td>/tihVLXBhbDiif3u3DyZI5HJ8PZB.jpg</td>\n",
              "    </tr>\n",
              "    <tr>\n",
              "      <th>2788</th>\n",
              "      <td>80000000</td>\n",
              "      <td>NaN</td>\n",
              "      <td>tt1037705</td>\n",
              "      <td>en</td>\n",
              "      <td>The Book of Eli</td>\n",
              "      <td>A post-apocalyptic tale, in which a lone man fights his way across America in order to protect a...</td>\n",
              "      <td>14.398530</td>\n",
              "      <td>/qL3FnEug9DyBcaBXVb0oT3DJMJu.jpg</td>\n",
              "      <td>1/14/10</td>\n",
              "      <td>118.0</td>\n",
              "      <td>Released</td>\n",
              "      <td>Some will kill to have it. He will kill to protect it.</td>\n",
              "      <td>The Book of Eli</td>\n",
              "      <td>157107755</td>\n",
              "      <td>NaN</td>\n",
              "      <td>NaN</td>\n",
              "      <td>NaN</td>\n",
              "      <td>NaN</td>\n",
              "      <td>28</td>\n",
              "      <td>Action</td>\n",
              "      <td>Alcon Entertainment</td>\n",
              "      <td>1088</td>\n",
              "      <td>US</td>\n",
              "      <td>United States of America</td>\n",
              "      <td>en</td>\n",
              "      <td>English</td>\n",
              "      <td>3096</td>\n",
              "      <td>book</td>\n",
              "      <td>1</td>\n",
              "      <td>Eli</td>\n",
              "      <td>52fe43e9c3a368484e005825</td>\n",
              "      <td>2.0</td>\n",
              "      <td>5292</td>\n",
              "      <td>Denzel Washington</td>\n",
              "      <td>0.0</td>\n",
              "      <td>/khMf8LLTtppUwuZqqnigD2nAy26.jpg</td>\n",
              "      <td>52fe43e9c3a368484e0058ad</td>\n",
              "      <td>Camera</td>\n",
              "      <td>2.0</td>\n",
              "      <td>36</td>\n",
              "      <td>Director of Photography</td>\n",
              "      <td>Don Burgess</td>\n",
              "      <td>None</td>\n",
              "    </tr>\n",
              "  </tbody>\n",
              "</table>\n",
              "</div>"
            ],
            "text/plain": [
              "        budget homepage  ...       crew_name                 crew_profile_path\n",
              "id                       ...                                                  \n",
              "612    8575000      NaN  ...  Park Chan-wook  /oITKgh5vsTZvW2a5sMwgSFSfJDb.jpg\n",
              "531    4100000      NaN  ...    Henry Koster  /tihVLXBhbDiif3u3DyZI5HJ8PZB.jpg\n",
              "2788  80000000      NaN  ...     Don Burgess                              None\n",
              "\n",
              "[3 rows x 43 columns]"
            ]
          },
          "metadata": {
            "tags": []
          }
        }
      ]
    },
    {
      "cell_type": "code",
      "metadata": {
        "id": "QEzBekBpGh_y",
        "colab_type": "code",
        "colab": {
          "base_uri": "https://localhost:8080/",
          "height": 485
        },
        "outputId": "d728d723-5a22-4245-c666-22320e484994"
      },
      "source": [
        "# have a safe check on the val test cleaning as well\n",
        "display(clean_test.head(2))"
      ],
      "execution_count": 30,
      "outputs": [
        {
          "output_type": "display_data",
          "data": {
            "text/html": [
              "<div>\n",
              "<style scoped>\n",
              "    .dataframe tbody tr th:only-of-type {\n",
              "        vertical-align: middle;\n",
              "    }\n",
              "\n",
              "    .dataframe tbody tr th {\n",
              "        vertical-align: top;\n",
              "    }\n",
              "\n",
              "    .dataframe thead th {\n",
              "        text-align: right;\n",
              "    }\n",
              "</style>\n",
              "<table border=\"1\" class=\"dataframe\">\n",
              "  <thead>\n",
              "    <tr style=\"text-align: right;\">\n",
              "      <th></th>\n",
              "      <th>budget</th>\n",
              "      <th>homepage</th>\n",
              "      <th>imdb_id</th>\n",
              "      <th>original_language</th>\n",
              "      <th>original_title</th>\n",
              "      <th>overview</th>\n",
              "      <th>popularity</th>\n",
              "      <th>poster_path</th>\n",
              "      <th>release_date</th>\n",
              "      <th>runtime</th>\n",
              "      <th>status</th>\n",
              "      <th>tagline</th>\n",
              "      <th>title</th>\n",
              "      <th>revenue</th>\n",
              "      <th>belongs_to_collection_id</th>\n",
              "      <th>belongs_to_collection_name</th>\n",
              "      <th>belongs_to_collection_poster_path</th>\n",
              "      <th>belongs_to_collection_backdrop_path</th>\n",
              "      <th>genres_id</th>\n",
              "      <th>genres_name</th>\n",
              "      <th>production_companies_name</th>\n",
              "      <th>production_companies_id</th>\n",
              "      <th>production_countries_iso_3166_1</th>\n",
              "      <th>production_countries_name</th>\n",
              "      <th>spoken_languages_iso_639_1</th>\n",
              "      <th>spoken_languages_name</th>\n",
              "      <th>Keywords_id</th>\n",
              "      <th>Keywords_name</th>\n",
              "      <th>cast_cast_id</th>\n",
              "      <th>cast_character</th>\n",
              "      <th>cast_credit_id</th>\n",
              "      <th>cast_gender</th>\n",
              "      <th>cast_id</th>\n",
              "      <th>cast_name</th>\n",
              "      <th>cast_order</th>\n",
              "      <th>cast_profile_path</th>\n",
              "      <th>crew_credit_id</th>\n",
              "      <th>crew_department</th>\n",
              "      <th>crew_gender</th>\n",
              "      <th>crew_id</th>\n",
              "      <th>crew_job</th>\n",
              "      <th>crew_name</th>\n",
              "      <th>crew_profile_path</th>\n",
              "    </tr>\n",
              "    <tr>\n",
              "      <th>id</th>\n",
              "      <th></th>\n",
              "      <th></th>\n",
              "      <th></th>\n",
              "      <th></th>\n",
              "      <th></th>\n",
              "      <th></th>\n",
              "      <th></th>\n",
              "      <th></th>\n",
              "      <th></th>\n",
              "      <th></th>\n",
              "      <th></th>\n",
              "      <th></th>\n",
              "      <th></th>\n",
              "      <th></th>\n",
              "      <th></th>\n",
              "      <th></th>\n",
              "      <th></th>\n",
              "      <th></th>\n",
              "      <th></th>\n",
              "      <th></th>\n",
              "      <th></th>\n",
              "      <th></th>\n",
              "      <th></th>\n",
              "      <th></th>\n",
              "      <th></th>\n",
              "      <th></th>\n",
              "      <th></th>\n",
              "      <th></th>\n",
              "      <th></th>\n",
              "      <th></th>\n",
              "      <th></th>\n",
              "      <th></th>\n",
              "      <th></th>\n",
              "      <th></th>\n",
              "      <th></th>\n",
              "      <th></th>\n",
              "      <th></th>\n",
              "      <th></th>\n",
              "      <th></th>\n",
              "      <th></th>\n",
              "      <th></th>\n",
              "      <th></th>\n",
              "      <th></th>\n",
              "    </tr>\n",
              "  </thead>\n",
              "  <tbody>\n",
              "    <tr>\n",
              "      <th>1802</th>\n",
              "      <td>3500000</td>\n",
              "      <td>NaN</td>\n",
              "      <td>tt0165494</td>\n",
              "      <td>en</td>\n",
              "      <td>Ringmaster</td>\n",
              "      <td>Jerry Springer stars as more or less himself, the host of a raunchy, controversial and popular L...</td>\n",
              "      <td>0.556435</td>\n",
              "      <td>/gbLOUw9pmCF6cC0QbQHHACywAqg.jpg</td>\n",
              "      <td>11/25/98</td>\n",
              "      <td>90.0</td>\n",
              "      <td>Released</td>\n",
              "      <td>NaN</td>\n",
              "      <td>Ringmaster</td>\n",
              "      <td>9247881</td>\n",
              "      <td>NaN</td>\n",
              "      <td>NaN</td>\n",
              "      <td>NaN</td>\n",
              "      <td>NaN</td>\n",
              "      <td>35</td>\n",
              "      <td>Comedy</td>\n",
              "      <td>Artisan Entertainment</td>\n",
              "      <td>2188</td>\n",
              "      <td>US</td>\n",
              "      <td>United States of America</td>\n",
              "      <td>en</td>\n",
              "      <td>English</td>\n",
              "      <td>3741</td>\n",
              "      <td>talk show</td>\n",
              "      <td>3</td>\n",
              "      <td>Jerry Farrelly</td>\n",
              "      <td>52fe46539251416c91050d7f</td>\n",
              "      <td>0.0</td>\n",
              "      <td>94743</td>\n",
              "      <td>Jerry Springer</td>\n",
              "      <td>0.0</td>\n",
              "      <td>/uwlqChyS9RTqXWObp3smWqzOBuA.jpg</td>\n",
              "      <td>52fe46539251416c91050d75</td>\n",
              "      <td>Directing</td>\n",
              "      <td>2.0</td>\n",
              "      <td>109004</td>\n",
              "      <td>Director</td>\n",
              "      <td>Neil Abramson</td>\n",
              "      <td>None</td>\n",
              "    </tr>\n",
              "    <tr>\n",
              "      <th>1191</th>\n",
              "      <td>0</td>\n",
              "      <td>NaN</td>\n",
              "      <td>tt0089984</td>\n",
              "      <td>en</td>\n",
              "      <td>He-Man and She-Ra: The Secret of the Sword</td>\n",
              "      <td>After experiencing traumatic nightmares of a time now past, the Sorceress summons Prince Adam an...</td>\n",
              "      <td>2.087446</td>\n",
              "      <td>/ly1EIJLXe4REIlBtFLFbDQfRHAe.jpg</td>\n",
              "      <td>1/1/85</td>\n",
              "      <td>100.0</td>\n",
              "      <td>Released</td>\n",
              "      <td>NaN</td>\n",
              "      <td>He-Man and She-Ra: The Secret of the Sword</td>\n",
              "      <td>7</td>\n",
              "      <td>NaN</td>\n",
              "      <td>NaN</td>\n",
              "      <td>NaN</td>\n",
              "      <td>NaN</td>\n",
              "      <td>16</td>\n",
              "      <td>Animation</td>\n",
              "      <td>Filmation Associates</td>\n",
              "      <td>1506</td>\n",
              "      <td>US</td>\n",
              "      <td>United States of America</td>\n",
              "      <td>en</td>\n",
              "      <td>English</td>\n",
              "      <td>1400</td>\n",
              "      <td>swordplay</td>\n",
              "      <td>13</td>\n",
              "      <td>Prince Adam / He-Man / Beast Man (voice)</td>\n",
              "      <td>52fe47d59251416c750a6f25</td>\n",
              "      <td>2.0</td>\n",
              "      <td>176053</td>\n",
              "      <td>John Erwin</td>\n",
              "      <td>0.0</td>\n",
              "      <td>None</td>\n",
              "      <td>52fe47d59251416c750a6ef7</td>\n",
              "      <td>Directing</td>\n",
              "      <td>0.0</td>\n",
              "      <td>33534</td>\n",
              "      <td>Director</td>\n",
              "      <td>Gwen Wetzler</td>\n",
              "      <td>None</td>\n",
              "    </tr>\n",
              "  </tbody>\n",
              "</table>\n",
              "</div>"
            ],
            "text/plain": [
              "       budget homepage    imdb_id  ...  crew_job      crew_name crew_profile_path\n",
              "id                                 ...                                           \n",
              "1802  3500000      NaN  tt0165494  ...  Director  Neil Abramson              None\n",
              "1191        0      NaN  tt0089984  ...  Director   Gwen Wetzler              None\n",
              "\n",
              "[2 rows x 43 columns]"
            ]
          },
          "metadata": {
            "tags": []
          }
        }
      ]
    },
    {
      "cell_type": "code",
      "metadata": {
        "id": "QehwLYoZGkl1",
        "colab_type": "code",
        "colab": {
          "base_uri": "https://localhost:8080/",
          "height": 833
        },
        "outputId": "248c5fed-8ec5-41c2-889a-371a4cdc62bc"
      },
      "source": [
        "# Now let's look again how many attributes we have\n",
        "clean_dev.info()"
      ],
      "execution_count": 31,
      "outputs": [
        {
          "output_type": "stream",
          "text": [
            "<class 'pandas.core.frame.DataFrame'>\n",
            "Int64Index: 2100 entries, 612 to 861\n",
            "Data columns (total 43 columns):\n",
            "budget                                 2100 non-null int64\n",
            "homepage                               673 non-null object\n",
            "imdb_id                                2100 non-null object\n",
            "original_language                      2100 non-null object\n",
            "original_title                         2100 non-null object\n",
            "overview                               2092 non-null object\n",
            "popularity                             2100 non-null float64\n",
            "poster_path                            2099 non-null object\n",
            "release_date                           2100 non-null object\n",
            "runtime                                2098 non-null float64\n",
            "status                                 2100 non-null object\n",
            "tagline                                1659 non-null object\n",
            "title                                  2100 non-null object\n",
            "revenue                                2100 non-null int64\n",
            "belongs_to_collection_id               425 non-null object\n",
            "belongs_to_collection_name             425 non-null object\n",
            "belongs_to_collection_poster_path      408 non-null object\n",
            "belongs_to_collection_backdrop_path    387 non-null object\n",
            "genres_id                              2095 non-null object\n",
            "genres_name                            2095 non-null object\n",
            "production_companies_name              1978 non-null object\n",
            "production_companies_id                1978 non-null object\n",
            "production_countries_iso_3166_1        2059 non-null object\n",
            "production_countries_name              2059 non-null object\n",
            "spoken_languages_iso_639_1             2085 non-null object\n",
            "spoken_languages_name                  2085 non-null object\n",
            "Keywords_id                            1906 non-null object\n",
            "Keywords_name                          1906 non-null object\n",
            "cast_cast_id                           2084 non-null object\n",
            "cast_character                         2084 non-null object\n",
            "cast_credit_id                         2084 non-null object\n",
            "cast_gender                            2084 non-null float64\n",
            "cast_id                                2084 non-null object\n",
            "cast_name                              2084 non-null object\n",
            "cast_order                             2084 non-null float64\n",
            "cast_profile_path                      2026 non-null object\n",
            "crew_credit_id                         2088 non-null object\n",
            "crew_department                        2088 non-null object\n",
            "crew_gender                            2088 non-null float64\n",
            "crew_id                                2088 non-null object\n",
            "crew_job                               2088 non-null object\n",
            "crew_name                              2088 non-null object\n",
            "crew_profile_path                      1306 non-null object\n",
            "dtypes: float64(5), int64(2), object(36)\n",
            "memory usage: 721.9+ KB\n"
          ],
          "name": "stdout"
        }
      ]
    },
    {
      "cell_type": "markdown",
      "metadata": {
        "id": "u3-1DKm7HXNG",
        "colab_type": "text"
      },
      "source": [
        "`belongs_to_collection` has lots of null values in each of its sub attribute. Have a check if we can conver this attribute to a binary indicator of whether the movie belongs to collection (1) or not (0). Be careful of introducing bias of the unknown instance.\n",
        "\n",
        "Next step, we can start to use some of the potential attributes to build a model."
      ]
    },
    {
      "cell_type": "code",
      "metadata": {
        "id": "ITQXotf6G0gb",
        "colab_type": "code",
        "colab": {}
      },
      "source": [
        ""
      ],
      "execution_count": 0,
      "outputs": []
    }
  ]
}