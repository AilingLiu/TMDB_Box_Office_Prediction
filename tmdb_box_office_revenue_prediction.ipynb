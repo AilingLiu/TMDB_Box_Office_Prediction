{
  "nbformat": 4,
  "nbformat_minor": 0,
  "metadata": {
    "colab": {
      "name": "tmdb_box_office_revenue_prediction.ipynb",
      "provenance": [],
      "collapsed_sections": [],
      "toc_visible": true,
      "include_colab_link": true
    },
    "kernelspec": {
      "name": "python3",
      "display_name": "Python 3"
    }
  },
  "cells": [
    {
      "cell_type": "markdown",
      "metadata": {
        "id": "view-in-github",
        "colab_type": "text"
      },
      "source": [
        "<a href=\"https://colab.research.google.com/github/AilingLiu/TMDB_Box_Office_Prediction/blob/master/tmdb_box_office_revenue_prediction.ipynb\" target=\"_parent\"><img src=\"https://colab.research.google.com/assets/colab-badge.svg\" alt=\"Open In Colab\"/></a>"
      ]
    },
    {
      "cell_type": "markdown",
      "metadata": {
        "id": "UcYQuHtjZT1g",
        "colab_type": "text"
      },
      "source": [
        "\n",
        "Competition details\n",
        "\n",
        "`https://www.kaggle.com/c/tmdb-box-office-prediction/data`\n"
      ]
    },
    {
      "cell_type": "markdown",
      "metadata": {
        "id": "i1wPtHOB2qlU",
        "colab_type": "text"
      },
      "source": [
        "# Overview"
      ]
    },
    {
      "cell_type": "markdown",
      "metadata": {
        "id": "2zNS6Fhi2sow",
        "colab_type": "text"
      },
      "source": [
        "\n",
        "\n",
        "---\n",
        "\n",
        "\n",
        "In this competition, you're presented with metadata on over 7,000 past films \n",
        "from The Movie Database to try and predict their overall worldwide box office revenue. Data points provided include cast, crew, plot keywords, budget, posters, release dates, languages, production companies, and countries. You can collect other publicly available data to use in your model predictions, but in the spirit of this competition, use only data that would have been available before a movie's release."
      ]
    },
    {
      "cell_type": "markdown",
      "metadata": {
        "id": "2IailJkgESvX",
        "colab_type": "text"
      },
      "source": [
        "# Set up"
      ]
    },
    {
      "cell_type": "code",
      "metadata": {
        "id": "5HHn239wEkBS",
        "colab_type": "code",
        "colab": {}
      },
      "source": [
        "import sys\n",
        "sys.version_info >= (3, 5) # evaluate python version is 3.5 and later\n",
        "\n",
        "import sklearn\n",
        "sklearn.__version__ >= '0.20' # evaluate sklearn version is 0.2 and later\n",
        "\n",
        "# common imports\n",
        "import os\n",
        "import numpy as np\n",
        "\n",
        "# setting figure\n",
        "import matplotlib as mpl\n",
        "%matplotlib inline\n",
        "mpl.rc('axes', labelsize=14)\n",
        "mpl.rc('xtick', labelsize=12)\n",
        "mpl.rc('ytick', labelsize=12)\n",
        "\n",
        "# figure saving location\n",
        "PROJECT_ROOT_DIR = '.'\n",
        "PROJECT_ID = 'tmdb_movie_revenue'\n",
        "IMAGE_PATH = os.path.join(PROJECT_ROOT_DIR, 'images', PROJECT_ID)\n",
        "os.makedirs(IMAGE_PATH, exist_ok=True)\n",
        "\n",
        "def save_fig(image_name, save_in=IMAGE_PATH, tight_layout=True, dpi=300, image_extension='png'):\n",
        "  path=os.path.join(IMAGE_PATH, image_name + '.' + image_extension)\n",
        "  print('Saving Picture: ', image_name)\n",
        "  if tight_layout:\n",
        "    plt.tight_layout()\n",
        "  plt.savefig(path, format=image_extension, dpi=dpi)"
      ],
      "execution_count": 0,
      "outputs": []
    },
    {
      "cell_type": "markdown",
      "metadata": {
        "id": "AIBNBfyEES7d",
        "colab_type": "text"
      },
      "source": [
        "# Get Data"
      ]
    },
    {
      "cell_type": "code",
      "metadata": {
        "id": "XvUQ8SaKX9KV",
        "colab_type": "code",
        "colab": {}
      },
      "source": [
        "URL_PATH = 'https://github.com/AilingLiu/TMDB_Box_Office_Prediction/raw/master/tmdb-box-office-prediction.zip'\n",
        "DATA_PATH = os.path.join('datasets', PROJECT_ID)\n",
        "\n",
        "from zipfile import ZipFile\n",
        "import urllib\n",
        "\n",
        "def fetch_data(url=URL_PATH, to_local=DATA_PATH):\n",
        "  zip_path = os.path.join(DATA_PATH, 'tmdb_movie_revenue.zip')\n",
        "  if not os.path.isdir(to_local):\n",
        "    os.makedirs(to_local)\n",
        "  urllib.request.urlretrieve(URL_PATH, zip_path)\n",
        "  zip_=ZipFile(zip_path, 'r')\n",
        "  zip_.extractall(DATA_PATH)\n",
        "  zip_.close()"
      ],
      "execution_count": 0,
      "outputs": []
    },
    {
      "cell_type": "code",
      "metadata": {
        "id": "6IRDIA2htrEc",
        "colab_type": "code",
        "colab": {}
      },
      "source": [
        "fetch_data()"
      ],
      "execution_count": 0,
      "outputs": []
    },
    {
      "cell_type": "code",
      "metadata": {
        "id": "aSuSXine3HWY",
        "colab_type": "code",
        "colab": {
          "base_uri": "https://localhost:8080/",
          "height": 105
        },
        "outputId": "c00e9d02-0e54-45ee-a8cf-cd105a2d5071"
      },
      "source": [
        "# quick look of csv data in shell command\n",
        "!head -n 4 datasets/tmdb_movie_revenue/train.csv"
      ],
      "execution_count": 39,
      "outputs": [
        {
          "output_type": "stream",
          "text": [
            "﻿id,belongs_to_collection,budget,genres,homepage,imdb_id,original_language,original_title,overview,popularity,poster_path,production_companies,production_countries,release_date,runtime,spoken_languages,status,tagline,title,Keywords,cast,crew,revenue\r\n",
            "1,\"[{'id': 313576, 'name': 'Hot Tub Time Machine Collection', 'poster_path': '/iEhb00TGPucF0b4joM1ieyY026U.jpg', 'backdrop_path': '/noeTVcgpBiD48fDjFVic1Vz7ope.jpg'}]\",14000000,\"[{'id': 35, 'name': 'Comedy'}]\",,tt2637294,en,Hot Tub Time Machine 2,\"When Lou, who has become the \"\"father of the Internet,\"\" is shot by an unknown assailant, Jacob and Nick fire up the time machine again to save their friend.\",6.575393,/tQtWuwvMf0hCc2QR2tkolwl7c3c.jpg,\"[{'name': 'Paramount Pictures', 'id': 4}, {'name': 'United Artists', 'id': 60}, {'name': 'Metro-Goldwyn-Mayer (MGM)', 'id': 8411}]\",\"[{'iso_3166_1': 'US', 'name': 'United States of America'}]\",2/20/15,93,\"[{'iso_639_1': 'en', 'name': 'English'}]\",Released,The Laws of Space and Time are About to be Violated.,Hot Tub Time Machine 2,\"[{'id': 4379, 'name': 'time travel'}, {'id': 9663, 'name': 'sequel'}, {'id': 11830, 'name': 'hot tub'}, {'id': 179431, 'name': 'duringcreditsstinger'}]\",\"[{'cast_id': 4, 'character': 'Lou', 'credit_id': '52fe4ee7c3a36847f82afae7', 'gender': 2, 'id': 52997, 'name': 'Rob Corddry', 'order': 0, 'profile_path': '/k2zJL0V1nEZuFT08xUdOd3ucfXz.jpg'}, {'cast_id': 5, 'character': 'Nick', 'credit_id': '52fe4ee7c3a36847f82afaeb', 'gender': 2, 'id': 64342, 'name': 'Craig Robinson', 'order': 1, 'profile_path': '/tVaRMkJXOEVhYxtnnFuhqW0Rjzz.jpg'}, {'cast_id': 6, 'character': 'Jacob', 'credit_id': '52fe4ee7c3a36847f82afaef', 'gender': 2, 'id': 54729, 'name': 'Clark Duke', 'order': 2, 'profile_path': '/oNzK0umwm5Wn0wyEbOy6TVJCSBn.jpg'}, {'cast_id': 7, 'character': 'Adam Jr.', 'credit_id': '52fe4ee7c3a36847f82afaf3', 'gender': 2, 'id': 36801, 'name': 'Adam Scott', 'order': 3, 'profile_path': '/5gb65xz8bzd42yjMAl4zwo4cvKw.jpg'}, {'cast_id': 8, 'character': 'Hot Tub Repairman', 'credit_id': '52fe4ee7c3a36847f82afaf7', 'gender': 2, 'id': 54812, 'name': 'Chevy Chase', 'order': 4, 'profile_path': '/svjpyYtPwtjvRxX9IZnOmOkhDOt.jpg'}, {'cast_id': 9, 'character': 'Jill', 'credit_id': '52fe4ee7c3a36847f82afafb', 'gender': 1, 'id': 94098, 'name': 'Gillian Jacobs', 'order': 5, 'profile_path': '/rBnhe5vhNPnhRUdtYahBWx90fJM.jpg'}, {'cast_id': 10, 'character': 'Sophie', 'credit_id': '52fe4ee7c3a36847f82afaff', 'gender': 1, 'id': 1159009, 'name': 'Bianca Haase', 'order': 6, 'profile_path': '/4x3nbtD8q8phAJPmoGWXPvz0iM.jpg'}, {'cast_id': 11, 'character': 'Kelly', 'credit_id': '5524ec51c3a3687df3000dbb', 'gender': 1, 'id': 86624, 'name': 'Collette Wolfe', 'order': 7, 'profile_path': '/aSD4h5379b2eEw3bLou9ByLimmq.jpg'}, {'cast_id': 13, 'character': 'Brad', 'credit_id': '5524ec8ec3a3687ded000d72', 'gender': 2, 'id': 466505, 'name': 'Kumail Nanjiani', 'order': 9, 'profile_path': '/x4nAztHY72SVciRfxEsbhIVTsIu.jpg'}, {'cast_id': 14, 'character': 'Courtney', 'credit_id': '5524ec9bc3a3687df8000d13', 'gender': 1, 'id': 70776, 'name': 'Kellee Stewart', 'order': 10, 'profile_path': '/w3xmsEPmJc1Cf0dQ4aIn8YmlHbk.jpg'}, {'cast_id': 15, 'character': 'Terry', 'credit_id': '5524eca892514171cb008237', 'gender': 2, 'id': 347335, 'name': 'Josh Heald', 'order': 11, 'profile_path': '/pwXJIenrDMrG7t3zNfLvr8w1RGU.jpg'}, {'cast_id': 16, 'character': 'Susan', 'credit_id': '5524ecb7925141720c001116', 'gender': 0, 'id': 1451392, 'name': 'Gretchen Koerner', 'order': 12, 'profile_path': '/muULPexCTJGyJba4yKzxronpD50.jpg'}, {'cast_id': 17, 'character': 'Herself', 'credit_id': '5524ecc3c3a3687ded000d74', 'gender': 1, 'id': 98879, 'name': 'Lisa Loeb', 'order': 13, 'profile_path': '/bGqg58ca0bZR38z9HliUMmeNGE.jpg'}, {'cast_id': 18, 'character': 'Herself', 'credit_id': '5524ecd3c3a3687e11000ed3', 'gender': 1, 'id': 1394648, 'name': 'Jessica Williams', 'order': 14, 'profile_path': '/A4syKjkcYB92wLEhH0c0hC3BCpz.jpg'}, {'cast_id': 19, 'character': 'Himself', 'credit_id': '5524ece6925141718d001009', 'gender': 0, 'id': 1451393, 'name': 'Bruce Buffer', 'order': 15, 'profile_path': None}, {'cast_id': 20, 'character': 'Shot Girl', 'credit_id': '5524ecf5c3a3687e08000dc2', 'gender': 0, 'id': 1451394, 'name': 'Mariana Paola Vicente', 'order': 16, 'profile_path': '/ckPllza8624UHWGHCbLShkLxCD1.jpg'}, {'cast_id': 33, 'character': 'Choozy Doozy Host', 'credit_id': '555844da9251412afe0013a9', 'gender': 2, 'id': 2224, 'name': 'Christian Slater', 'order': 17, 'profile_path': '/3ElLWjnvchMS6Q4cIQOK8QNAoMG.jpg'}, {'cast_id': 35, 'character': 'Gary Winkle', 'credit_id': '55872027c3a3683853005074', 'gender': 0, 'id': 185805, 'name': 'Jason Jones', 'order': 18, 'profile_path': '/aIoCw6vo8AGMdsQRAI5g2t0yJT3.jpg'}, {'cast_id': 36, 'character': 'Bridesmaid', 'credit_id': '55efe971c3a368090c00cd1b', 'gender': 0, 'id': 1507448, 'name': 'Olivia Jordan', 'order': 19, 'profile_path': '/szMukAEiIDeasel0lvyaeyKuych.jpg'}, {'cast_id': 37, 'character': 'Christine', 'credit_id': '55efe980c3a36871bf008176', 'gender': 1, 'id': 1334091, 'name': 'Christine Bently', 'order': 20, 'profile_path': '/oUZltnGa55OXE52hfyPTfCshuNy.jpg'}, {'cast_id': 38, 'character': 'Excited Girl', 'credit_id': '55efe98e9251413e3201d316', 'gender': 0, 'id': 557803, 'name': 'Stacey Asaro', 'order': 21, 'profile_path': '/qTPdlr1dXf3kNdyHuDsgtGC0HCC.jpg'}, {'cast_id': 64, 'character': 'Adam (uncredited)', 'credit_id': '58f2135ac3a3682e95008b91', 'gender': 2, 'id': 3036, 'name': 'John Cusack', 'order': 22, 'profile_path': '/uKydQYuZ9TnCzvbQLtj6j98vWAT.jpg'}, {'cast_id': 65, 'character': 'J-Bird', 'credit_id': '59ac0240c3a3682cc802c399', 'gender': 2, 'id': 59256, 'name': 'Adam Herschman', 'order': 23, 'profile_path': '/wZMwiuX1DslF6hDS50z9OTN6z1X.jpg'}, {'cast_id': 66, 'character': 'Bridesmaid', 'credit_id': '59ac02cd925141079d02b1b4', 'gender': 1, 'id': 129714, 'name': 'Kisha Sierra', 'order': 24, 'profile_path': None}]\",\"[{'credit_id': '59ac067c92514107af02c8c8', 'department': 'Directing', 'gender': 0, 'id': 1449071, 'job': 'First Assistant Director', 'name': 'Kelly Cantley', 'profile_path': None}, {'credit_id': '52fe4ee7c3a36847f82afad7', 'department': 'Directing', 'gender': 2, 'id': 3227, 'job': 'Director', 'name': 'Steve Pink', 'profile_path': '/myHOgo8mQSCiCAZNGMRdHVr03jr.jpg'}, {'credit_id': '5524ed25c3a3687ded000d88', 'department': 'Writing', 'gender': 2, 'id': 347335, 'job': 'Writer', 'name': 'Josh Heald', 'profile_path': '/pwXJIenrDMrG7t3zNfLvr8w1RGU.jpg'}, {'credit_id': '5524ed2d925141720c001128', 'department': 'Writing', 'gender': 2, 'id': 347335, 'job': 'Characters', 'name': 'Josh Heald', 'profile_path': '/pwXJIenrDMrG7t3zNfLvr8w1RGU.jpg'}, {'credit_id': '5524ed3d92514166c1004a5d', 'department': 'Production', 'gender': 2, 'id': 57822, 'job': 'Producer', 'name': 'Andrew Panay', 'profile_path': None}, {'credit_id': '5524ed4bc3a3687df3000dd2', 'department': 'Production', 'gender': 0, 'id': 1451395, 'job': 'Associate Producer', 'name': 'Adam Blum', 'profile_path': None}, {'credit_id': '5524ed5a925141720c00112c', 'department': 'Production', 'gender': 2, 'id': 52997, 'job': 'Executive Producer', 'name': 'Rob Corddry', 'profile_path': '/k2zJL0V1nEZuFT08xUdOd3ucfXz.jpg'}, {'credit_id': '5524ed85c3a3687e0e000f56', 'department': 'Production', 'gender': 0, 'id': 62807, 'job': 'Executive Producer', 'name': 'Ben Ormand', 'profile_path': None}, {'credit_id': '5524ed9fc3a3687e0e000f59', 'department': 'Sound', 'gender': 2, 'id': 23486, 'job': 'Original Music Composer', 'name': 'Christophe Beck', 'profile_path': '/2fnJUmCk6IEpVIptpYaUk31epHx.jpg'}, {'credit_id': '5524eda6c3a3687e03000d28', 'department': 'Camera', 'gender': 2, 'id': 6117, 'job': 'Director of Photography', 'name': 'Declan Quinn', 'profile_path': None}, {'credit_id': '5524edb4925141720c00113d', 'department': 'Editing', 'gender': 0, 'id': 1451396, 'job': 'Editor', 'name': 'Jamie Gross', 'profile_path': None}, {'credit_id': '5524edc1925141727600102e', 'department': 'Production', 'gender': 0, 'id': 22219, 'job': 'Casting', 'name': 'Susie Farris', 'profile_path': None}, {'credit_id': '5524edd192514171cb008257', 'department': 'Art', 'gender': 0, 'id': 1002643, 'job': 'Production Design', 'name': 'Ryan Berg', 'profile_path': None}, {'credit_id': '555ad9be9251411e5b00d485', 'department': 'Production', 'gender': 2, 'id': 57431, 'job': 'Executive Producer', 'name': 'Matt Moore', 'profile_path': None}, {'credit_id': '5677e93bc3a36816890087dc', 'department': 'Directing', 'gender': 0, 'id': 1551818, 'job': 'Script Supervisor', 'name': 'Nicole Garcea', 'profile_path': None}, {'credit_id': '5677e96a92514179e10093d0', 'department': 'Production', 'gender': 0, 'id': 1551819, 'job': 'Production Coordinator', 'name': 'Jason Salzman', 'profile_path': None}, {'credit_id': '5677e98492514179d2008cd9', 'department': 'Costume & Make-Up', 'gender': 0, 'id': 1422996, 'job': 'Costume Design', 'name': 'Carol Cutshall', 'profile_path': None}, {'credit_id': '5677e9d5c3a368168e009414', 'department': 'Art', 'gender': 2, 'id': 500199, 'job': 'Set Decoration', 'name': 'Tim Cohn', 'profile_path': None}, {'credit_id': '5677f89d9251417845001a61', 'department': 'Costume & Make-Up', 'gender': 0, 'id': 1527917, 'job': 'Hair Department Head', 'name': 'Voni Hinkle', 'profile_path': None}, {'credit_id': '5677f8b392514179dd0089fb', 'department': 'Costume & Make-Up', 'gender': 0, 'id': 1431554, 'job': 'Makeup Department Head', 'name': 'Remi Savva', 'profile_path': None}, {'credit_id': '5677f8d1c3a3681689008a4b', 'department': 'Art', 'gender': 0, 'id': 66495, 'job': 'Art Direction', 'name': 'Jason Baldwin Stewart', 'profile_path': None}, {'credit_id': '5677f8eec3a3681685008dd5', 'department': 'Production', 'gender': 0, 'id': 1412466, 'job': 'Production Supervisor', 'name': 'Korey Budd', 'profile_path': None}, {'credit_id': '5677f90a9251417845001a7d', 'department': 'Sound', 'gender': 0, 'id': 1401562, 'job': 'Sound Re-Recording Mixer', 'name': 'Gary C. Bourgeois', 'profile_path': None}, {'credit_id': '5677f91e9251417845001a84', 'department': 'Sound', 'gender': 0, 'id': 1396794, 'job': 'Sound Re-Recording Mixer', 'name': 'Gabriel J. Serrano', 'profile_path': None}, {'credit_id': '5677f938c3a3681680008dd4', 'department': 'Editing', 'gender': 0, 'id': 13168, 'job': 'Dialogue Editor', 'name': 'Victoria Rose Sampson', 'profile_path': None}, {'credit_id': '5677f94e92514179dd008a1f', 'department': 'Sound', 'gender': 0, 'id': 1551839, 'job': 'Production Sound Mixer', 'name': 'Michael B. Koff', 'profile_path': None}, {'credit_id': '5677f968c3a368168e009698', 'department': 'Sound', 'gender': 0, 'id': 113052, 'job': 'Sound Effects Editor', 'name': 'Randall Guth', 'profile_path': None}, {'credit_id': '5677f98dc3a3681685008e02', 'department': 'Crew', 'gender': 2, 'id': 1442535, 'job': 'Stunt Coordinator', 'name': 'Chuck Picerni Jr.', 'profile_path': '/yE5QtXUzcrnCzMRctZL8F5g842B.jpg'}, {'credit_id': '5677f9a692514179dd008a49', 'department': 'Camera', 'gender': 0, 'id': 1437305, 'job': 'Camera Operator', 'name': 'Michael Applebaum', 'profile_path': None}, {'credit_id': '5677f9bd9251417845001aae', 'department': 'Camera', 'gender': 0, 'id': 1401765, 'job': 'Still Photographer', 'name': 'Steve Dietl', 'profile_path': None}, {'credit_id': '5677f9e592514179e7008bf7', 'department': 'Lighting', 'gender': 0, 'id': 1402721, 'job': 'Rigging Gaffer', 'name': 'Tarik Naim Alherimi', 'profile_path': None}, {'credit_id': '5677f9f4c3a368167c0090ed', 'department': 'Lighting', 'gender': 0, 'id': 1402719, 'job': 'Gaffer', 'name': 'Paul Olinde', 'profile_path': None}, {'credit_id': '5677fa21c3a368168e0096ca', 'department': 'Sound', 'gender': 0, 'id': 1551840, 'job': 'Music Supervisor', 'name': 'Steve Griffen', 'profile_path': None}, {'credit_id': '5677fa31c3a3681680008e04', 'department': 'Sound', 'gender': 0, 'id': 1551841, 'job': 'Music Editor', 'name': 'Matt Fausak', 'profile_path': None}, {'credit_id': '5677fa4392514179dd008a76', 'department': 'Sound', 'gender': 0, 'id': 1551840, 'job': 'Music Editor', 'name': 'Steve Griffen', 'profile_path': None}, {'credit_id': '5677fa609251417845001acf', 'department': 'Costume & Make-Up', 'gender': 0, 'id': 1403416, 'job': 'Costume Supervisor', 'name': 'Shonta T. McCray', 'profile_path': None}, {'credit_id': '5677fa8492514179d2008fb3', 'department': 'Camera', 'gender': 0, 'id': 1425831, 'job': 'Steadicam Operator', 'name': 'Mark Karavite', 'profile_path': None}, {'credit_id': '5677fab2c3a3681689008ac3', 'department': 'Camera', 'gender': 0, 'id': 1551842, 'job': 'First Assistant Camera', 'name': 'Joe Waistell', 'profile_path': None}, {'credit_id': '5677faecc3a368168e0096fe', 'department': 'Sound', 'gender': 0, 'id': 58362, 'job': 'Supervising Sound Editor', 'name': 'Michael Hilkene', 'profile_path': None}, {'credit_id': '59ac0368c3a3682c0a02c484', 'department': 'Crew', 'gender': 0, 'id': 1881584, 'job': 'Additional Writing', 'name': 'John Karnay', 'profile_path': None}, {'credit_id': '59ac0411c3a3682bf0028966', 'department': 'Costume & Make-Up', 'gender': 0, 'id': 1431552, 'job': 'Hairstylist', 'name': 'Daina Daigle', 'profile_path': None}, {'credit_id': '59ac0504925141072302b8fb', 'department': 'Costume & Make-Up', 'gender': 0, 'id': 1712001, 'job': 'Makeup Artist', 'name': 'Allison Gordin', 'profile_path': None}, {'credit_id': '59ac0570c3a3682bf0028aac', 'department': 'Costume & Make-Up', 'gender': 0, 'id': 578725, 'job': 'Makeup Artist', 'name': 'Darryl Lucas', 'profile_path': None}, {'credit_id': '59ac05a4925141077e02c97e', 'department': 'Costume & Make-Up', 'gender': 0, 'id': 1463274, 'job': 'Makeup Artist', 'name': 'Annabelle MacNeal', 'profile_path': None}, {'credit_id': '59ac05c6925141076502d106', 'department': 'Costume & Make-Up', 'gender': 0, 'id': 1881586, 'job': 'Makeup Artist', 'name': 'Marina Savva', 'profile_path': None}, {'credit_id': '59ac0615c3a3682c480296aa', 'department': 'Costume & Make-Up', 'gender': 0, 'id': 1406267, 'job': 'Hairstylist', 'name': 'Carl G. Variste', 'profile_path': None}, {'credit_id': '59ac06ba925141076502d1fa', 'department': 'Directing', 'gender': 0, 'id': 1798593, 'job': 'First Assistant Director', 'name': 'Josh King', 'profile_path': None}, {'credit_id': '59ac06f1c3a3682c2202aca0', 'department': 'Art', 'gender': 0, 'id': 1415083, 'job': 'Greensman', 'name': 'Scott C. Bivona', 'profile_path': None}, {'credit_id': '59ac072c925141076502d260', 'department': 'Art', 'gender': 0, 'id': 1881587, 'job': 'Title Designer', 'name': 'Eunha Choi', 'profile_path': None}, {'credit_id': '59ac077c925141077e02cb62', 'department': 'Art', 'gender': 0, 'id': 1585302, 'job': 'Construction Coordinator', 'name': 'Daniel Coe', 'profile_path': None}, {'credit_id': '59ac07e0925141078a02d842', 'department': 'Art', 'gender': 0, 'id': 1495523, 'job': 'Set Designer', 'name': 'Spencer Davison', 'profile_path': None}, {'credit_id': '59ac0862925141072f02cf6f', 'department': 'Art', 'gender': 0, 'id': 1881589, 'job': 'Painter', 'name': 'Sonia L. Garcia', 'profile_path': None}, {'credit_id': '59ac08e0c3a3682bf0028e51', 'department': 'Art', 'gender': 0, 'id': 1424896, 'job': 'Art Department Coordinator', 'name': 'Caleb Guillotte', 'profile_path': None}, {'credit_id': '59ac0920c3a3682c2202af36', 'department': 'Art', 'gender': 0, 'id': 1393375, 'job': 'Leadman', 'name': \"\"Pat A. O'Connor\"\", 'profile_path': None}, {'credit_id': '59ac095592514107af02cc39', 'department': 'Art', 'gender': 0, 'id': 1881592, 'job': 'Set Designer', 'name': 'Brendan Turrill', 'profile_path': None}, {'credit_id': '59ac0989925141072302bdfa', 'department': 'Art', 'gender': 2, 'id': 76497, 'job': 'Property Master', 'name': 'Brook Yeaton', 'profile_path': None}, {'credit_id': '59ac0a2cc3a3682c9c02add1', 'department': 'Sound', 'gender': 0, 'id': 1881596, 'job': 'Boom Operator', 'name': 'Matthew Armstrong', 'profile_path': None}, {'credit_id': '59ac0aa8925141072f02d282', 'department': 'Visual Effects', 'gender': 2, 'id': 1558086, 'job': 'Special Effects Supervisor', 'name': 'Matt Kutcher', 'profile_path': None}, {'credit_id': '59ac0b2ac3a3682c2202b192', 'department': 'Crew', 'gender': 2, 'id': 1558087, 'job': 'Special Effects Coordinator', 'name': 'Eric Roberts', 'profile_path': None}, {'credit_id': '59ac0b7ac3a3682c2202b1fb', 'department': 'Visual Effects', 'gender': 0, 'id': 1392098, 'job': 'Visual Effects Supervisor', 'name': 'Rocco Passionino', 'profile_path': None}, {'credit_id': '59ac0bbe925141077e02d0c4', 'department': 'Visual Effects', 'gender': 0, 'id': 1558716, 'job': 'Visual Effects Coordinator', 'name': 'Joseph Payo', 'profile_path': None}, {'credit_id': '59ac0bf2c3a3682cc802cefa', 'department': 'Visual Effects', 'gender': 0, 'id': 1408784, 'job': 'Visual Effects Producer', 'name': 'Chris Roff', 'profile_path': None}, {'credit_id': '59ac0c51c3a3682c48029d99', 'department': 'Lighting', 'gender': 0, 'id': 1881600, 'job': 'Best Boy Electric', 'name': 'Ulyan Atamanyuk', 'profile_path': None}, {'credit_id': '59ac0cbac3a3682c0a02cff6', 'department': 'Camera', 'gender': 0, 'id': 1881602, 'job': 'Key Grip', 'name': 'Chris Ekstrom', 'profile_path': None}, {'credit_id': '59ac0d54925141072f02d5e6', 'department': 'Lighting', 'gender': 0, 'id': 1484984, 'job': 'Best Boy Electric', 'name': 'Brad Garris', 'profile_path': None}, {'credit_id': '59ac0db0925141078a02df86', 'department': 'Camera', 'gender': 0, 'id': 1881603, 'job': 'Dolly Grip', 'name': 'Kendell Joseph', 'profile_path': None}, {'credit_id': '59ac0e5a925141077e02d39f', 'department': 'Camera', 'gender': 0, 'id': 1549179, 'job': 'Dolly Grip', 'name': 'Spencer Wilcox', 'profile_path': None}, {'credit_id': '59ac0e9f925141079d02bee6', 'department': 'Costume & Make-Up', 'gender': 0, 'id': 1552626, 'job': 'Key Costumer', 'name': 'Sarah P. Koeppe', 'profile_path': None}, {'credit_id': '59ac0ec1c3a3682bf0029524', 'department': 'Costume & Make-Up', 'gender': 0, 'id': 1881605, 'job': 'Seamstress', 'name': 'Catherine Rodi', 'profile_path': None}, {'credit_id': '59ac0eef925141070702c7ff', 'department': 'Costume & Make-Up', 'gender': 0, 'id': 1463801, 'job': 'Seamstress', 'name': 'Giselle Spence', 'profile_path': None}, {'credit_id': '59ac0f5dc3a3682c4802a0f5', 'department': 'Production', 'gender': 0, 'id': 1400837, 'job': 'Location Manager', 'name': 'John A. Johnston', 'profile_path': None}, {'credit_id': '59ac0ff2c3a3682c4802a196', 'department': 'Crew', 'gender': 0, 'id': 1844322, 'job': 'Production Controller', 'name': 'Gail Marks', 'profile_path': None}]\",12314651\r\n",
            "2,\"[{'id': 107674, 'name': 'The Princess Diaries Collection', 'poster_path': '/wt5AMbxPTS4Kfjx7Fgm149qPfZl.jpg', 'backdrop_path': '/zSEtYD77pKRJlUPx34BJgUG9v1c.jpg'}]\",40000000,\"[{'id': 35, 'name': 'Comedy'}, {'id': 18, 'name': 'Drama'}, {'id': 10751, 'name': 'Family'}, {'id': 10749, 'name': 'Romance'}]\",,tt0368933,en,The Princess Diaries 2: Royal Engagement,\"Mia Thermopolis is now a college graduate and on her way to Genovia to take up her duties as princess. Her best friend Lilly also joins her for the summer. Mia continues her 'princess lessons'- riding horses side-saddle, archery, and other royal. But her complicated life is turned upside down once again when she not only learns that she is to take the crown as queen earlier than expected...\",8.248895,/w9Z7A0GHEhIp7etpj0vyKOeU1Wx.jpg,\"[{'name': 'Walt Disney Pictures', 'id': 2}]\",\"[{'iso_3166_1': 'US', 'name': 'United States of America'}]\",8/6/04,113,\"[{'iso_639_1': 'en', 'name': 'English'}]\",Released,It can take a lifetime to find true love; she's got 30 days!,The Princess Diaries 2: Royal Engagement,\"[{'id': 2505, 'name': 'coronation'}, {'id': 4263, 'name': 'duty'}, {'id': 6038, 'name': 'marriage'}, {'id': 13072, 'name': 'falling in love'}]\",\"[{'cast_id': 1, 'character': 'Mia Thermopolis', 'credit_id': '52fe43fe9251416c7502561f', 'gender': 1, 'id': 1813, 'name': 'Anne Hathaway', 'order': 0, 'profile_path': '/jUMOKwSUBnTcMeN1HfhutiY49Ad.jpg'}, {'cast_id': 2, 'character': 'Queen Clarisse Renaldi', 'credit_id': '52fe43fe9251416c75025623', 'gender': 1, 'id': 5823, 'name': 'Julie Andrews', 'order': 1, 'profile_path': '/6t61jkmfSA6nbYRCKR9s97CgUN6.jpg'}, {'cast_id': 3, 'character': 'Joe', 'credit_id': '52fe43fe9251416c75025627', 'gender': 2, 'id': 1210, 'name': 'H√©ctor Elizondo', 'order': 2, 'profile_path': '/48UNfVFZVr0jyMIlLPhzm8IIM7f.jpg'}, {'cast_id': 4, 'character': 'Viscount Mabrey', 'credit_id': '52fe43fe9251416c7502562b', 'gender': 2, 'id': 655, 'name': 'John Rhys-Davies', 'order': 3, 'profile_path': '/zZ67PuoFfik9QlZyfaEsFBC1yVJ.jpg'}, {'cast_id': 5, 'character': 'Lilly Moscovitz', 'credit_id': '52fe43fe9251416c7502562f', 'gender': 1, 'id': 33656, 'name': 'Heather Matarazzo', 'order': 4, 'profile_path': '/xcwR8aPuSkUCDPIyKU049M1CXph.jpg'}, {'cast_id': 6, 'character': 'Nicholas Devereaux', 'credit_id': '52fe43fe9251416c75025633', 'gender': 2, 'id': 62064, 'name': 'Chris Pine', 'order': 5, 'profile_path': '/vSe6sIsdtcoqBhuWRXynahFg8Vf.jpg'}, {'cast_id': 7, 'character': 'Andrew Jacoby', 'credit_id': '52fe43fe9251416c75025637', 'gender': 2, 'id': 68287, 'name': 'Callum Blue', 'order': 6, 'profile_path': '/3qf8rLoWmXOcCA8Rs9RPIEQ9yLB.jpg'}, {'cast_id': 17, 'character': 'Paolo', 'credit_id': '52fe43fe9251416c75025671', 'gender': 2, 'id': 1211, 'name': 'Larry Miller', 'order': 7, 'profile_path': '/xA8zCxNrwtamLaLWNBkLyX5tGtU.jpg'}, {'cast_id': 18, 'character': 'Asana', 'credit_id': '52fe43fe9251416c75025675', 'gender': 1, 'id': 66896, 'name': 'Raven-Symon√©', 'order': 8, 'profile_path': '/nzklI9bgqsUKVWlnQcT5lSrCyaM.jpg'}, {'cast_id': 19, 'character': 'Charlotte Kutaway', 'credit_id': '52fe43fe9251416c75025679', 'gender': 1, 'id': 303542, 'name': 'Kathleen Marshall', 'order': 9, 'profile_path': '/4ANxOHPa81aqLyP8BQxkwmZrWgK.jpg'}, {'cast_id': 21, 'character': \"\"Mia's Mom Helen\"\", 'credit_id': '5687f876c3a3685f8900e2a1', 'gender': 1, 'id': 6692, 'name': 'Caroline Goodall', 'order': 10, 'profile_path': '/f3L5WmEtGjjONTe8qvBZOy2dWTJ.jpg'}, {'cast_id': 20, 'character': 'Princess Lorraine', 'credit_id': '5687f825c3a36860e9023861', 'gender': 1, 'id': 966053, 'name': 'Lorraine Nicholson', 'order': 11, 'profile_path': '/eCsoySifBALa6UecWWQ6XShkkeV.jpg'}, {'cast_id': 22, 'character': 'Lady Salsa', 'credit_id': '56b67fc4c3a3680700009953', 'gender': 1, 'id': 95469, 'name': 'Shannon Wilcox', 'order': 12, 'profile_path': '/dQTvcWdLyB5RIWNQxk4DWn6ko59.jpg'}, {'cast_id': 23, 'character': 'Baron Siegfried von Troken', 'credit_id': '56c0ad8cc3a36817f400cc2d', 'gender': 2, 'id': 33832, 'name': 'Greg Lewis', 'order': 13, 'profile_path': '/ys6erqERBQhfTsvCiarmwH8daUm.jpg'}, {'cast_id': 24, 'character': 'Carolina', 'credit_id': '575e0b469251415dd2004e97', 'gender': 1, 'id': 17140, 'name': 'Abigail Breslin', 'order': 14, 'profile_path': '/5zM4beIvrFKICiJXhQCqY3ORngR.jpg'}, {'cast_id': 25, 'character': 'Lord Crawley', 'credit_id': '575e0bc1c3a3683731002094', 'gender': 2, 'id': 155403, 'name': 'Paul Vogt', 'order': 15, 'profile_path': None}, {'cast_id': 26, 'character': 'Monsieur Dupont', 'credit_id': '57c8cc429251410d5000019d', 'gender': 2, 'id': 1665036, 'name': 'Joseph Leo Bwarie', 'order': 16, 'profile_path': '/9H8u70pOBdk0xZsRcKIleBEAyLK.jpg'}, {'cast_id': 27, 'character': 'Lady Caroline', 'credit_id': '57dd9a1092514178550018e1', 'gender': 1, 'id': 83053, 'name': 'Hope Alexander-Willis', 'order': 17, 'profile_path': '/uMA3E1OUniek80LNbqf8ejK2edW.jpg'}, {'cast_id': 28, 'character': 'Lord Peroit', 'credit_id': '57eecf689251416cd60095c1', 'gender': 2, 'id': 1451161, 'name': 'Rowan Joseph', 'order': 18, 'profile_path': '/6zUforjrDfcPoP8YMsdIaoygHmz.jpg'}, {'cast_id': 29, 'character': 'Genovian Cafe Owner', 'credit_id': '57eed0ff9251415ddb00752b', 'gender': 2, 'id': 156005, 'name': 'Jeffrey Scott Jensen', 'order': 19, 'profile_path': '/mW0EwKomK5u3WSmkL60V2HWLhCu.jpg'}]\",\"[{'credit_id': '52fe43fe9251416c7502563d', 'department': 'Directing', 'gender': 2, 'id': 1201, 'job': 'Director', 'name': 'Garry Marshall', 'profile_path': '/kx77E8p5rnEmKxIhFT0qWCEMEik.jpg'}, {'credit_id': '52fe43fe9251416c75025667', 'department': 'Camera', 'gender': 2, 'id': 1214, 'job': 'Director of Photography', 'name': 'Charles Minsky', 'profile_path': None}, {'credit_id': '52fe43fe9251416c75025661', 'department': 'Sound', 'gender': 2, 'id': 4500, 'job': 'Original Music Composer', 'name': 'John Debney', 'profile_path': '/hTrlvZlDXQk49nfc2BM9sjKfJv.jpg'}, {'credit_id': '52fe43fe9251416c7502564f', 'department': 'Production', 'gender': 1, 'id': 8851, 'job': 'Producer', 'name': 'Whitney Houston', 'profile_path': '/69ouDnXnmklYPr4sMJXWKYz81AL.jpg'}, {'credit_id': '52fe43fe9251416c7502566d', 'department': 'Editing', 'gender': 0, 'id': 12970, 'job': 'Editor', 'name': 'Bruce Green', 'profile_path': '/yplxWPVgwK1b33AjvbhM9mWX2Aw.jpg'}, {'credit_id': '52fe43fe9251416c75025655', 'department': 'Production', 'gender': 2, 'id': 38415, 'job': 'Producer', 'name': 'Mario Iscovich', 'profile_path': None}, {'credit_id': '52fe43fe9251416c7502565b', 'department': 'Production', 'gender': 1, 'id': 38416, 'job': 'Executive Producer', 'name': 'Ellen H. Schwartz', 'profile_path': '/6WInjABr1sAYGXaa5qOvSrsHIqP.jpg'}, {'credit_id': '52fe43fe9251416c75025649', 'department': 'Production', 'gender': 1, 'id': 59973, 'job': 'Producer', 'name': 'Debra Martin Chase', 'profile_path': None}, {'credit_id': '52fe43fe9251416c75025643', 'department': 'Writing', 'gender': 1, 'id': 25539, 'job': 'Screenplay', 'name': 'Shonda Rhimes', 'profile_path': '/4c77e347InbTAlw9lGvORpZBHV6.jpg'}]\",95149435\r\n",
            "3,,3300000,\"[{'id': 18, 'name': 'Drama'}]\",http://sonyclassics.com/whiplash/,tt2582802,en,Whiplash,\"Under the direction of a ruthless instructor, a talented young drummer begins to pursue perfection at any cost, even his humanity.\",64.29999,/lIv1QinFqz4dlp5U4lQ6HaiskOZ.jpg,\"[{'name': 'Bold Films', 'id': 2266}, {'name': 'Blumhouse Productions', 'id': 3172}, {'name': 'Right of Way Films', 'id': 32157}]\",\"[{'iso_3166_1': 'US', 'name': 'United States of America'}]\",10/10/14,105,\"[{'iso_639_1': 'en', 'name': 'English'}]\",Released,The road to greatness can take you to the edge.,Whiplash,\"[{'id': 1416, 'name': 'jazz'}, {'id': 1523, 'name': 'obsession'}, {'id': 1640, 'name': 'conservatory'}, {'id': 2176, 'name': 'music teacher'}, {'id': 14512, 'name': 'new york city'}, {'id': 14819, 'name': 'violence'}, {'id': 33896, 'name': 'montage'}, {'id': 156823, 'name': 'drummer'}, {'id': 170418, 'name': 'public humiliation'}, {'id': 176095, 'name': 'jazz band'}, {'id': 206298, 'name': 'young adult'}, {'id': 207739, 'name': 'music school'}]\",\"[{'cast_id': 5, 'character': 'Andrew Neimann', 'credit_id': '52fe4ef7c3a36847f82b3fc3', 'gender': 2, 'id': 996701, 'name': 'Miles Teller', 'order': 0, 'profile_path': '/o2wfvYAvspsKqYVt4ORR8VWjB7H.jpg'}, {'cast_id': 6, 'character': 'Terence Fletcher', 'credit_id': '52fe4ef7c3a36847f82b3fc7', 'gender': 2, 'id': 18999, 'name': 'J.K. Simmons', 'order': 1, 'profile_path': '/jPoNW5fugs5h8AbcE7H5OBm04Tm.jpg'}, {'cast_id': 11, 'character': 'Nicole', 'credit_id': '52fe4ef7c3a36847f82b3fe3', 'gender': 1, 'id': 129104, 'name': 'Melissa Benoist', 'order': 2, 'profile_path': '/fj3Va0w2OyKaQALGomMgpq2B2Fu.jpg'}, {'cast_id': 12, 'character': 'Ryan', 'credit_id': '52fe4ef7c3a36847f82b3fe7', 'gender': 2, 'id': 970216, 'name': 'Austin Stowell', 'order': 3, 'profile_path': '/su6KMYwfr4qVXRjlXi4u0h16Fxg.jpg'}, {'cast_id': 13, 'character': 'Travis', 'credit_id': '52fe4ef7c3a36847f82b3feb', 'gender': 2, 'id': 223012, 'name': 'Jayson Blair', 'order': 4, 'profile_path': '/lqWVUUOBrv4ANxyvsv5aagc6CBq.jpg'}, {'cast_id': 14, 'character': 'Assistant - Sophie', 'credit_id': '52fe4ef7c3a36847f82b3fef', 'gender': 1, 'id': 159366, 'name': 'Kavita Patil', 'order': 5, 'profile_path': '/z5tSybvNYudaFK2db7bTw9tDqyP.jpg'}, {'cast_id': 15, 'character': 'Mr. Neyman', 'credit_id': '5466cd46eaeb817274000acb', 'gender': 2, 'id': 781, 'name': 'Paul Reiser', 'order': 6, 'profile_path': '/fr53dQQrDGfETgbliCktwKqteRU.jpg'}, {'cast_id': 22, 'character': 'Carl Tanner', 'credit_id': '5525414d925141720c001b56', 'gender': 0, 'id': 1451540, 'name': 'Nate Lang', 'order': 7, 'profile_path': None}, {'cast_id': 23, 'character': 'Uncle Frank', 'credit_id': '5525415fc3a3687df80016c4', 'gender': 2, 'id': 15824, 'name': 'Chris Mulkey', 'order': 8, 'profile_path': '/ibXN9Ho0nCF4jbGHeQYRHI8AMjH.jpg'}, {'cast_id': 24, 'character': 'Mr. Kramer', 'credit_id': '5525416c9251417276001927', 'gender': 2, 'id': 53454, 'name': 'Damon Gupton', 'order': 9, 'profile_path': '/8t8IBqQjRJkPcugmcAAn1C7J0pg.jpg'}, {'cast_id': 25, 'character': 'Aunt Emma', 'credit_id': '55254179c3a3687ded0016cf', 'gender': 0, 'id': 1212459, 'name': 'Suanne Spoke', 'order': 10, 'profile_path': None}, {'cast_id': 26, 'character': 'Dorm Neighbor', 'credit_id': '552541869251417be200a8f2', 'gender': 2, 'id': 52939, 'name': 'Max Kasch', 'order': 11, 'profile_path': '/4NzNJEJ6NWU40GKO6BS1Ne6ECNL.jpg'}, {'cast_id': 27, 'character': 'Dustin', 'credit_id': '552541959251415c7c00bd61', 'gender': 0, 'id': 1451542, 'name': 'Charlie Ian', 'order': 12, 'profile_path': None}, {'cast_id': 29, 'character': 'Bassist (Nassau)', 'credit_id': '552541ae925141720c001b71', 'gender': 2, 'id': 1451543, 'name': 'Kofi Siriboe', 'order': 14, 'profile_path': '/4qxcHkPIMUMZCW7UNH9kIfRndgS.jpg'}, {'cast_id': 31, 'character': 'Metz', 'credit_id': '552541c7c3a3687e08001774', 'gender': 0, 'id': 1451545, 'name': 'C.J. Vana', 'order': 16, 'profile_path': None}, {'cast_id': 32, 'character': 'Pianist (Studio Band)', 'credit_id': '55e6d136c3a3685f85002956', 'gender': 0, 'id': 171766, 'name': 'Tarik Lowe', 'order': 17, 'profile_path': '/ze1kaigQO0wLP4DtLnDIdqtfxtZ.jpg'}, {'cast_id': 33, 'character': 'Saxophonist #2 (Studio Band)', 'credit_id': '55e6d136c3a3685f98002c48', 'gender': 0, 'id': 1398714, 'name': 'Tyler Kimball', 'order': 18, 'profile_path': None}, {'cast_id': 34, 'character': 'Trumpeter #1 (Studio Band)', 'credit_id': '55e6d136c3a3685f8e002617', 'gender': 0, 'id': 1503721, 'name': 'Rogelio Douglas Jr.', 'order': 19, 'profile_path': '/j7NJ52wEo58siDpkzIWIKyC7DD5.jpg'}, {'cast_id': 35, 'character': 'Trumpeter #2 (Studio Band)', 'credit_id': '55e6d137c3a3685f9100272e', 'gender': 0, 'id': 1503834, 'name': 'Adrian Burks', 'order': 20, 'profile_path': None}, {'cast_id': 36, 'character': 'Technician (Overbrook) - Mike', 'credit_id': '55e6d1379251410f0a0026b6', 'gender': 0, 'id': 1503835, 'name': 'Joseph Bruno', 'order': 21, 'profile_path': None}, {'cast_id': 37, 'character': 'Stage Hand (Overbrook)', 'credit_id': '55e6d1379251410f0d002526', 'gender': 0, 'id': 1296849, 'name': 'Michael D. Cohen', 'order': 22, 'profile_path': None}, {'cast_id': 38, 'character': 'Passerby (Bus Station)', 'credit_id': '55e6d1389251410f10002836', 'gender': 1, 'id': 1098246, 'name': 'Jocelyn Ayanna', 'order': 23, 'profile_path': '/98oAzcosJLJHqHFENiWdnnv3n3J.jpg'}, {'cast_id': 39, 'character': 'Truck Driver', 'credit_id': '55e6d1389251410f0700274e', 'gender': 2, 'id': 1503836, 'name': 'Keenan Henson', 'order': 24, 'profile_path': None}, {'cast_id': 40, 'character': 'Passerby (Dunellen)', 'credit_id': '55e6d138c3a3685f8e00261a', 'gender': 0, 'id': 1503837, 'name': 'Janet Hoskins', 'order': 25, 'profile_path': None}, {'cast_id': 41, 'character': 'Rachel Bornholdt', 'credit_id': '55e6d138c3a3685f91002733', 'gender': 1, 'id': 10691, 'name': 'April Grace', 'order': 26, 'profile_path': '/9vHFcPQS463AjDgst7vFJy6ZUnA.jpg'}, {'cast_id': 42, 'character': 'Drummer (Quartet)', 'credit_id': '55e6d139c3a3685f98002c4c', 'gender': 0, 'id': 1503838, 'name': \"\"Clifton 'Fou Fou' Eddie\"\", 'order': 27, 'profile_path': None}, {'cast_id': 43, 'character': 'Saxophonist', 'credit_id': '55e6d22f9251410f1300293a', 'gender': 0, 'id': 1145677, 'name': 'Calvin C. Winbush', 'order': 28, 'profile_path': None}, {'cast_id': 44, 'character': 'Bassist (JVC)', 'credit_id': '55e6d22fc3a3685f98002c83', 'gender': 0, 'id': 1291961, 'name': 'Marcus Henderson', 'order': 29, 'profile_path': '/5ggLbrE91uYCq3YyN0pI3bDAPbK.jpg'}, {'cast_id': 45, 'character': 'Stage Hand (Carnegie Hall)', 'credit_id': '55e6d2309251410f17002943', 'gender': 0, 'id': 1503841, 'name': 'Tony Baker', 'order': 30, 'profile_path': None}, {'cast_id': 46, 'character': 'Red Henderson', 'credit_id': '55e6d230c3a3685f96002a6b', 'gender': 2, 'id': 16506, 'name': 'Henry G. Sanders', 'order': 31, 'profile_path': '/2SU75g2CAIzGWbgfIlNvKZQhYTZ.jpg'}, {'cast_id': 47, 'character': 'Andrew (8 years old)', 'credit_id': '55e6d2309251410f0a0026e0', 'gender': 0, 'id': 1503842, 'name': 'Sam Campisi', 'order': 32, 'profile_path': None}, {'cast_id': 48, 'character': 'Nassau Trumpeter #2', 'credit_id': '55e6d231c3a3685f96002a6e', 'gender': 0, 'id': 1503843, 'name': 'Jimmie Kirkpatrick', 'order': 33, 'profile_path': None}, {'cast_id': 49, 'character': 'Studio Core Member #1', 'credit_id': '55e6d2319251410f040027d9', 'gender': 0, 'id': 1503844, 'name': 'Keenan Allen', 'order': 34, 'profile_path': None}, {'cast_id': 50, 'character': 'Studio Core Member #2', 'credit_id': '55e6d2319251410f17002948', 'gender': 0, 'id': 1503845, 'name': 'Ayinde Vaughan', 'order': 35, 'profile_path': None}, {'cast_id': 51, 'character': 'Studio Core Member #3', 'credit_id': '55e6d231c3a3685f96002a72', 'gender': 0, 'id': 1435768, 'name': 'Shai Golan', 'order': 36, 'profile_path': None}, {'cast_id': 52, 'character': 'Studio Core Member #4', 'credit_id': '55e6d2329251410f1300293d', 'gender': 0, 'id': 1503846, 'name': 'Yancey Wells', 'order': 37, 'profile_path': None}, {'cast_id': 53, 'character': 'Student #1', 'credit_id': '55e6d232c3a3685f98002c86', 'gender': 0, 'id': 1503847, 'name': 'Candace Roberge', 'order': 38, 'profile_path': None}, {'cast_id': 54, 'character': 'Student #2', 'credit_id': '55e6d2329251410f13002943', 'gender': 0, 'id': 1503848, 'name': 'Krista Kilber', 'order': 39, 'profile_path': None}, {'cast_id': 55, 'character': 'Diner Patron (uncredited)', 'credit_id': '55e6d233c3a3685f96002a75', 'gender': 1, 'id': 1503849, 'name': 'Cici Leah Campbell', 'order': 40, 'profile_path': '/eV5g6RZ5OVVg2kEYkYu8MndanD6.jpg'}, {'cast_id': 56, 'character': 'JVC Trumpet Player (uncredited)', 'credit_id': '55e6d2339251410f040027de', 'gender': 0, 'id': 1503850, 'name': 'Damien Coates', 'order': 41, 'profile_path': None}, {'cast_id': 57, 'character': 'JVC Alto Jazz Saxophone Player (uncredited)', 'credit_id': '55e6d233c3a3685f8e00263c', 'gender': 0, 'id': 1503851, 'name': 'Kyle Julian Graham', 'order': 42, 'profile_path': None}, {'cast_id': 58, 'character': 'Saxophone Player (uncredited)', 'credit_id': '55e6d2349251410f040027e3', 'gender': 0, 'id': 1503852, 'name': 'Ellee Jane Hounsell', 'order': 43, 'profile_path': None}, {'cast_id': 59, 'character': 'JVC Guitarist (uncredited)', 'credit_id': '55e6d234c3a3685f98002c8c', 'gender': 2, 'id': 1503853, 'name': 'Stephen Hsu', 'order': 44, 'profile_path': None}, {'cast_id': 60, 'character': 'Music Competition Judge (uncredited)', 'credit_id': '55e6d234c3a3685f9100275a', 'gender': 0, 'id': 1503854, 'name': 'Herman Johansen', 'order': 45, 'profile_path': None}, {'cast_id': 61, 'character': 'Audience Member (uncredited)', 'credit_id': '55e6d234c3a3685f9e002777', 'gender': 1, 'id': 79051, 'name': 'Wendee Lee', 'order': 46, 'profile_path': '/4hZsZj6YItnzaXSHdsCxSDA3s4l.jpg'}, {'cast_id': 62, 'character': 'JVC Saxophonist (uncredited)', 'credit_id': '55e6d235c3a3685f9100275f', 'gender': 0, 'id': 1503855, 'name': 'Dakota Lupo', 'order': 47, 'profile_path': None}, {'cast_id': 63, 'character': 'Rival Band Saxophonist (uncredited)', 'credit_id': '55e6d2359251410f1000285a', 'gender': 0, 'id': 1503856, 'name': 'Jesse Mitchell', 'order': 48, 'profile_path': None}, {'cast_id': 64, 'character': 'JVC Trombonist (uncredited)', 'credit_id': '55e6d235c3a3685fa0002166', 'gender': 0, 'id': 1503857, 'name': 'Amanda Newman', 'order': 49, 'profile_path': None}, {'cast_id': 65, 'character': 'Bartender (uncredited)', 'credit_id': '55e6d2369251410f0d002555', 'gender': 2, 'id': 1360008, 'name': 'Joseph Oliveira', 'order': 50, 'profile_path': '/nFJX5qWKlHyew7AHKUFE3EQnMO5.jpg'}, {'cast_id': 66, 'character': 'Audience Member (uncredited)', 'credit_id': '55e6d236c3a3685f9e002779', 'gender': 1, 'id': 81380, 'name': 'Michelle Ruff', 'order': 51, 'profile_path': None}, {'cast_id': 67, 'character': 'Studio Band Saxophone Player (uncredited)', 'credit_id': '55e6d2369251410f0d002558', 'gender': 0, 'id': 1503858, 'name': 'Daniel Weidlein', 'order': 52, 'profile_path': None}]\",\"[{'credit_id': '54d5356ec3a3683ba0000039', 'department': 'Production', 'gender': 1, 'id': 494, 'job': 'Casting', 'name': 'Terri Taylor', 'profile_path': None}, {'credit_id': '56407fa89251417055000b58', 'department': 'Sound', 'gender': 0, 'id': 6745, 'job': 'Music Editor', 'name': 'Richard Henderson', 'profile_path': None}, {'credit_id': '5789212392514135d60025fd', 'department': 'Production', 'gender': 2, 'id': 9250, 'job': 'Executive In Charge Of Production', 'name': 'Jeffrey Stott', 'profile_path': None}, {'credit_id': '57892074c3a36835fa002886', 'department': 'Costume & Make-Up', 'gender': 0, 'id': 23783, 'job': 'Makeup Artist', 'name': 'Heather Plott', 'profile_path': None}, {'credit_id': '56408055925141705c000bee', 'department': 'Costume & Make-Up', 'gender': 0, 'id': 23786, 'job': 'Makeup Department Head', 'name': 'Nacoma Whobrey', 'profile_path': None}, {'credit_id': '52fe4ef7c3a36847f82b3fb9', 'department': 'Camera', 'gender': 2, 'id': 53181, 'job': 'Director of Photography', 'name': 'Sharone Meir', 'profile_path': None}, {'credit_id': '56407e4ac3a3685059000c7c', 'department': 'Production', 'gender': 2, 'id': 52443, 'job': 'Executive Producer', 'name': 'Jason Reitman', 'profile_path': '/bW44MnIOve5kqqtcmmbzBre0N7D.jpg'}, {'credit_id': '52fe4ef7c3a36847f82b3fd9', 'department': 'Production', 'gender': 2, 'id': 60864, 'job': 'Producer', 'name': 'David Lancaster', 'profile_path': None}, {'credit_id': '52fe4ef7c3a36847f82b3fdf', 'department': 'Production', 'gender': 0, 'id': 66726, 'job': 'Producer', 'name': 'Michel Litvak', 'profile_path': None}, {'credit_id': '56407e8b9251417052000c80', 'department': 'Production', 'gender': 2, 'id': 66727, 'job': 'Executive Producer', 'name': 'Gary Michael Walters', 'profile_path': None}, {'credit_id': '52fe4ef7c3a36847f82b3fcd', 'department': 'Production', 'gender': 2, 'id': 84348, 'job': 'Producer', 'name': 'Jason Blum', 'profile_path': None}, {'credit_id': '52fe4ef7c3a36847f82b3fb3', 'department': 'Writing', 'gender': 2, 'id': 136495, 'job': 'Screenplay', 'name': 'Damien Chazelle', 'profile_path': '/x5bpTU8b2mwgPpPDGJGWsJ1Qt3t.jpg'}, {'credit_id': '52fe4ef7c3a36847f82b3fad', 'department': 'Directing', 'gender': 2, 'id': 136495, 'job': 'Director', 'name': 'Damien Chazelle', 'profile_path': '/x5bpTU8b2mwgPpPDGJGWsJ1Qt3t.jpg'}, {'credit_id': '56407f1cc3a368506d000bfb', 'department': 'Crew', 'gender': 0, 'id': 198799, 'job': 'Stunt Coordinator', 'name': 'Mark Riccardi', 'profile_path': None}, {'credit_id': '57898004c3a36851a8000a45', 'department': 'Production', 'gender': 0, 'id': 230436, 'job': 'Casting', 'name': 'Barbara Harris', 'profile_path': None}, {'credit_id': '566aac9b92514169e2004626', 'department': 'Camera', 'gender': 0, 'id': 1017376, 'job': 'Steadicam Operator', 'name': 'Chris Squires', 'profile_path': None}, {'credit_id': '5789815c9251410db8000ab6', 'department': 'Crew', 'gender': 1, 'id': 1018788, 'job': 'Thanks', 'name': 'Jasmine McGlade', 'profile_path': '/bmHzn0YY2mUoe9qbZKWb9nfDaDw.jpg'}, {'credit_id': '56407e7f9251417052000c7c', 'department': 'Production', 'gender': 1, 'id': 1030966, 'job': 'Executive Producer', 'name': 'Jeanette Brill', 'profile_path': None}, {'credit_id': '566aabcc92514173830040fb', 'department': 'Sound', 'gender': 0, 'id': 1049456, 'job': 'Supervising Sound Editor', 'name': 'Ben Wilkins', 'profile_path': None}, {'credit_id': '566aabbe92514173fc008d77', 'department': 'Sound', 'gender': 0, 'id': 1049456, 'job': 'Sound Re-Recording Mixer', 'name': 'Ben Wilkins', 'profile_path': None}, {'credit_id': '578922e4c3a36836c0002c11', 'department': 'Crew', 'gender': 0, 'id': 1099700, 'job': 'Stunts', 'name': 'Chester E. Tripp III', 'profile_path': None}, {'credit_id': '5789153b9251411e29002aca', 'department': 'Production', 'gender': 0, 'id': 1125189, 'job': 'Co-Producer', 'name': 'Garrick Dion', 'profile_path': None}, {'credit_id': '52fe4ef7c3a36847f82b3fbf', 'department': 'Editing', 'gender': 2, 'id': 1156888, 'job': 'Editor', 'name': 'Tom Cross', 'profile_path': None}, {'credit_id': '54d53537c3a3683b9c00002f', 'department': 'Art', 'gender': 1, 'id': 1186280, 'job': 'Production Design', 'name': 'Melanie Jones', 'profile_path': None}, {'credit_id': '578921869251411e29002ffa', 'department': 'Directing', 'gender': 0, 'id': 1197441, 'job': 'Assistant Director', 'name': 'Nicolas Duchemin Harvard', 'profile_path': None}, {'credit_id': '52fe4ef7c3a36847f82b3fd3', 'department': 'Production', 'gender': 0, 'id': 1287961, 'job': 'Producer', 'name': 'Helen Estabrook', 'profile_path': None}, {'credit_id': '56407e599251417050000bac', 'department': 'Production', 'gender': 0, 'id': 1319040, 'job': 'Executive Producer', 'name': 'Couper Samuelson', 'profile_path': None}, {'credit_id': '578982f5c3a36819170053c6', 'department': 'Crew', 'gender': 0, 'id': 1338158, 'job': 'Transportation Captain', 'name': 'John Yarbrough', 'profile_path': None}, {'credit_id': '566aac1992514173ff008b4b', 'department': 'Visual Effects', 'gender': 0, 'id': 1358021, 'job': 'Visual Effects Supervisor', 'name': 'Jamison Scott Goei', 'profile_path': None}, {'credit_id': '57891621c3a36836c0002616', 'department': 'Production', 'gender': 0, 'id': 1395180, 'job': 'Co-Producer', 'name': 'Stephanie Wilcox', 'profile_path': None}, {'credit_id': '54d53592c3a3683b89000032', 'department': 'Costume & Make-Up', 'gender': 0, 'id': 1401855, 'job': 'Costume Design', 'name': 'Lisa Norcia', 'profile_path': None}, {'credit_id': '56407f76c3a3685076000bdc', 'department': 'Production', 'gender': 0, 'id': 1401857, 'job': 'Associate Producer', 'name': 'Phillip Dawe', 'profile_path': None}, {'credit_id': '5640803e925141705f000bbb', 'department': 'Costume & Make-Up', 'gender': 0, 'id': 1402475, 'job': 'Hair Department Head', 'name': 'Traci E. Smithe', 'profile_path': None}, {'credit_id': '57898296c3a368365d004bb4', 'department': 'Crew', 'gender': 0, 'id': 1403508, 'job': 'Transportation Coordinator', 'name': 'James G. Brill', 'profile_path': None}, {'credit_id': '566aabe19251417411008a5a', 'department': 'Sound', 'gender': 0, 'id': 1406825, 'job': 'Supervising Sound Editor', 'name': 'Craig Mann', 'profile_path': None}, {'credit_id': '566aaba8c3a3683f56003ba8', 'department': 'Sound', 'gender': 0, 'id': 1406825, 'job': 'Sound Re-Recording Mixer', 'name': 'Craig Mann', 'profile_path': None}, {'credit_id': '566aac80c3a3683f56003bc6', 'department': 'Camera', 'gender': 0, 'id': 1411844, 'job': 'Camera Operator', 'name': 'Eric Leach', 'profile_path': None}, {'credit_id': '578980ae9251410deb0009c3', 'department': 'Production', 'gender': 0, 'id': 1417888, 'job': 'Location Manager', 'name': 'Kandice Billingsley', 'profile_path': None}, {'credit_id': '5789226bc3a368357300278e', 'department': 'Crew', 'gender': 0, 'id': 1419137, 'job': 'Stunts', 'name': 'Brady Romberg', 'profile_path': None}, {'credit_id': '54d5355d925141716000002a', 'department': 'Sound', 'gender': 0, 'id': 1419631, 'job': 'Original Music Composer', 'name': 'Justin Hurwitz', 'profile_path': None}, {'credit_id': '5640800dc3a3685074000c5b', 'department': 'Camera', 'gender': 2, 'id': 1420326, 'job': 'Still Photographer', 'name': 'Daniel C. McFadden', 'profile_path': None}, {'credit_id': '54d535819251416b9c00003e', 'department': 'Art', 'gender': 0, 'id': 1423984, 'job': 'Set Decoration', 'name': 'Karuna Karmarkar', 'profile_path': None}, {'credit_id': '54d536529251416ba800003f', 'department': 'Art', 'gender': 0, 'id': 1423985, 'job': 'Art Direction', 'name': 'Hunter Brown', 'profile_path': None}, {'credit_id': '566aabf6c3a36836b400843c', 'department': 'Crew', 'gender': 0, 'id': 1429003, 'job': 'Special Effects Coordinator', 'name': 'Zak Knight', 'profile_path': None}, {'credit_id': '564081549251417061000be7', 'department': 'Costume & Make-Up', 'gender': 0, 'id': 1437191, 'job': 'Key Hair Stylist', 'name': 'David Larson', 'profile_path': None}, {'credit_id': '566aab8b92514173ff008b39', 'department': 'Sound', 'gender': 0, 'id': 1437193, 'job': 'Sound Editor', 'name': 'Lauren Hadaway', 'profile_path': None}, {'credit_id': '566aad6292514173ff008b71', 'department': 'Editing', 'gender': 0, 'id': 1443967, 'job': 'Digital Intermediate', 'name': 'Vahe Giragol', 'profile_path': None}, {'credit_id': '56407fc2c3a3685070000c78', 'department': 'Directing', 'gender': 0, 'id': 1450000, 'job': 'Script Supervisor', 'name': 'Tracy Scott', 'profile_path': None}, {'credit_id': '57892242c3a368365d002605', 'department': 'Crew', 'gender': 2, 'id': 1450766, 'job': 'Stunts', 'name': 'Kevin Patrick Burke', 'profile_path': '/hnDSXBRsohP96jTS3rk7WLKry7.jpg'}, {'credit_id': '566aaafcc3a36833b600483b', 'department': 'Art', 'gender': 0, 'id': 1451910, 'job': 'Construction Coordinator', 'name': 'Drew Rebelein', 'profile_path': None}, {'credit_id': '578922ab9251411e2900309c', 'department': 'Crew', 'gender': 0, 'id': 1453571, 'job': 'Stunts', 'name': 'Steven Stone', 'profile_path': None}, {'credit_id': '566aaade9251415eed00461e', 'department': 'Art', 'gender': 0, 'id': 1525146, 'job': 'Art Department Coordinator', 'name': 'Zak Faust', 'profile_path': None}, {'credit_id': '56407e1d9251417057000b04', 'department': 'Sound', 'gender': 0, 'id': 1533101, 'job': 'Music Supervisor', 'name': 'Andy Ross', 'profile_path': None}, {'credit_id': '578914ce9251411e29002a94', 'department': 'Production', 'gender': 0, 'id': 1533516, 'job': 'Co-Producer', 'name': 'Nicholas Britell', 'profile_path': None}, {'credit_id': '56407f389251417050000bdd', 'department': 'Production', 'gender': 0, 'id': 1533528, 'job': 'Line Producer', 'name': 'Mark David Katchur', 'profile_path': None}, {'credit_id': '56407feac3a3685059000cb9', 'department': 'Production', 'gender': 0, 'id': 1533529, 'job': 'Casting Associate', 'name': 'Sarah Domeier', 'profile_path': None}, {'credit_id': '56407ffbc3a368506d000c25', 'department': 'Lighting', 'gender': 0, 'id': 1533530, 'job': 'Gaffer', 'name': 'Elan Yaari', 'profile_path': None}, {'credit_id': '566aab42c3a3682647003ff9', 'department': 'Editing', 'gender': 0, 'id': 1547656, 'job': 'Dialogue Editor', 'name': 'Joe Schiff', 'profile_path': None}, {'credit_id': '566aab6e92514169e2004609', 'department': 'Sound', 'gender': 0, 'id': 1547657, 'job': 'Foley', 'name': 'Alicia Hadaway', 'profile_path': None}, {'credit_id': '566aac2f9251417383004113', 'department': 'Visual Effects', 'gender': 0, 'id': 1547658, 'job': 'Visual Effects Supervisor', 'name': 'David Lebensfeld', 'profile_path': None}, {'credit_id': '566aac4b92514173fc008d92', 'department': 'Visual Effects', 'gender': 0, 'id': 1547659, 'job': 'Visual Effects Supervisor', 'name': 'Grant Miller', 'profile_path': None}, {'credit_id': '566aad3dc3a368264700402e', 'department': 'Editing', 'gender': 0, 'id': 1547660, 'job': 'Digital Intermediate', 'name': 'Steve Hernandez', 'profile_path': None}, {'credit_id': '566aad8192514169e200463c', 'department': 'Editing', 'gender': 0, 'id': 1547661, 'job': 'Digital Intermediate', 'name': 'Mike Will', 'profile_path': None}, {'credit_id': '566aad9dc3a3682e98003e54', 'department': 'Editing', 'gender': 0, 'id': 1547662, 'job': 'First Assistant Editor', 'name': 'John To', 'profile_path': None}]\",13092000\r\n"
          ],
          "name": "stdout"
        }
      ]
    },
    {
      "cell_type": "code",
      "metadata": {
        "id": "01snuIDNtvvA",
        "colab_type": "code",
        "colab": {}
      },
      "source": [
        "import pandas as pd\n",
        "\n",
        "def load_data(train_set=True, data_path=DATA_PATH):\n",
        "  if train_set:\n",
        "    path=os.path.join(data_path, 'train.csv')\n",
        "  else:\n",
        "    path=os.path.join(data_path, 'test.csv')\n",
        "  return pd.read_csv(path, index_col='id')"
      ],
      "execution_count": 0,
      "outputs": []
    },
    {
      "cell_type": "code",
      "metadata": {
        "id": "fC_7VRDpugqq",
        "colab_type": "code",
        "outputId": "8b7dc48d-99b5-4e9a-93e9-1c5e534f668c",
        "colab": {
          "base_uri": "https://localhost:8080/",
          "height": 663
        }
      },
      "source": [
        "movies=load_data()\n",
        "movies.head(2)"
      ],
      "execution_count": 7,
      "outputs": [
        {
          "output_type": "execute_result",
          "data": {
            "text/html": [
              "<div>\n",
              "<style scoped>\n",
              "    .dataframe tbody tr th:only-of-type {\n",
              "        vertical-align: middle;\n",
              "    }\n",
              "\n",
              "    .dataframe tbody tr th {\n",
              "        vertical-align: top;\n",
              "    }\n",
              "\n",
              "    .dataframe thead th {\n",
              "        text-align: right;\n",
              "    }\n",
              "</style>\n",
              "<table border=\"1\" class=\"dataframe\">\n",
              "  <thead>\n",
              "    <tr style=\"text-align: right;\">\n",
              "      <th></th>\n",
              "      <th>belongs_to_collection</th>\n",
              "      <th>budget</th>\n",
              "      <th>genres</th>\n",
              "      <th>homepage</th>\n",
              "      <th>imdb_id</th>\n",
              "      <th>original_language</th>\n",
              "      <th>original_title</th>\n",
              "      <th>overview</th>\n",
              "      <th>popularity</th>\n",
              "      <th>poster_path</th>\n",
              "      <th>production_companies</th>\n",
              "      <th>production_countries</th>\n",
              "      <th>release_date</th>\n",
              "      <th>runtime</th>\n",
              "      <th>spoken_languages</th>\n",
              "      <th>status</th>\n",
              "      <th>tagline</th>\n",
              "      <th>title</th>\n",
              "      <th>Keywords</th>\n",
              "      <th>cast</th>\n",
              "      <th>crew</th>\n",
              "      <th>revenue</th>\n",
              "    </tr>\n",
              "    <tr>\n",
              "      <th>id</th>\n",
              "      <th></th>\n",
              "      <th></th>\n",
              "      <th></th>\n",
              "      <th></th>\n",
              "      <th></th>\n",
              "      <th></th>\n",
              "      <th></th>\n",
              "      <th></th>\n",
              "      <th></th>\n",
              "      <th></th>\n",
              "      <th></th>\n",
              "      <th></th>\n",
              "      <th></th>\n",
              "      <th></th>\n",
              "      <th></th>\n",
              "      <th></th>\n",
              "      <th></th>\n",
              "      <th></th>\n",
              "      <th></th>\n",
              "      <th></th>\n",
              "      <th></th>\n",
              "      <th></th>\n",
              "    </tr>\n",
              "  </thead>\n",
              "  <tbody>\n",
              "    <tr>\n",
              "      <th>1</th>\n",
              "      <td>[{'id': 313576, 'name': 'Hot Tub Time Machine ...</td>\n",
              "      <td>14000000</td>\n",
              "      <td>[{'id': 35, 'name': 'Comedy'}]</td>\n",
              "      <td>NaN</td>\n",
              "      <td>tt2637294</td>\n",
              "      <td>en</td>\n",
              "      <td>Hot Tub Time Machine 2</td>\n",
              "      <td>When Lou, who has become the \"father of the In...</td>\n",
              "      <td>6.575393</td>\n",
              "      <td>/tQtWuwvMf0hCc2QR2tkolwl7c3c.jpg</td>\n",
              "      <td>[{'name': 'Paramount Pictures', 'id': 4}, {'na...</td>\n",
              "      <td>[{'iso_3166_1': 'US', 'name': 'United States o...</td>\n",
              "      <td>2/20/15</td>\n",
              "      <td>93.0</td>\n",
              "      <td>[{'iso_639_1': 'en', 'name': 'English'}]</td>\n",
              "      <td>Released</td>\n",
              "      <td>The Laws of Space and Time are About to be Vio...</td>\n",
              "      <td>Hot Tub Time Machine 2</td>\n",
              "      <td>[{'id': 4379, 'name': 'time travel'}, {'id': 9...</td>\n",
              "      <td>[{'cast_id': 4, 'character': 'Lou', 'credit_id...</td>\n",
              "      <td>[{'credit_id': '59ac067c92514107af02c8c8', 'de...</td>\n",
              "      <td>12314651</td>\n",
              "    </tr>\n",
              "    <tr>\n",
              "      <th>2</th>\n",
              "      <td>[{'id': 107674, 'name': 'The Princess Diaries ...</td>\n",
              "      <td>40000000</td>\n",
              "      <td>[{'id': 35, 'name': 'Comedy'}, {'id': 18, 'nam...</td>\n",
              "      <td>NaN</td>\n",
              "      <td>tt0368933</td>\n",
              "      <td>en</td>\n",
              "      <td>The Princess Diaries 2: Royal Engagement</td>\n",
              "      <td>Mia Thermopolis is now a college graduate and ...</td>\n",
              "      <td>8.248895</td>\n",
              "      <td>/w9Z7A0GHEhIp7etpj0vyKOeU1Wx.jpg</td>\n",
              "      <td>[{'name': 'Walt Disney Pictures', 'id': 2}]</td>\n",
              "      <td>[{'iso_3166_1': 'US', 'name': 'United States o...</td>\n",
              "      <td>8/6/04</td>\n",
              "      <td>113.0</td>\n",
              "      <td>[{'iso_639_1': 'en', 'name': 'English'}]</td>\n",
              "      <td>Released</td>\n",
              "      <td>It can take a lifetime to find true love; she'...</td>\n",
              "      <td>The Princess Diaries 2: Royal Engagement</td>\n",
              "      <td>[{'id': 2505, 'name': 'coronation'}, {'id': 42...</td>\n",
              "      <td>[{'cast_id': 1, 'character': 'Mia Thermopolis'...</td>\n",
              "      <td>[{'credit_id': '52fe43fe9251416c7502563d', 'de...</td>\n",
              "      <td>95149435</td>\n",
              "    </tr>\n",
              "    <tr>\n",
              "      <th>3</th>\n",
              "      <td>NaN</td>\n",
              "      <td>3300000</td>\n",
              "      <td>[{'id': 18, 'name': 'Drama'}]</td>\n",
              "      <td>http://sonyclassics.com/whiplash/</td>\n",
              "      <td>tt2582802</td>\n",
              "      <td>en</td>\n",
              "      <td>Whiplash</td>\n",
              "      <td>Under the direction of a ruthless instructor, ...</td>\n",
              "      <td>64.299990</td>\n",
              "      <td>/lIv1QinFqz4dlp5U4lQ6HaiskOZ.jpg</td>\n",
              "      <td>[{'name': 'Bold Films', 'id': 2266}, {'name': ...</td>\n",
              "      <td>[{'iso_3166_1': 'US', 'name': 'United States o...</td>\n",
              "      <td>10/10/14</td>\n",
              "      <td>105.0</td>\n",
              "      <td>[{'iso_639_1': 'en', 'name': 'English'}]</td>\n",
              "      <td>Released</td>\n",
              "      <td>The road to greatness can take you to the edge.</td>\n",
              "      <td>Whiplash</td>\n",
              "      <td>[{'id': 1416, 'name': 'jazz'}, {'id': 1523, 'n...</td>\n",
              "      <td>[{'cast_id': 5, 'character': 'Andrew Neimann',...</td>\n",
              "      <td>[{'credit_id': '54d5356ec3a3683ba0000039', 'de...</td>\n",
              "      <td>13092000</td>\n",
              "    </tr>\n",
              "    <tr>\n",
              "      <th>4</th>\n",
              "      <td>NaN</td>\n",
              "      <td>1200000</td>\n",
              "      <td>[{'id': 53, 'name': 'Thriller'}, {'id': 18, 'n...</td>\n",
              "      <td>http://kahaanithefilm.com/</td>\n",
              "      <td>tt1821480</td>\n",
              "      <td>hi</td>\n",
              "      <td>Kahaani</td>\n",
              "      <td>Vidya Bagchi (Vidya Balan) arrives in Kolkata ...</td>\n",
              "      <td>3.174936</td>\n",
              "      <td>/aTXRaPrWSinhcmCrcfJK17urp3F.jpg</td>\n",
              "      <td>NaN</td>\n",
              "      <td>[{'iso_3166_1': 'IN', 'name': 'India'}]</td>\n",
              "      <td>3/9/12</td>\n",
              "      <td>122.0</td>\n",
              "      <td>[{'iso_639_1': 'en', 'name': 'English'}, {'iso...</td>\n",
              "      <td>Released</td>\n",
              "      <td>NaN</td>\n",
              "      <td>Kahaani</td>\n",
              "      <td>[{'id': 10092, 'name': 'mystery'}, {'id': 1054...</td>\n",
              "      <td>[{'cast_id': 1, 'character': 'Vidya Bagchi', '...</td>\n",
              "      <td>[{'credit_id': '52fe48779251416c9108d6eb', 'de...</td>\n",
              "      <td>16000000</td>\n",
              "    </tr>\n",
              "    <tr>\n",
              "      <th>5</th>\n",
              "      <td>NaN</td>\n",
              "      <td>0</td>\n",
              "      <td>[{'id': 28, 'name': 'Action'}, {'id': 53, 'nam...</td>\n",
              "      <td>NaN</td>\n",
              "      <td>tt1380152</td>\n",
              "      <td>ko</td>\n",
              "      <td>마린보이</td>\n",
              "      <td>Marine Boy is the story of a former national s...</td>\n",
              "      <td>1.148070</td>\n",
              "      <td>/m22s7zvkVFDU9ir56PiiqIEWFdT.jpg</td>\n",
              "      <td>NaN</td>\n",
              "      <td>[{'iso_3166_1': 'KR', 'name': 'South Korea'}]</td>\n",
              "      <td>2/5/09</td>\n",
              "      <td>118.0</td>\n",
              "      <td>[{'iso_639_1': 'ko', 'name': '한국어/조선말'}]</td>\n",
              "      <td>Released</td>\n",
              "      <td>NaN</td>\n",
              "      <td>Marine Boy</td>\n",
              "      <td>NaN</td>\n",
              "      <td>[{'cast_id': 3, 'character': 'Chun-soo', 'cred...</td>\n",
              "      <td>[{'credit_id': '52fe464b9251416c75073b43', 'de...</td>\n",
              "      <td>3923970</td>\n",
              "    </tr>\n",
              "  </tbody>\n",
              "</table>\n",
              "</div>"
            ],
            "text/plain": [
              "                                belongs_to_collection  ...   revenue\n",
              "id                                                     ...          \n",
              "1   [{'id': 313576, 'name': 'Hot Tub Time Machine ...  ...  12314651\n",
              "2   [{'id': 107674, 'name': 'The Princess Diaries ...  ...  95149435\n",
              "3                                                 NaN  ...  13092000\n",
              "4                                                 NaN  ...  16000000\n",
              "5                                                 NaN  ...   3923970\n",
              "\n",
              "[5 rows x 22 columns]"
            ]
          },
          "metadata": {
            "tags": []
          },
          "execution_count": 7
        }
      ]
    },
    {
      "cell_type": "code",
      "metadata": {
        "id": "J1vUEwq9uvHc",
        "colab_type": "code",
        "outputId": "d02eae40-c69d-4c09-b84e-141e362f32e3",
        "colab": {
          "base_uri": "https://localhost:8080/",
          "height": 207
        }
      },
      "source": [
        "!head -n 10 'datasets/tmdb_movie_revenue/train.csv'"
      ],
      "execution_count": 8,
      "outputs": [
        {
          "output_type": "stream",
          "text": [
            "﻿id,belongs_to_collection,budget,genres,homepage,imdb_id,original_language,original_title,overview,popularity,poster_path,production_companies,production_countries,release_date,runtime,spoken_languages,status,tagline,title,Keywords,cast,crew,revenue\r\n",
            "1,\"[{'id': 313576, 'name': 'Hot Tub Time Machine Collection', 'poster_path': '/iEhb00TGPucF0b4joM1ieyY026U.jpg', 'backdrop_path': '/noeTVcgpBiD48fDjFVic1Vz7ope.jpg'}]\",14000000,\"[{'id': 35, 'name': 'Comedy'}]\",,tt2637294,en,Hot Tub Time Machine 2,\"When Lou, who has become the \"\"father of the Internet,\"\" is shot by an unknown assailant, Jacob and Nick fire up the time machine again to save their friend.\",6.575393,/tQtWuwvMf0hCc2QR2tkolwl7c3c.jpg,\"[{'name': 'Paramount Pictures', 'id': 4}, {'name': 'United Artists', 'id': 60}, {'name': 'Metro-Goldwyn-Mayer (MGM)', 'id': 8411}]\",\"[{'iso_3166_1': 'US', 'name': 'United States of America'}]\",2/20/15,93,\"[{'iso_639_1': 'en', 'name': 'English'}]\",Released,The Laws of Space and Time are About to be Violated.,Hot Tub Time Machine 2,\"[{'id': 4379, 'name': 'time travel'}, {'id': 9663, 'name': 'sequel'}, {'id': 11830, 'name': 'hot tub'}, {'id': 179431, 'name': 'duringcreditsstinger'}]\",\"[{'cast_id': 4, 'character': 'Lou', 'credit_id': '52fe4ee7c3a36847f82afae7', 'gender': 2, 'id': 52997, 'name': 'Rob Corddry', 'order': 0, 'profile_path': '/k2zJL0V1nEZuFT08xUdOd3ucfXz.jpg'}, {'cast_id': 5, 'character': 'Nick', 'credit_id': '52fe4ee7c3a36847f82afaeb', 'gender': 2, 'id': 64342, 'name': 'Craig Robinson', 'order': 1, 'profile_path': '/tVaRMkJXOEVhYxtnnFuhqW0Rjzz.jpg'}, {'cast_id': 6, 'character': 'Jacob', 'credit_id': '52fe4ee7c3a36847f82afaef', 'gender': 2, 'id': 54729, 'name': 'Clark Duke', 'order': 2, 'profile_path': '/oNzK0umwm5Wn0wyEbOy6TVJCSBn.jpg'}, {'cast_id': 7, 'character': 'Adam Jr.', 'credit_id': '52fe4ee7c3a36847f82afaf3', 'gender': 2, 'id': 36801, 'name': 'Adam Scott', 'order': 3, 'profile_path': '/5gb65xz8bzd42yjMAl4zwo4cvKw.jpg'}, {'cast_id': 8, 'character': 'Hot Tub Repairman', 'credit_id': '52fe4ee7c3a36847f82afaf7', 'gender': 2, 'id': 54812, 'name': 'Chevy Chase', 'order': 4, 'profile_path': '/svjpyYtPwtjvRxX9IZnOmOkhDOt.jpg'}, {'cast_id': 9, 'character': 'Jill', 'credit_id': '52fe4ee7c3a36847f82afafb', 'gender': 1, 'id': 94098, 'name': 'Gillian Jacobs', 'order': 5, 'profile_path': '/rBnhe5vhNPnhRUdtYahBWx90fJM.jpg'}, {'cast_id': 10, 'character': 'Sophie', 'credit_id': '52fe4ee7c3a36847f82afaff', 'gender': 1, 'id': 1159009, 'name': 'Bianca Haase', 'order': 6, 'profile_path': '/4x3nbtD8q8phAJPmoGWXPvz0iM.jpg'}, {'cast_id': 11, 'character': 'Kelly', 'credit_id': '5524ec51c3a3687df3000dbb', 'gender': 1, 'id': 86624, 'name': 'Collette Wolfe', 'order': 7, 'profile_path': '/aSD4h5379b2eEw3bLou9ByLimmq.jpg'}, {'cast_id': 13, 'character': 'Brad', 'credit_id': '5524ec8ec3a3687ded000d72', 'gender': 2, 'id': 466505, 'name': 'Kumail Nanjiani', 'order': 9, 'profile_path': '/x4nAztHY72SVciRfxEsbhIVTsIu.jpg'}, {'cast_id': 14, 'character': 'Courtney', 'credit_id': '5524ec9bc3a3687df8000d13', 'gender': 1, 'id': 70776, 'name': 'Kellee Stewart', 'order': 10, 'profile_path': '/w3xmsEPmJc1Cf0dQ4aIn8YmlHbk.jpg'}, {'cast_id': 15, 'character': 'Terry', 'credit_id': '5524eca892514171cb008237', 'gender': 2, 'id': 347335, 'name': 'Josh Heald', 'order': 11, 'profile_path': '/pwXJIenrDMrG7t3zNfLvr8w1RGU.jpg'}, {'cast_id': 16, 'character': 'Susan', 'credit_id': '5524ecb7925141720c001116', 'gender': 0, 'id': 1451392, 'name': 'Gretchen Koerner', 'order': 12, 'profile_path': '/muULPexCTJGyJba4yKzxronpD50.jpg'}, {'cast_id': 17, 'character': 'Herself', 'credit_id': '5524ecc3c3a3687ded000d74', 'gender': 1, 'id': 98879, 'name': 'Lisa Loeb', 'order': 13, 'profile_path': '/bGqg58ca0bZR38z9HliUMmeNGE.jpg'}, {'cast_id': 18, 'character': 'Herself', 'credit_id': '5524ecd3c3a3687e11000ed3', 'gender': 1, 'id': 1394648, 'name': 'Jessica Williams', 'order': 14, 'profile_path': '/A4syKjkcYB92wLEhH0c0hC3BCpz.jpg'}, {'cast_id': 19, 'character': 'Himself', 'credit_id': '5524ece6925141718d001009', 'gender': 0, 'id': 1451393, 'name': 'Bruce Buffer', 'order': 15, 'profile_path': None}, {'cast_id': 20, 'character': 'Shot Girl', 'credit_id': '5524ecf5c3a3687e08000dc2', 'gender': 0, 'id': 1451394, 'name': 'Mariana Paola Vicente', 'order': 16, 'profile_path': '/ckPllza8624UHWGHCbLShkLxCD1.jpg'}, {'cast_id': 33, 'character': 'Choozy Doozy Host', 'credit_id': '555844da9251412afe0013a9', 'gender': 2, 'id': 2224, 'name': 'Christian Slater', 'order': 17, 'profile_path': '/3ElLWjnvchMS6Q4cIQOK8QNAoMG.jpg'}, {'cast_id': 35, 'character': 'Gary Winkle', 'credit_id': '55872027c3a3683853005074', 'gender': 0, 'id': 185805, 'name': 'Jason Jones', 'order': 18, 'profile_path': '/aIoCw6vo8AGMdsQRAI5g2t0yJT3.jpg'}, {'cast_id': 36, 'character': 'Bridesmaid', 'credit_id': '55efe971c3a368090c00cd1b', 'gender': 0, 'id': 1507448, 'name': 'Olivia Jordan', 'order': 19, 'profile_path': '/szMukAEiIDeasel0lvyaeyKuych.jpg'}, {'cast_id': 37, 'character': 'Christine', 'credit_id': '55efe980c3a36871bf008176', 'gender': 1, 'id': 1334091, 'name': 'Christine Bently', 'order': 20, 'profile_path': '/oUZltnGa55OXE52hfyPTfCshuNy.jpg'}, {'cast_id': 38, 'character': 'Excited Girl', 'credit_id': '55efe98e9251413e3201d316', 'gender': 0, 'id': 557803, 'name': 'Stacey Asaro', 'order': 21, 'profile_path': '/qTPdlr1dXf3kNdyHuDsgtGC0HCC.jpg'}, {'cast_id': 64, 'character': 'Adam (uncredited)', 'credit_id': '58f2135ac3a3682e95008b91', 'gender': 2, 'id': 3036, 'name': 'John Cusack', 'order': 22, 'profile_path': '/uKydQYuZ9TnCzvbQLtj6j98vWAT.jpg'}, {'cast_id': 65, 'character': 'J-Bird', 'credit_id': '59ac0240c3a3682cc802c399', 'gender': 2, 'id': 59256, 'name': 'Adam Herschman', 'order': 23, 'profile_path': '/wZMwiuX1DslF6hDS50z9OTN6z1X.jpg'}, {'cast_id': 66, 'character': 'Bridesmaid', 'credit_id': '59ac02cd925141079d02b1b4', 'gender': 1, 'id': 129714, 'name': 'Kisha Sierra', 'order': 24, 'profile_path': None}]\",\"[{'credit_id': '59ac067c92514107af02c8c8', 'department': 'Directing', 'gender': 0, 'id': 1449071, 'job': 'First Assistant Director', 'name': 'Kelly Cantley', 'profile_path': None}, {'credit_id': '52fe4ee7c3a36847f82afad7', 'department': 'Directing', 'gender': 2, 'id': 3227, 'job': 'Director', 'name': 'Steve Pink', 'profile_path': '/myHOgo8mQSCiCAZNGMRdHVr03jr.jpg'}, {'credit_id': '5524ed25c3a3687ded000d88', 'department': 'Writing', 'gender': 2, 'id': 347335, 'job': 'Writer', 'name': 'Josh Heald', 'profile_path': '/pwXJIenrDMrG7t3zNfLvr8w1RGU.jpg'}, {'credit_id': '5524ed2d925141720c001128', 'department': 'Writing', 'gender': 2, 'id': 347335, 'job': 'Characters', 'name': 'Josh Heald', 'profile_path': '/pwXJIenrDMrG7t3zNfLvr8w1RGU.jpg'}, {'credit_id': '5524ed3d92514166c1004a5d', 'department': 'Production', 'gender': 2, 'id': 57822, 'job': 'Producer', 'name': 'Andrew Panay', 'profile_path': None}, {'credit_id': '5524ed4bc3a3687df3000dd2', 'department': 'Production', 'gender': 0, 'id': 1451395, 'job': 'Associate Producer', 'name': 'Adam Blum', 'profile_path': None}, {'credit_id': '5524ed5a925141720c00112c', 'department': 'Production', 'gender': 2, 'id': 52997, 'job': 'Executive Producer', 'name': 'Rob Corddry', 'profile_path': '/k2zJL0V1nEZuFT08xUdOd3ucfXz.jpg'}, {'credit_id': '5524ed85c3a3687e0e000f56', 'department': 'Production', 'gender': 0, 'id': 62807, 'job': 'Executive Producer', 'name': 'Ben Ormand', 'profile_path': None}, {'credit_id': '5524ed9fc3a3687e0e000f59', 'department': 'Sound', 'gender': 2, 'id': 23486, 'job': 'Original Music Composer', 'name': 'Christophe Beck', 'profile_path': '/2fnJUmCk6IEpVIptpYaUk31epHx.jpg'}, {'credit_id': '5524eda6c3a3687e03000d28', 'department': 'Camera', 'gender': 2, 'id': 6117, 'job': 'Director of Photography', 'name': 'Declan Quinn', 'profile_path': None}, {'credit_id': '5524edb4925141720c00113d', 'department': 'Editing', 'gender': 0, 'id': 1451396, 'job': 'Editor', 'name': 'Jamie Gross', 'profile_path': None}, {'credit_id': '5524edc1925141727600102e', 'department': 'Production', 'gender': 0, 'id': 22219, 'job': 'Casting', 'name': 'Susie Farris', 'profile_path': None}, {'credit_id': '5524edd192514171cb008257', 'department': 'Art', 'gender': 0, 'id': 1002643, 'job': 'Production Design', 'name': 'Ryan Berg', 'profile_path': None}, {'credit_id': '555ad9be9251411e5b00d485', 'department': 'Production', 'gender': 2, 'id': 57431, 'job': 'Executive Producer', 'name': 'Matt Moore', 'profile_path': None}, {'credit_id': '5677e93bc3a36816890087dc', 'department': 'Directing', 'gender': 0, 'id': 1551818, 'job': 'Script Supervisor', 'name': 'Nicole Garcea', 'profile_path': None}, {'credit_id': '5677e96a92514179e10093d0', 'department': 'Production', 'gender': 0, 'id': 1551819, 'job': 'Production Coordinator', 'name': 'Jason Salzman', 'profile_path': None}, {'credit_id': '5677e98492514179d2008cd9', 'department': 'Costume & Make-Up', 'gender': 0, 'id': 1422996, 'job': 'Costume Design', 'name': 'Carol Cutshall', 'profile_path': None}, {'credit_id': '5677e9d5c3a368168e009414', 'department': 'Art', 'gender': 2, 'id': 500199, 'job': 'Set Decoration', 'name': 'Tim Cohn', 'profile_path': None}, {'credit_id': '5677f89d9251417845001a61', 'department': 'Costume & Make-Up', 'gender': 0, 'id': 1527917, 'job': 'Hair Department Head', 'name': 'Voni Hinkle', 'profile_path': None}, {'credit_id': '5677f8b392514179dd0089fb', 'department': 'Costume & Make-Up', 'gender': 0, 'id': 1431554, 'job': 'Makeup Department Head', 'name': 'Remi Savva', 'profile_path': None}, {'credit_id': '5677f8d1c3a3681689008a4b', 'department': 'Art', 'gender': 0, 'id': 66495, 'job': 'Art Direction', 'name': 'Jason Baldwin Stewart', 'profile_path': None}, {'credit_id': '5677f8eec3a3681685008dd5', 'department': 'Production', 'gender': 0, 'id': 1412466, 'job': 'Production Supervisor', 'name': 'Korey Budd', 'profile_path': None}, {'credit_id': '5677f90a9251417845001a7d', 'department': 'Sound', 'gender': 0, 'id': 1401562, 'job': 'Sound Re-Recording Mixer', 'name': 'Gary C. Bourgeois', 'profile_path': None}, {'credit_id': '5677f91e9251417845001a84', 'department': 'Sound', 'gender': 0, 'id': 1396794, 'job': 'Sound Re-Recording Mixer', 'name': 'Gabriel J. Serrano', 'profile_path': None}, {'credit_id': '5677f938c3a3681680008dd4', 'department': 'Editing', 'gender': 0, 'id': 13168, 'job': 'Dialogue Editor', 'name': 'Victoria Rose Sampson', 'profile_path': None}, {'credit_id': '5677f94e92514179dd008a1f', 'department': 'Sound', 'gender': 0, 'id': 1551839, 'job': 'Production Sound Mixer', 'name': 'Michael B. Koff', 'profile_path': None}, {'credit_id': '5677f968c3a368168e009698', 'department': 'Sound', 'gender': 0, 'id': 113052, 'job': 'Sound Effects Editor', 'name': 'Randall Guth', 'profile_path': None}, {'credit_id': '5677f98dc3a3681685008e02', 'department': 'Crew', 'gender': 2, 'id': 1442535, 'job': 'Stunt Coordinator', 'name': 'Chuck Picerni Jr.', 'profile_path': '/yE5QtXUzcrnCzMRctZL8F5g842B.jpg'}, {'credit_id': '5677f9a692514179dd008a49', 'department': 'Camera', 'gender': 0, 'id': 1437305, 'job': 'Camera Operator', 'name': 'Michael Applebaum', 'profile_path': None}, {'credit_id': '5677f9bd9251417845001aae', 'department': 'Camera', 'gender': 0, 'id': 1401765, 'job': 'Still Photographer', 'name': 'Steve Dietl', 'profile_path': None}, {'credit_id': '5677f9e592514179e7008bf7', 'department': 'Lighting', 'gender': 0, 'id': 1402721, 'job': 'Rigging Gaffer', 'name': 'Tarik Naim Alherimi', 'profile_path': None}, {'credit_id': '5677f9f4c3a368167c0090ed', 'department': 'Lighting', 'gender': 0, 'id': 1402719, 'job': 'Gaffer', 'name': 'Paul Olinde', 'profile_path': None}, {'credit_id': '5677fa21c3a368168e0096ca', 'department': 'Sound', 'gender': 0, 'id': 1551840, 'job': 'Music Supervisor', 'name': 'Steve Griffen', 'profile_path': None}, {'credit_id': '5677fa31c3a3681680008e04', 'department': 'Sound', 'gender': 0, 'id': 1551841, 'job': 'Music Editor', 'name': 'Matt Fausak', 'profile_path': None}, {'credit_id': '5677fa4392514179dd008a76', 'department': 'Sound', 'gender': 0, 'id': 1551840, 'job': 'Music Editor', 'name': 'Steve Griffen', 'profile_path': None}, {'credit_id': '5677fa609251417845001acf', 'department': 'Costume & Make-Up', 'gender': 0, 'id': 1403416, 'job': 'Costume Supervisor', 'name': 'Shonta T. McCray', 'profile_path': None}, {'credit_id': '5677fa8492514179d2008fb3', 'department': 'Camera', 'gender': 0, 'id': 1425831, 'job': 'Steadicam Operator', 'name': 'Mark Karavite', 'profile_path': None}, {'credit_id': '5677fab2c3a3681689008ac3', 'department': 'Camera', 'gender': 0, 'id': 1551842, 'job': 'First Assistant Camera', 'name': 'Joe Waistell', 'profile_path': None}, {'credit_id': '5677faecc3a368168e0096fe', 'department': 'Sound', 'gender': 0, 'id': 58362, 'job': 'Supervising Sound Editor', 'name': 'Michael Hilkene', 'profile_path': None}, {'credit_id': '59ac0368c3a3682c0a02c484', 'department': 'Crew', 'gender': 0, 'id': 1881584, 'job': 'Additional Writing', 'name': 'John Karnay', 'profile_path': None}, {'credit_id': '59ac0411c3a3682bf0028966', 'department': 'Costume & Make-Up', 'gender': 0, 'id': 1431552, 'job': 'Hairstylist', 'name': 'Daina Daigle', 'profile_path': None}, {'credit_id': '59ac0504925141072302b8fb', 'department': 'Costume & Make-Up', 'gender': 0, 'id': 1712001, 'job': 'Makeup Artist', 'name': 'Allison Gordin', 'profile_path': None}, {'credit_id': '59ac0570c3a3682bf0028aac', 'department': 'Costume & Make-Up', 'gender': 0, 'id': 578725, 'job': 'Makeup Artist', 'name': 'Darryl Lucas', 'profile_path': None}, {'credit_id': '59ac05a4925141077e02c97e', 'department': 'Costume & Make-Up', 'gender': 0, 'id': 1463274, 'job': 'Makeup Artist', 'name': 'Annabelle MacNeal', 'profile_path': None}, {'credit_id': '59ac05c6925141076502d106', 'department': 'Costume & Make-Up', 'gender': 0, 'id': 1881586, 'job': 'Makeup Artist', 'name': 'Marina Savva', 'profile_path': None}, {'credit_id': '59ac0615c3a3682c480296aa', 'department': 'Costume & Make-Up', 'gender': 0, 'id': 1406267, 'job': 'Hairstylist', 'name': 'Carl G. Variste', 'profile_path': None}, {'credit_id': '59ac06ba925141076502d1fa', 'department': 'Directing', 'gender': 0, 'id': 1798593, 'job': 'First Assistant Director', 'name': 'Josh King', 'profile_path': None}, {'credit_id': '59ac06f1c3a3682c2202aca0', 'department': 'Art', 'gender': 0, 'id': 1415083, 'job': 'Greensman', 'name': 'Scott C. Bivona', 'profile_path': None}, {'credit_id': '59ac072c925141076502d260', 'department': 'Art', 'gender': 0, 'id': 1881587, 'job': 'Title Designer', 'name': 'Eunha Choi', 'profile_path': None}, {'credit_id': '59ac077c925141077e02cb62', 'department': 'Art', 'gender': 0, 'id': 1585302, 'job': 'Construction Coordinator', 'name': 'Daniel Coe', 'profile_path': None}, {'credit_id': '59ac07e0925141078a02d842', 'department': 'Art', 'gender': 0, 'id': 1495523, 'job': 'Set Designer', 'name': 'Spencer Davison', 'profile_path': None}, {'credit_id': '59ac0862925141072f02cf6f', 'department': 'Art', 'gender': 0, 'id': 1881589, 'job': 'Painter', 'name': 'Sonia L. Garcia', 'profile_path': None}, {'credit_id': '59ac08e0c3a3682bf0028e51', 'department': 'Art', 'gender': 0, 'id': 1424896, 'job': 'Art Department Coordinator', 'name': 'Caleb Guillotte', 'profile_path': None}, {'credit_id': '59ac0920c3a3682c2202af36', 'department': 'Art', 'gender': 0, 'id': 1393375, 'job': 'Leadman', 'name': \"\"Pat A. O'Connor\"\", 'profile_path': None}, {'credit_id': '59ac095592514107af02cc39', 'department': 'Art', 'gender': 0, 'id': 1881592, 'job': 'Set Designer', 'name': 'Brendan Turrill', 'profile_path': None}, {'credit_id': '59ac0989925141072302bdfa', 'department': 'Art', 'gender': 2, 'id': 76497, 'job': 'Property Master', 'name': 'Brook Yeaton', 'profile_path': None}, {'credit_id': '59ac0a2cc3a3682c9c02add1', 'department': 'Sound', 'gender': 0, 'id': 1881596, 'job': 'Boom Operator', 'name': 'Matthew Armstrong', 'profile_path': None}, {'credit_id': '59ac0aa8925141072f02d282', 'department': 'Visual Effects', 'gender': 2, 'id': 1558086, 'job': 'Special Effects Supervisor', 'name': 'Matt Kutcher', 'profile_path': None}, {'credit_id': '59ac0b2ac3a3682c2202b192', 'department': 'Crew', 'gender': 2, 'id': 1558087, 'job': 'Special Effects Coordinator', 'name': 'Eric Roberts', 'profile_path': None}, {'credit_id': '59ac0b7ac3a3682c2202b1fb', 'department': 'Visual Effects', 'gender': 0, 'id': 1392098, 'job': 'Visual Effects Supervisor', 'name': 'Rocco Passionino', 'profile_path': None}, {'credit_id': '59ac0bbe925141077e02d0c4', 'department': 'Visual Effects', 'gender': 0, 'id': 1558716, 'job': 'Visual Effects Coordinator', 'name': 'Joseph Payo', 'profile_path': None}, {'credit_id': '59ac0bf2c3a3682cc802cefa', 'department': 'Visual Effects', 'gender': 0, 'id': 1408784, 'job': 'Visual Effects Producer', 'name': 'Chris Roff', 'profile_path': None}, {'credit_id': '59ac0c51c3a3682c48029d99', 'department': 'Lighting', 'gender': 0, 'id': 1881600, 'job': 'Best Boy Electric', 'name': 'Ulyan Atamanyuk', 'profile_path': None}, {'credit_id': '59ac0cbac3a3682c0a02cff6', 'department': 'Camera', 'gender': 0, 'id': 1881602, 'job': 'Key Grip', 'name': 'Chris Ekstrom', 'profile_path': None}, {'credit_id': '59ac0d54925141072f02d5e6', 'department': 'Lighting', 'gender': 0, 'id': 1484984, 'job': 'Best Boy Electric', 'name': 'Brad Garris', 'profile_path': None}, {'credit_id': '59ac0db0925141078a02df86', 'department': 'Camera', 'gender': 0, 'id': 1881603, 'job': 'Dolly Grip', 'name': 'Kendell Joseph', 'profile_path': None}, {'credit_id': '59ac0e5a925141077e02d39f', 'department': 'Camera', 'gender': 0, 'id': 1549179, 'job': 'Dolly Grip', 'name': 'Spencer Wilcox', 'profile_path': None}, {'credit_id': '59ac0e9f925141079d02bee6', 'department': 'Costume & Make-Up', 'gender': 0, 'id': 1552626, 'job': 'Key Costumer', 'name': 'Sarah P. Koeppe', 'profile_path': None}, {'credit_id': '59ac0ec1c3a3682bf0029524', 'department': 'Costume & Make-Up', 'gender': 0, 'id': 1881605, 'job': 'Seamstress', 'name': 'Catherine Rodi', 'profile_path': None}, {'credit_id': '59ac0eef925141070702c7ff', 'department': 'Costume & Make-Up', 'gender': 0, 'id': 1463801, 'job': 'Seamstress', 'name': 'Giselle Spence', 'profile_path': None}, {'credit_id': '59ac0f5dc3a3682c4802a0f5', 'department': 'Production', 'gender': 0, 'id': 1400837, 'job': 'Location Manager', 'name': 'John A. Johnston', 'profile_path': None}, {'credit_id': '59ac0ff2c3a3682c4802a196', 'department': 'Crew', 'gender': 0, 'id': 1844322, 'job': 'Production Controller', 'name': 'Gail Marks', 'profile_path': None}]\",12314651\r\n",
            "2,\"[{'id': 107674, 'name': 'The Princess Diaries Collection', 'poster_path': '/wt5AMbxPTS4Kfjx7Fgm149qPfZl.jpg', 'backdrop_path': '/zSEtYD77pKRJlUPx34BJgUG9v1c.jpg'}]\",40000000,\"[{'id': 35, 'name': 'Comedy'}, {'id': 18, 'name': 'Drama'}, {'id': 10751, 'name': 'Family'}, {'id': 10749, 'name': 'Romance'}]\",,tt0368933,en,The Princess Diaries 2: Royal Engagement,\"Mia Thermopolis is now a college graduate and on her way to Genovia to take up her duties as princess. Her best friend Lilly also joins her for the summer. Mia continues her 'princess lessons'- riding horses side-saddle, archery, and other royal. But her complicated life is turned upside down once again when she not only learns that she is to take the crown as queen earlier than expected...\",8.248895,/w9Z7A0GHEhIp7etpj0vyKOeU1Wx.jpg,\"[{'name': 'Walt Disney Pictures', 'id': 2}]\",\"[{'iso_3166_1': 'US', 'name': 'United States of America'}]\",8/6/04,113,\"[{'iso_639_1': 'en', 'name': 'English'}]\",Released,It can take a lifetime to find true love; she's got 30 days!,The Princess Diaries 2: Royal Engagement,\"[{'id': 2505, 'name': 'coronation'}, {'id': 4263, 'name': 'duty'}, {'id': 6038, 'name': 'marriage'}, {'id': 13072, 'name': 'falling in love'}]\",\"[{'cast_id': 1, 'character': 'Mia Thermopolis', 'credit_id': '52fe43fe9251416c7502561f', 'gender': 1, 'id': 1813, 'name': 'Anne Hathaway', 'order': 0, 'profile_path': '/jUMOKwSUBnTcMeN1HfhutiY49Ad.jpg'}, {'cast_id': 2, 'character': 'Queen Clarisse Renaldi', 'credit_id': '52fe43fe9251416c75025623', 'gender': 1, 'id': 5823, 'name': 'Julie Andrews', 'order': 1, 'profile_path': '/6t61jkmfSA6nbYRCKR9s97CgUN6.jpg'}, {'cast_id': 3, 'character': 'Joe', 'credit_id': '52fe43fe9251416c75025627', 'gender': 2, 'id': 1210, 'name': 'H√©ctor Elizondo', 'order': 2, 'profile_path': '/48UNfVFZVr0jyMIlLPhzm8IIM7f.jpg'}, {'cast_id': 4, 'character': 'Viscount Mabrey', 'credit_id': '52fe43fe9251416c7502562b', 'gender': 2, 'id': 655, 'name': 'John Rhys-Davies', 'order': 3, 'profile_path': '/zZ67PuoFfik9QlZyfaEsFBC1yVJ.jpg'}, {'cast_id': 5, 'character': 'Lilly Moscovitz', 'credit_id': '52fe43fe9251416c7502562f', 'gender': 1, 'id': 33656, 'name': 'Heather Matarazzo', 'order': 4, 'profile_path': '/xcwR8aPuSkUCDPIyKU049M1CXph.jpg'}, {'cast_id': 6, 'character': 'Nicholas Devereaux', 'credit_id': '52fe43fe9251416c75025633', 'gender': 2, 'id': 62064, 'name': 'Chris Pine', 'order': 5, 'profile_path': '/vSe6sIsdtcoqBhuWRXynahFg8Vf.jpg'}, {'cast_id': 7, 'character': 'Andrew Jacoby', 'credit_id': '52fe43fe9251416c75025637', 'gender': 2, 'id': 68287, 'name': 'Callum Blue', 'order': 6, 'profile_path': '/3qf8rLoWmXOcCA8Rs9RPIEQ9yLB.jpg'}, {'cast_id': 17, 'character': 'Paolo', 'credit_id': '52fe43fe9251416c75025671', 'gender': 2, 'id': 1211, 'name': 'Larry Miller', 'order': 7, 'profile_path': '/xA8zCxNrwtamLaLWNBkLyX5tGtU.jpg'}, {'cast_id': 18, 'character': 'Asana', 'credit_id': '52fe43fe9251416c75025675', 'gender': 1, 'id': 66896, 'name': 'Raven-Symon√©', 'order': 8, 'profile_path': '/nzklI9bgqsUKVWlnQcT5lSrCyaM.jpg'}, {'cast_id': 19, 'character': 'Charlotte Kutaway', 'credit_id': '52fe43fe9251416c75025679', 'gender': 1, 'id': 303542, 'name': 'Kathleen Marshall', 'order': 9, 'profile_path': '/4ANxOHPa81aqLyP8BQxkwmZrWgK.jpg'}, {'cast_id': 21, 'character': \"\"Mia's Mom Helen\"\", 'credit_id': '5687f876c3a3685f8900e2a1', 'gender': 1, 'id': 6692, 'name': 'Caroline Goodall', 'order': 10, 'profile_path': '/f3L5WmEtGjjONTe8qvBZOy2dWTJ.jpg'}, {'cast_id': 20, 'character': 'Princess Lorraine', 'credit_id': '5687f825c3a36860e9023861', 'gender': 1, 'id': 966053, 'name': 'Lorraine Nicholson', 'order': 11, 'profile_path': '/eCsoySifBALa6UecWWQ6XShkkeV.jpg'}, {'cast_id': 22, 'character': 'Lady Salsa', 'credit_id': '56b67fc4c3a3680700009953', 'gender': 1, 'id': 95469, 'name': 'Shannon Wilcox', 'order': 12, 'profile_path': '/dQTvcWdLyB5RIWNQxk4DWn6ko59.jpg'}, {'cast_id': 23, 'character': 'Baron Siegfried von Troken', 'credit_id': '56c0ad8cc3a36817f400cc2d', 'gender': 2, 'id': 33832, 'name': 'Greg Lewis', 'order': 13, 'profile_path': '/ys6erqERBQhfTsvCiarmwH8daUm.jpg'}, {'cast_id': 24, 'character': 'Carolina', 'credit_id': '575e0b469251415dd2004e97', 'gender': 1, 'id': 17140, 'name': 'Abigail Breslin', 'order': 14, 'profile_path': '/5zM4beIvrFKICiJXhQCqY3ORngR.jpg'}, {'cast_id': 25, 'character': 'Lord Crawley', 'credit_id': '575e0bc1c3a3683731002094', 'gender': 2, 'id': 155403, 'name': 'Paul Vogt', 'order': 15, 'profile_path': None}, {'cast_id': 26, 'character': 'Monsieur Dupont', 'credit_id': '57c8cc429251410d5000019d', 'gender': 2, 'id': 1665036, 'name': 'Joseph Leo Bwarie', 'order': 16, 'profile_path': '/9H8u70pOBdk0xZsRcKIleBEAyLK.jpg'}, {'cast_id': 27, 'character': 'Lady Caroline', 'credit_id': '57dd9a1092514178550018e1', 'gender': 1, 'id': 83053, 'name': 'Hope Alexander-Willis', 'order': 17, 'profile_path': '/uMA3E1OUniek80LNbqf8ejK2edW.jpg'}, {'cast_id': 28, 'character': 'Lord Peroit', 'credit_id': '57eecf689251416cd60095c1', 'gender': 2, 'id': 1451161, 'name': 'Rowan Joseph', 'order': 18, 'profile_path': '/6zUforjrDfcPoP8YMsdIaoygHmz.jpg'}, {'cast_id': 29, 'character': 'Genovian Cafe Owner', 'credit_id': '57eed0ff9251415ddb00752b', 'gender': 2, 'id': 156005, 'name': 'Jeffrey Scott Jensen', 'order': 19, 'profile_path': '/mW0EwKomK5u3WSmkL60V2HWLhCu.jpg'}]\",\"[{'credit_id': '52fe43fe9251416c7502563d', 'department': 'Directing', 'gender': 2, 'id': 1201, 'job': 'Director', 'name': 'Garry Marshall', 'profile_path': '/kx77E8p5rnEmKxIhFT0qWCEMEik.jpg'}, {'credit_id': '52fe43fe9251416c75025667', 'department': 'Camera', 'gender': 2, 'id': 1214, 'job': 'Director of Photography', 'name': 'Charles Minsky', 'profile_path': None}, {'credit_id': '52fe43fe9251416c75025661', 'department': 'Sound', 'gender': 2, 'id': 4500, 'job': 'Original Music Composer', 'name': 'John Debney', 'profile_path': '/hTrlvZlDXQk49nfc2BM9sjKfJv.jpg'}, {'credit_id': '52fe43fe9251416c7502564f', 'department': 'Production', 'gender': 1, 'id': 8851, 'job': 'Producer', 'name': 'Whitney Houston', 'profile_path': '/69ouDnXnmklYPr4sMJXWKYz81AL.jpg'}, {'credit_id': '52fe43fe9251416c7502566d', 'department': 'Editing', 'gender': 0, 'id': 12970, 'job': 'Editor', 'name': 'Bruce Green', 'profile_path': '/yplxWPVgwK1b33AjvbhM9mWX2Aw.jpg'}, {'credit_id': '52fe43fe9251416c75025655', 'department': 'Production', 'gender': 2, 'id': 38415, 'job': 'Producer', 'name': 'Mario Iscovich', 'profile_path': None}, {'credit_id': '52fe43fe9251416c7502565b', 'department': 'Production', 'gender': 1, 'id': 38416, 'job': 'Executive Producer', 'name': 'Ellen H. Schwartz', 'profile_path': '/6WInjABr1sAYGXaa5qOvSrsHIqP.jpg'}, {'credit_id': '52fe43fe9251416c75025649', 'department': 'Production', 'gender': 1, 'id': 59973, 'job': 'Producer', 'name': 'Debra Martin Chase', 'profile_path': None}, {'credit_id': '52fe43fe9251416c75025643', 'department': 'Writing', 'gender': 1, 'id': 25539, 'job': 'Screenplay', 'name': 'Shonda Rhimes', 'profile_path': '/4c77e347InbTAlw9lGvORpZBHV6.jpg'}]\",95149435\r\n",
            "3,,3300000,\"[{'id': 18, 'name': 'Drama'}]\",http://sonyclassics.com/whiplash/,tt2582802,en,Whiplash,\"Under the direction of a ruthless instructor, a talented young drummer begins to pursue perfection at any cost, even his humanity.\",64.29999,/lIv1QinFqz4dlp5U4lQ6HaiskOZ.jpg,\"[{'name': 'Bold Films', 'id': 2266}, {'name': 'Blumhouse Productions', 'id': 3172}, {'name': 'Right of Way Films', 'id': 32157}]\",\"[{'iso_3166_1': 'US', 'name': 'United States of America'}]\",10/10/14,105,\"[{'iso_639_1': 'en', 'name': 'English'}]\",Released,The road to greatness can take you to the edge.,Whiplash,\"[{'id': 1416, 'name': 'jazz'}, {'id': 1523, 'name': 'obsession'}, {'id': 1640, 'name': 'conservatory'}, {'id': 2176, 'name': 'music teacher'}, {'id': 14512, 'name': 'new york city'}, {'id': 14819, 'name': 'violence'}, {'id': 33896, 'name': 'montage'}, {'id': 156823, 'name': 'drummer'}, {'id': 170418, 'name': 'public humiliation'}, {'id': 176095, 'name': 'jazz band'}, {'id': 206298, 'name': 'young adult'}, {'id': 207739, 'name': 'music school'}]\",\"[{'cast_id': 5, 'character': 'Andrew Neimann', 'credit_id': '52fe4ef7c3a36847f82b3fc3', 'gender': 2, 'id': 996701, 'name': 'Miles Teller', 'order': 0, 'profile_path': '/o2wfvYAvspsKqYVt4ORR8VWjB7H.jpg'}, {'cast_id': 6, 'character': 'Terence Fletcher', 'credit_id': '52fe4ef7c3a36847f82b3fc7', 'gender': 2, 'id': 18999, 'name': 'J.K. Simmons', 'order': 1, 'profile_path': '/jPoNW5fugs5h8AbcE7H5OBm04Tm.jpg'}, {'cast_id': 11, 'character': 'Nicole', 'credit_id': '52fe4ef7c3a36847f82b3fe3', 'gender': 1, 'id': 129104, 'name': 'Melissa Benoist', 'order': 2, 'profile_path': '/fj3Va0w2OyKaQALGomMgpq2B2Fu.jpg'}, {'cast_id': 12, 'character': 'Ryan', 'credit_id': '52fe4ef7c3a36847f82b3fe7', 'gender': 2, 'id': 970216, 'name': 'Austin Stowell', 'order': 3, 'profile_path': '/su6KMYwfr4qVXRjlXi4u0h16Fxg.jpg'}, {'cast_id': 13, 'character': 'Travis', 'credit_id': '52fe4ef7c3a36847f82b3feb', 'gender': 2, 'id': 223012, 'name': 'Jayson Blair', 'order': 4, 'profile_path': '/lqWVUUOBrv4ANxyvsv5aagc6CBq.jpg'}, {'cast_id': 14, 'character': 'Assistant - Sophie', 'credit_id': '52fe4ef7c3a36847f82b3fef', 'gender': 1, 'id': 159366, 'name': 'Kavita Patil', 'order': 5, 'profile_path': '/z5tSybvNYudaFK2db7bTw9tDqyP.jpg'}, {'cast_id': 15, 'character': 'Mr. Neyman', 'credit_id': '5466cd46eaeb817274000acb', 'gender': 2, 'id': 781, 'name': 'Paul Reiser', 'order': 6, 'profile_path': '/fr53dQQrDGfETgbliCktwKqteRU.jpg'}, {'cast_id': 22, 'character': 'Carl Tanner', 'credit_id': '5525414d925141720c001b56', 'gender': 0, 'id': 1451540, 'name': 'Nate Lang', 'order': 7, 'profile_path': None}, {'cast_id': 23, 'character': 'Uncle Frank', 'credit_id': '5525415fc3a3687df80016c4', 'gender': 2, 'id': 15824, 'name': 'Chris Mulkey', 'order': 8, 'profile_path': '/ibXN9Ho0nCF4jbGHeQYRHI8AMjH.jpg'}, {'cast_id': 24, 'character': 'Mr. Kramer', 'credit_id': '5525416c9251417276001927', 'gender': 2, 'id': 53454, 'name': 'Damon Gupton', 'order': 9, 'profile_path': '/8t8IBqQjRJkPcugmcAAn1C7J0pg.jpg'}, {'cast_id': 25, 'character': 'Aunt Emma', 'credit_id': '55254179c3a3687ded0016cf', 'gender': 0, 'id': 1212459, 'name': 'Suanne Spoke', 'order': 10, 'profile_path': None}, {'cast_id': 26, 'character': 'Dorm Neighbor', 'credit_id': '552541869251417be200a8f2', 'gender': 2, 'id': 52939, 'name': 'Max Kasch', 'order': 11, 'profile_path': '/4NzNJEJ6NWU40GKO6BS1Ne6ECNL.jpg'}, {'cast_id': 27, 'character': 'Dustin', 'credit_id': '552541959251415c7c00bd61', 'gender': 0, 'id': 1451542, 'name': 'Charlie Ian', 'order': 12, 'profile_path': None}, {'cast_id': 29, 'character': 'Bassist (Nassau)', 'credit_id': '552541ae925141720c001b71', 'gender': 2, 'id': 1451543, 'name': 'Kofi Siriboe', 'order': 14, 'profile_path': '/4qxcHkPIMUMZCW7UNH9kIfRndgS.jpg'}, {'cast_id': 31, 'character': 'Metz', 'credit_id': '552541c7c3a3687e08001774', 'gender': 0, 'id': 1451545, 'name': 'C.J. Vana', 'order': 16, 'profile_path': None}, {'cast_id': 32, 'character': 'Pianist (Studio Band)', 'credit_id': '55e6d136c3a3685f85002956', 'gender': 0, 'id': 171766, 'name': 'Tarik Lowe', 'order': 17, 'profile_path': '/ze1kaigQO0wLP4DtLnDIdqtfxtZ.jpg'}, {'cast_id': 33, 'character': 'Saxophonist #2 (Studio Band)', 'credit_id': '55e6d136c3a3685f98002c48', 'gender': 0, 'id': 1398714, 'name': 'Tyler Kimball', 'order': 18, 'profile_path': None}, {'cast_id': 34, 'character': 'Trumpeter #1 (Studio Band)', 'credit_id': '55e6d136c3a3685f8e002617', 'gender': 0, 'id': 1503721, 'name': 'Rogelio Douglas Jr.', 'order': 19, 'profile_path': '/j7NJ52wEo58siDpkzIWIKyC7DD5.jpg'}, {'cast_id': 35, 'character': 'Trumpeter #2 (Studio Band)', 'credit_id': '55e6d137c3a3685f9100272e', 'gender': 0, 'id': 1503834, 'name': 'Adrian Burks', 'order': 20, 'profile_path': None}, {'cast_id': 36, 'character': 'Technician (Overbrook) - Mike', 'credit_id': '55e6d1379251410f0a0026b6', 'gender': 0, 'id': 1503835, 'name': 'Joseph Bruno', 'order': 21, 'profile_path': None}, {'cast_id': 37, 'character': 'Stage Hand (Overbrook)', 'credit_id': '55e6d1379251410f0d002526', 'gender': 0, 'id': 1296849, 'name': 'Michael D. Cohen', 'order': 22, 'profile_path': None}, {'cast_id': 38, 'character': 'Passerby (Bus Station)', 'credit_id': '55e6d1389251410f10002836', 'gender': 1, 'id': 1098246, 'name': 'Jocelyn Ayanna', 'order': 23, 'profile_path': '/98oAzcosJLJHqHFENiWdnnv3n3J.jpg'}, {'cast_id': 39, 'character': 'Truck Driver', 'credit_id': '55e6d1389251410f0700274e', 'gender': 2, 'id': 1503836, 'name': 'Keenan Henson', 'order': 24, 'profile_path': None}, {'cast_id': 40, 'character': 'Passerby (Dunellen)', 'credit_id': '55e6d138c3a3685f8e00261a', 'gender': 0, 'id': 1503837, 'name': 'Janet Hoskins', 'order': 25, 'profile_path': None}, {'cast_id': 41, 'character': 'Rachel Bornholdt', 'credit_id': '55e6d138c3a3685f91002733', 'gender': 1, 'id': 10691, 'name': 'April Grace', 'order': 26, 'profile_path': '/9vHFcPQS463AjDgst7vFJy6ZUnA.jpg'}, {'cast_id': 42, 'character': 'Drummer (Quartet)', 'credit_id': '55e6d139c3a3685f98002c4c', 'gender': 0, 'id': 1503838, 'name': \"\"Clifton 'Fou Fou' Eddie\"\", 'order': 27, 'profile_path': None}, {'cast_id': 43, 'character': 'Saxophonist', 'credit_id': '55e6d22f9251410f1300293a', 'gender': 0, 'id': 1145677, 'name': 'Calvin C. Winbush', 'order': 28, 'profile_path': None}, {'cast_id': 44, 'character': 'Bassist (JVC)', 'credit_id': '55e6d22fc3a3685f98002c83', 'gender': 0, 'id': 1291961, 'name': 'Marcus Henderson', 'order': 29, 'profile_path': '/5ggLbrE91uYCq3YyN0pI3bDAPbK.jpg'}, {'cast_id': 45, 'character': 'Stage Hand (Carnegie Hall)', 'credit_id': '55e6d2309251410f17002943', 'gender': 0, 'id': 1503841, 'name': 'Tony Baker', 'order': 30, 'profile_path': None}, {'cast_id': 46, 'character': 'Red Henderson', 'credit_id': '55e6d230c3a3685f96002a6b', 'gender': 2, 'id': 16506, 'name': 'Henry G. Sanders', 'order': 31, 'profile_path': '/2SU75g2CAIzGWbgfIlNvKZQhYTZ.jpg'}, {'cast_id': 47, 'character': 'Andrew (8 years old)', 'credit_id': '55e6d2309251410f0a0026e0', 'gender': 0, 'id': 1503842, 'name': 'Sam Campisi', 'order': 32, 'profile_path': None}, {'cast_id': 48, 'character': 'Nassau Trumpeter #2', 'credit_id': '55e6d231c3a3685f96002a6e', 'gender': 0, 'id': 1503843, 'name': 'Jimmie Kirkpatrick', 'order': 33, 'profile_path': None}, {'cast_id': 49, 'character': 'Studio Core Member #1', 'credit_id': '55e6d2319251410f040027d9', 'gender': 0, 'id': 1503844, 'name': 'Keenan Allen', 'order': 34, 'profile_path': None}, {'cast_id': 50, 'character': 'Studio Core Member #2', 'credit_id': '55e6d2319251410f17002948', 'gender': 0, 'id': 1503845, 'name': 'Ayinde Vaughan', 'order': 35, 'profile_path': None}, {'cast_id': 51, 'character': 'Studio Core Member #3', 'credit_id': '55e6d231c3a3685f96002a72', 'gender': 0, 'id': 1435768, 'name': 'Shai Golan', 'order': 36, 'profile_path': None}, {'cast_id': 52, 'character': 'Studio Core Member #4', 'credit_id': '55e6d2329251410f1300293d', 'gender': 0, 'id': 1503846, 'name': 'Yancey Wells', 'order': 37, 'profile_path': None}, {'cast_id': 53, 'character': 'Student #1', 'credit_id': '55e6d232c3a3685f98002c86', 'gender': 0, 'id': 1503847, 'name': 'Candace Roberge', 'order': 38, 'profile_path': None}, {'cast_id': 54, 'character': 'Student #2', 'credit_id': '55e6d2329251410f13002943', 'gender': 0, 'id': 1503848, 'name': 'Krista Kilber', 'order': 39, 'profile_path': None}, {'cast_id': 55, 'character': 'Diner Patron (uncredited)', 'credit_id': '55e6d233c3a3685f96002a75', 'gender': 1, 'id': 1503849, 'name': 'Cici Leah Campbell', 'order': 40, 'profile_path': '/eV5g6RZ5OVVg2kEYkYu8MndanD6.jpg'}, {'cast_id': 56, 'character': 'JVC Trumpet Player (uncredited)', 'credit_id': '55e6d2339251410f040027de', 'gender': 0, 'id': 1503850, 'name': 'Damien Coates', 'order': 41, 'profile_path': None}, {'cast_id': 57, 'character': 'JVC Alto Jazz Saxophone Player (uncredited)', 'credit_id': '55e6d233c3a3685f8e00263c', 'gender': 0, 'id': 1503851, 'name': 'Kyle Julian Graham', 'order': 42, 'profile_path': None}, {'cast_id': 58, 'character': 'Saxophone Player (uncredited)', 'credit_id': '55e6d2349251410f040027e3', 'gender': 0, 'id': 1503852, 'name': 'Ellee Jane Hounsell', 'order': 43, 'profile_path': None}, {'cast_id': 59, 'character': 'JVC Guitarist (uncredited)', 'credit_id': '55e6d234c3a3685f98002c8c', 'gender': 2, 'id': 1503853, 'name': 'Stephen Hsu', 'order': 44, 'profile_path': None}, {'cast_id': 60, 'character': 'Music Competition Judge (uncredited)', 'credit_id': '55e6d234c3a3685f9100275a', 'gender': 0, 'id': 1503854, 'name': 'Herman Johansen', 'order': 45, 'profile_path': None}, {'cast_id': 61, 'character': 'Audience Member (uncredited)', 'credit_id': '55e6d234c3a3685f9e002777', 'gender': 1, 'id': 79051, 'name': 'Wendee Lee', 'order': 46, 'profile_path': '/4hZsZj6YItnzaXSHdsCxSDA3s4l.jpg'}, {'cast_id': 62, 'character': 'JVC Saxophonist (uncredited)', 'credit_id': '55e6d235c3a3685f9100275f', 'gender': 0, 'id': 1503855, 'name': 'Dakota Lupo', 'order': 47, 'profile_path': None}, {'cast_id': 63, 'character': 'Rival Band Saxophonist (uncredited)', 'credit_id': '55e6d2359251410f1000285a', 'gender': 0, 'id': 1503856, 'name': 'Jesse Mitchell', 'order': 48, 'profile_path': None}, {'cast_id': 64, 'character': 'JVC Trombonist (uncredited)', 'credit_id': '55e6d235c3a3685fa0002166', 'gender': 0, 'id': 1503857, 'name': 'Amanda Newman', 'order': 49, 'profile_path': None}, {'cast_id': 65, 'character': 'Bartender (uncredited)', 'credit_id': '55e6d2369251410f0d002555', 'gender': 2, 'id': 1360008, 'name': 'Joseph Oliveira', 'order': 50, 'profile_path': '/nFJX5qWKlHyew7AHKUFE3EQnMO5.jpg'}, {'cast_id': 66, 'character': 'Audience Member (uncredited)', 'credit_id': '55e6d236c3a3685f9e002779', 'gender': 1, 'id': 81380, 'name': 'Michelle Ruff', 'order': 51, 'profile_path': None}, {'cast_id': 67, 'character': 'Studio Band Saxophone Player (uncredited)', 'credit_id': '55e6d2369251410f0d002558', 'gender': 0, 'id': 1503858, 'name': 'Daniel Weidlein', 'order': 52, 'profile_path': None}]\",\"[{'credit_id': '54d5356ec3a3683ba0000039', 'department': 'Production', 'gender': 1, 'id': 494, 'job': 'Casting', 'name': 'Terri Taylor', 'profile_path': None}, {'credit_id': '56407fa89251417055000b58', 'department': 'Sound', 'gender': 0, 'id': 6745, 'job': 'Music Editor', 'name': 'Richard Henderson', 'profile_path': None}, {'credit_id': '5789212392514135d60025fd', 'department': 'Production', 'gender': 2, 'id': 9250, 'job': 'Executive In Charge Of Production', 'name': 'Jeffrey Stott', 'profile_path': None}, {'credit_id': '57892074c3a36835fa002886', 'department': 'Costume & Make-Up', 'gender': 0, 'id': 23783, 'job': 'Makeup Artist', 'name': 'Heather Plott', 'profile_path': None}, {'credit_id': '56408055925141705c000bee', 'department': 'Costume & Make-Up', 'gender': 0, 'id': 23786, 'job': 'Makeup Department Head', 'name': 'Nacoma Whobrey', 'profile_path': None}, {'credit_id': '52fe4ef7c3a36847f82b3fb9', 'department': 'Camera', 'gender': 2, 'id': 53181, 'job': 'Director of Photography', 'name': 'Sharone Meir', 'profile_path': None}, {'credit_id': '56407e4ac3a3685059000c7c', 'department': 'Production', 'gender': 2, 'id': 52443, 'job': 'Executive Producer', 'name': 'Jason Reitman', 'profile_path': '/bW44MnIOve5kqqtcmmbzBre0N7D.jpg'}, {'credit_id': '52fe4ef7c3a36847f82b3fd9', 'department': 'Production', 'gender': 2, 'id': 60864, 'job': 'Producer', 'name': 'David Lancaster', 'profile_path': None}, {'credit_id': '52fe4ef7c3a36847f82b3fdf', 'department': 'Production', 'gender': 0, 'id': 66726, 'job': 'Producer', 'name': 'Michel Litvak', 'profile_path': None}, {'credit_id': '56407e8b9251417052000c80', 'department': 'Production', 'gender': 2, 'id': 66727, 'job': 'Executive Producer', 'name': 'Gary Michael Walters', 'profile_path': None}, {'credit_id': '52fe4ef7c3a36847f82b3fcd', 'department': 'Production', 'gender': 2, 'id': 84348, 'job': 'Producer', 'name': 'Jason Blum', 'profile_path': None}, {'credit_id': '52fe4ef7c3a36847f82b3fb3', 'department': 'Writing', 'gender': 2, 'id': 136495, 'job': 'Screenplay', 'name': 'Damien Chazelle', 'profile_path': '/x5bpTU8b2mwgPpPDGJGWsJ1Qt3t.jpg'}, {'credit_id': '52fe4ef7c3a36847f82b3fad', 'department': 'Directing', 'gender': 2, 'id': 136495, 'job': 'Director', 'name': 'Damien Chazelle', 'profile_path': '/x5bpTU8b2mwgPpPDGJGWsJ1Qt3t.jpg'}, {'credit_id': '56407f1cc3a368506d000bfb', 'department': 'Crew', 'gender': 0, 'id': 198799, 'job': 'Stunt Coordinator', 'name': 'Mark Riccardi', 'profile_path': None}, {'credit_id': '57898004c3a36851a8000a45', 'department': 'Production', 'gender': 0, 'id': 230436, 'job': 'Casting', 'name': 'Barbara Harris', 'profile_path': None}, {'credit_id': '566aac9b92514169e2004626', 'department': 'Camera', 'gender': 0, 'id': 1017376, 'job': 'Steadicam Operator', 'name': 'Chris Squires', 'profile_path': None}, {'credit_id': '5789815c9251410db8000ab6', 'department': 'Crew', 'gender': 1, 'id': 1018788, 'job': 'Thanks', 'name': 'Jasmine McGlade', 'profile_path': '/bmHzn0YY2mUoe9qbZKWb9nfDaDw.jpg'}, {'credit_id': '56407e7f9251417052000c7c', 'department': 'Production', 'gender': 1, 'id': 1030966, 'job': 'Executive Producer', 'name': 'Jeanette Brill', 'profile_path': None}, {'credit_id': '566aabcc92514173830040fb', 'department': 'Sound', 'gender': 0, 'id': 1049456, 'job': 'Supervising Sound Editor', 'name': 'Ben Wilkins', 'profile_path': None}, {'credit_id': '566aabbe92514173fc008d77', 'department': 'Sound', 'gender': 0, 'id': 1049456, 'job': 'Sound Re-Recording Mixer', 'name': 'Ben Wilkins', 'profile_path': None}, {'credit_id': '578922e4c3a36836c0002c11', 'department': 'Crew', 'gender': 0, 'id': 1099700, 'job': 'Stunts', 'name': 'Chester E. Tripp III', 'profile_path': None}, {'credit_id': '5789153b9251411e29002aca', 'department': 'Production', 'gender': 0, 'id': 1125189, 'job': 'Co-Producer', 'name': 'Garrick Dion', 'profile_path': None}, {'credit_id': '52fe4ef7c3a36847f82b3fbf', 'department': 'Editing', 'gender': 2, 'id': 1156888, 'job': 'Editor', 'name': 'Tom Cross', 'profile_path': None}, {'credit_id': '54d53537c3a3683b9c00002f', 'department': 'Art', 'gender': 1, 'id': 1186280, 'job': 'Production Design', 'name': 'Melanie Jones', 'profile_path': None}, {'credit_id': '578921869251411e29002ffa', 'department': 'Directing', 'gender': 0, 'id': 1197441, 'job': 'Assistant Director', 'name': 'Nicolas Duchemin Harvard', 'profile_path': None}, {'credit_id': '52fe4ef7c3a36847f82b3fd3', 'department': 'Production', 'gender': 0, 'id': 1287961, 'job': 'Producer', 'name': 'Helen Estabrook', 'profile_path': None}, {'credit_id': '56407e599251417050000bac', 'department': 'Production', 'gender': 0, 'id': 1319040, 'job': 'Executive Producer', 'name': 'Couper Samuelson', 'profile_path': None}, {'credit_id': '578982f5c3a36819170053c6', 'department': 'Crew', 'gender': 0, 'id': 1338158, 'job': 'Transportation Captain', 'name': 'John Yarbrough', 'profile_path': None}, {'credit_id': '566aac1992514173ff008b4b', 'department': 'Visual Effects', 'gender': 0, 'id': 1358021, 'job': 'Visual Effects Supervisor', 'name': 'Jamison Scott Goei', 'profile_path': None}, {'credit_id': '57891621c3a36836c0002616', 'department': 'Production', 'gender': 0, 'id': 1395180, 'job': 'Co-Producer', 'name': 'Stephanie Wilcox', 'profile_path': None}, {'credit_id': '54d53592c3a3683b89000032', 'department': 'Costume & Make-Up', 'gender': 0, 'id': 1401855, 'job': 'Costume Design', 'name': 'Lisa Norcia', 'profile_path': None}, {'credit_id': '56407f76c3a3685076000bdc', 'department': 'Production', 'gender': 0, 'id': 1401857, 'job': 'Associate Producer', 'name': 'Phillip Dawe', 'profile_path': None}, {'credit_id': '5640803e925141705f000bbb', 'department': 'Costume & Make-Up', 'gender': 0, 'id': 1402475, 'job': 'Hair Department Head', 'name': 'Traci E. Smithe', 'profile_path': None}, {'credit_id': '57898296c3a368365d004bb4', 'department': 'Crew', 'gender': 0, 'id': 1403508, 'job': 'Transportation Coordinator', 'name': 'James G. Brill', 'profile_path': None}, {'credit_id': '566aabe19251417411008a5a', 'department': 'Sound', 'gender': 0, 'id': 1406825, 'job': 'Supervising Sound Editor', 'name': 'Craig Mann', 'profile_path': None}, {'credit_id': '566aaba8c3a3683f56003ba8', 'department': 'Sound', 'gender': 0, 'id': 1406825, 'job': 'Sound Re-Recording Mixer', 'name': 'Craig Mann', 'profile_path': None}, {'credit_id': '566aac80c3a3683f56003bc6', 'department': 'Camera', 'gender': 0, 'id': 1411844, 'job': 'Camera Operator', 'name': 'Eric Leach', 'profile_path': None}, {'credit_id': '578980ae9251410deb0009c3', 'department': 'Production', 'gender': 0, 'id': 1417888, 'job': 'Location Manager', 'name': 'Kandice Billingsley', 'profile_path': None}, {'credit_id': '5789226bc3a368357300278e', 'department': 'Crew', 'gender': 0, 'id': 1419137, 'job': 'Stunts', 'name': 'Brady Romberg', 'profile_path': None}, {'credit_id': '54d5355d925141716000002a', 'department': 'Sound', 'gender': 0, 'id': 1419631, 'job': 'Original Music Composer', 'name': 'Justin Hurwitz', 'profile_path': None}, {'credit_id': '5640800dc3a3685074000c5b', 'department': 'Camera', 'gender': 2, 'id': 1420326, 'job': 'Still Photographer', 'name': 'Daniel C. McFadden', 'profile_path': None}, {'credit_id': '54d535819251416b9c00003e', 'department': 'Art', 'gender': 0, 'id': 1423984, 'job': 'Set Decoration', 'name': 'Karuna Karmarkar', 'profile_path': None}, {'credit_id': '54d536529251416ba800003f', 'department': 'Art', 'gender': 0, 'id': 1423985, 'job': 'Art Direction', 'name': 'Hunter Brown', 'profile_path': None}, {'credit_id': '566aabf6c3a36836b400843c', 'department': 'Crew', 'gender': 0, 'id': 1429003, 'job': 'Special Effects Coordinator', 'name': 'Zak Knight', 'profile_path': None}, {'credit_id': '564081549251417061000be7', 'department': 'Costume & Make-Up', 'gender': 0, 'id': 1437191, 'job': 'Key Hair Stylist', 'name': 'David Larson', 'profile_path': None}, {'credit_id': '566aab8b92514173ff008b39', 'department': 'Sound', 'gender': 0, 'id': 1437193, 'job': 'Sound Editor', 'name': 'Lauren Hadaway', 'profile_path': None}, {'credit_id': '566aad6292514173ff008b71', 'department': 'Editing', 'gender': 0, 'id': 1443967, 'job': 'Digital Intermediate', 'name': 'Vahe Giragol', 'profile_path': None}, {'credit_id': '56407fc2c3a3685070000c78', 'department': 'Directing', 'gender': 0, 'id': 1450000, 'job': 'Script Supervisor', 'name': 'Tracy Scott', 'profile_path': None}, {'credit_id': '57892242c3a368365d002605', 'department': 'Crew', 'gender': 2, 'id': 1450766, 'job': 'Stunts', 'name': 'Kevin Patrick Burke', 'profile_path': '/hnDSXBRsohP96jTS3rk7WLKry7.jpg'}, {'credit_id': '566aaafcc3a36833b600483b', 'department': 'Art', 'gender': 0, 'id': 1451910, 'job': 'Construction Coordinator', 'name': 'Drew Rebelein', 'profile_path': None}, {'credit_id': '578922ab9251411e2900309c', 'department': 'Crew', 'gender': 0, 'id': 1453571, 'job': 'Stunts', 'name': 'Steven Stone', 'profile_path': None}, {'credit_id': '566aaade9251415eed00461e', 'department': 'Art', 'gender': 0, 'id': 1525146, 'job': 'Art Department Coordinator', 'name': 'Zak Faust', 'profile_path': None}, {'credit_id': '56407e1d9251417057000b04', 'department': 'Sound', 'gender': 0, 'id': 1533101, 'job': 'Music Supervisor', 'name': 'Andy Ross', 'profile_path': None}, {'credit_id': '578914ce9251411e29002a94', 'department': 'Production', 'gender': 0, 'id': 1533516, 'job': 'Co-Producer', 'name': 'Nicholas Britell', 'profile_path': None}, {'credit_id': '56407f389251417050000bdd', 'department': 'Production', 'gender': 0, 'id': 1533528, 'job': 'Line Producer', 'name': 'Mark David Katchur', 'profile_path': None}, {'credit_id': '56407feac3a3685059000cb9', 'department': 'Production', 'gender': 0, 'id': 1533529, 'job': 'Casting Associate', 'name': 'Sarah Domeier', 'profile_path': None}, {'credit_id': '56407ffbc3a368506d000c25', 'department': 'Lighting', 'gender': 0, 'id': 1533530, 'job': 'Gaffer', 'name': 'Elan Yaari', 'profile_path': None}, {'credit_id': '566aab42c3a3682647003ff9', 'department': 'Editing', 'gender': 0, 'id': 1547656, 'job': 'Dialogue Editor', 'name': 'Joe Schiff', 'profile_path': None}, {'credit_id': '566aab6e92514169e2004609', 'department': 'Sound', 'gender': 0, 'id': 1547657, 'job': 'Foley', 'name': 'Alicia Hadaway', 'profile_path': None}, {'credit_id': '566aac2f9251417383004113', 'department': 'Visual Effects', 'gender': 0, 'id': 1547658, 'job': 'Visual Effects Supervisor', 'name': 'David Lebensfeld', 'profile_path': None}, {'credit_id': '566aac4b92514173fc008d92', 'department': 'Visual Effects', 'gender': 0, 'id': 1547659, 'job': 'Visual Effects Supervisor', 'name': 'Grant Miller', 'profile_path': None}, {'credit_id': '566aad3dc3a368264700402e', 'department': 'Editing', 'gender': 0, 'id': 1547660, 'job': 'Digital Intermediate', 'name': 'Steve Hernandez', 'profile_path': None}, {'credit_id': '566aad8192514169e200463c', 'department': 'Editing', 'gender': 0, 'id': 1547661, 'job': 'Digital Intermediate', 'name': 'Mike Will', 'profile_path': None}, {'credit_id': '566aad9dc3a3682e98003e54', 'department': 'Editing', 'gender': 0, 'id': 1547662, 'job': 'First Assistant Editor', 'name': 'John To', 'profile_path': None}]\",13092000\r\n",
            "4,,1200000,\"[{'id': 53, 'name': 'Thriller'}, {'id': 18, 'name': 'Drama'}]\",http://kahaanithefilm.com/,tt1821480,hi,Kahaani,\"Vidya Bagchi (Vidya Balan) arrives in Kolkata from London to find her missing husband Arnab Bagchi. Seven months pregnant and alone in a festive city, she begins a relentless search for her husband. With nothing to rely on except fragments from her memories about him, all clues seem to reach a dead end when everyone tries to convince Vidya that her husband does not exist. She slowly realises that nothing is what it seems. In a city soaked in lies, Vidya is determined to unravel the truth about her husband - for herself and her unborn child - even at the cost of her own life.\",3.174936,/aTXRaPrWSinhcmCrcfJK17urp3F.jpg,,\"[{'iso_3166_1': 'IN', 'name': 'India'}]\",3/9/12,122,\"[{'iso_639_1': 'en', 'name': 'English'}, {'iso_639_1': 'hi', 'name': 'हिन्दी'}]\",Released,,Kahaani,\"[{'id': 10092, 'name': 'mystery'}, {'id': 10540, 'name': 'bollywood'}, {'id': 11734, 'name': 'police corruption'}, {'id': 14536, 'name': 'crime'}, {'id': 14636, 'name': 'india'}, {'id': 208364, 'name': 'missing husband'}, {'id': 220935, 'name': 'nerve gas'}]\",\"[{'cast_id': 1, 'character': 'Vidya Bagchi', 'credit_id': '52fe48779251416c9108d6d9', 'gender': 1, 'id': 35068, 'name': 'Vidya Balan', 'order': 0, 'profile_path': '/anMmmqKY11jcm0UnSSakfNOSCyB.jpg'}, {'cast_id': 5, 'character': '', 'credit_id': '57722abec3a368245b004519', 'gender': 2, 'id': 85047, 'name': 'Nawazuddin Siddiqui', 'order': 1, 'profile_path': '/2Kv2ENAs1ETAFTQ6mC1jbDzEzIN.jpg'}, {'cast_id': 6, 'character': '', 'credit_id': '57722aea9251411dca003f8f', 'gender': 0, 'id': 1021524, 'name': 'Parambrata Chatterjee', 'order': 2, 'profile_path': '/Aif4X9ihmRrVzX1cbWDDznk8HZV.jpg'}, {'cast_id': 7, 'character': '', 'credit_id': '57722b069251411dcd003f73', 'gender': 0, 'id': 1093644, 'name': 'Saswata Chatterjee', 'order': 3, 'profile_path': '/vuHaLzSVRIo7pXSmhB7ko6YmNs.jpg'}, {'cast_id': 8, 'character': '', 'credit_id': '57722b26c3a36869a2000745', 'gender': 0, 'id': 86033, 'name': 'Indraneil Sengupta', 'order': 4, 'profile_path': '/4hLg7XIJdhrS3t0h5Q8vQxnp4DZ.jpg'}, {'cast_id': 9, 'character': '', 'credit_id': '57722b38c3a3682468004294', 'gender': 2, 'id': 92686, 'name': 'Darshan Jariwala', 'order': 5, 'profile_path': '/lWDqLNG6FKNv4VSQILiRMPxJ7Hh.jpg'}, {'cast_id': 10, 'character': '', 'credit_id': '57722b549251411dd90041dd', 'gender': 0, 'id': 35821, 'name': 'Masood Akhtar', 'order': 6, 'profile_path': None}]\",\"[{'credit_id': '52fe48779251416c9108d6eb', 'department': 'Directing', 'gender': 0, 'id': 95510, 'job': 'Director', 'name': 'Sujoy Ghosh', 'profile_path': None}, {'credit_id': '52fe48779251416c9108d6e5', 'department': 'Production', 'gender': 0, 'id': 95510, 'job': 'Producer', 'name': 'Sujoy Ghosh', 'profile_path': None}, {'credit_id': '52fe48779251416c9108d6df', 'department': 'Writing', 'gender': 0, 'id': 95510, 'job': 'Writer', 'name': 'Sujoy Ghosh', 'profile_path': None}]\",16000000\r\n",
            "5,,0,\"[{'id': 28, 'name': 'Action'}, {'id': 53, 'name': 'Thriller'}]\",,tt1380152,ko,마린보이,\"Marine Boy is the story of a former national swimmer who finds himself in debt, and out of desperation is employed as a mule by a gangster boss, smuggling drugs by sea.\",1.14807,/m22s7zvkVFDU9ir56PiiqIEWFdT.jpg,,\"[{'iso_3166_1': 'KR', 'name': 'South Korea'}]\",2/5/09,118,\"[{'iso_639_1': 'ko', 'name': '한국어/조선말'}]\",Released,,Marine Boy,,\"[{'cast_id': 3, 'character': 'Chun-soo', 'credit_id': '52fe464b9251416c75073b47', 'gender': 2, 'id': 84751, 'name': 'Kim Kang-woo', 'order': 0, 'profile_path': '/lJvcgUx1qEnNfGcCtbmp3EC5vCG.jpg'}, {'cast_id': 4, 'character': 'Company president Kang', 'credit_id': '52fe464b9251416c75073b4b', 'gender': 2, 'id': 64453, 'name': 'Jo Jae-hyeon', 'order': 1, 'profile_path': '/2QVUP8t3zmKcwlm7IBOzPVikKe7.jpg'}, {'cast_id': 5, 'character': 'Yu-ri', 'credit_id': '52fe464b9251416c75073b4f', 'gender': 2, 'id': 84752, 'name': 'Park Si-yeon', 'order': 2, 'profile_path': '/pIWhmT2GTVcaNTb6Qta2KS9jyTT.jpg'}, {'cast_id': 7, 'character': 'Company president Hwang', 'credit_id': '52fe464b9251416c75073b59', 'gender': 2, 'id': 1130534, 'name': 'Kim Joon-bae', 'order': 3, 'profile_path': '/pMy3HSxj6DdysI1P2tpjcD4FyWM.jpg'}]\",\"[{'credit_id': '52fe464b9251416c75073b43', 'department': 'Directing', 'gender': 0, 'id': 84749, 'job': 'Director', 'name': 'Jong-seok Yoon', 'profile_path': None}, {'credit_id': '52fe464b9251416c75073b55', 'department': 'Writing', 'gender': 0, 'id': 84749, 'job': 'Writer', 'name': 'Jong-seok Yoon', 'profile_path': None}]\",3923970\r\n",
            "6,,8000000,\"[{'id': 16, 'name': 'Animation'}, {'id': 12, 'name': 'Adventure'}, {'id': 10751, 'name': 'Family'}]\",,tt0093743,en,Pinocchio and the Emperor of the Night,\"Pinocchio and his friends, a glow worm and a marionette, search for a magic music box. However, so are the evil Scalawag and the Emperor of the Night.\",0.743274,/6IDqA1D2NBIVhzEEaMMRL28iBrq.jpg,,,8/6/87,83,\"[{'iso_639_1': 'en', 'name': 'English'}]\",Released,,Pinocchio and the Emperor of the Night,,\"[{'cast_id': 6, 'character': 'Pinocchio (voice)', 'credit_id': '52fe46f49251416c9106558f', 'gender': 2, 'id': 35091, 'name': 'Scott Grimes', 'order': 0, 'profile_path': '/tm8uz3DbD0hlXRciYgCuaHrXepl.jpg'}, {'cast_id': 7, 'character': 'Geppetto (voice)', 'credit_id': '52fe46f49251416c91065593', 'gender': 2, 'id': 41217, 'name': 'Tom Bosley', 'order': 1, 'profile_path': '/9S95lnM10Qa3PGY86o7dvSFg0VL.jpg'}, {'cast_id': 8, 'character': 'Fairy Godmother (voice)', 'credit_id': '52fe46f49251416c91065597', 'gender': 0, 'id': 56540, 'name': 'Rickie Lee Jones', 'order': 2, 'profile_path': None}, {'cast_id': 9, 'character': 'Emperor of the Night (voice)', 'credit_id': '52fe46f49251416c9106559b', 'gender': 0, 'id': 15152, 'name': 'James Earl Jones', 'order': 3, 'profile_path': '/2ZuBf3ip2RXhkiQqGUjbUzAf4Nx.jpg'}]\",\"[{'credit_id': '52fe46f49251416c9106558b', 'department': 'Writing', 'gender': 2, 'id': 67372, 'job': 'Novel', 'name': 'Collodi', 'profile_path': '/sMMNkbghC5alRHZEblJA0T4c9uO.jpg'}, {'credit_id': '52fe46f49251416c91065573', 'department': 'Directing', 'gender': 2, 'id': 176063, 'job': 'Director', 'name': 'Hal Sutherland', 'profile_path': None}, {'credit_id': '52fe46f49251416c91065585', 'department': 'Writing', 'gender': 0, 'id': 193849, 'job': 'Screenplay', 'name': \"\"Dennis O'Flaherty\"\", 'profile_path': None}, {'credit_id': '5345adea0e0a265ff8000075', 'department': 'Writing', 'gender': 0, 'id': 1213367, 'job': 'Teleplay', 'name': \"\"Barry O'Brien\"\", 'profile_path': '/7zl5GGMrLpEFLVSOkRvlCBzWpN0.jpg'}, {'credit_id': '578f9fc192514134b00026e5', 'department': 'Writing', 'gender': 2, 'id': 1235078, 'job': 'Screenplay', 'name': 'Robby London', 'profile_path': None}, {'credit_id': '578f9fcc9251411cad00031b', 'department': 'Production', 'gender': 2, 'id': 1235078, 'job': 'Associate Producer', 'name': 'Robby London', 'profile_path': None}, {'credit_id': '5518d53092514115000035da', 'department': 'Visual Effects', 'gender': 0, 'id': 1409418, 'job': 'Animation', 'name': 'Tuck Tucker', 'profile_path': None}, {'credit_id': '554aa8fe92514146990002e9', 'department': 'Art', 'gender': 0, 'id': 1447357, 'job': 'Production Design', 'name': 'Rick Maki', 'profile_path': None}, {'credit_id': '5543d5dc925141299600000e', 'department': 'Visual Effects', 'gender': 0, 'id': 1447368, 'job': 'Animation', 'name': 'Randy Sanchez', 'profile_path': None}, {'credit_id': '55315251925141529b000535', 'department': 'Visual Effects', 'gender': 0, 'id': 1455541, 'job': 'Animation', 'name': 'Larry White', 'profile_path': None}, {'credit_id': '5543fa25c3a3680ce80029e8', 'department': 'Visual Effects', 'gender': 0, 'id': 1460511, 'job': 'Animation', 'name': 'Miri Yoon', 'profile_path': None}]\",3261638\r\n",
            "7,,14000000,\"[{'id': 27, 'name': 'Horror'}, {'id': 53, 'name': 'Thriller'}]\",http://www.thepossessionmovie.com/,tt0431021,en,The Possession,\"A young girl buys an antique box at a yard sale, unaware that inside the collectible lives a malicious ancient spirit. The girl's father teams with his ex-wife to find a way to end the curse upon their child.\",7.286477,/4QjzFuaZmB4btGnLwAgdp23BzIU.jpg,\"[{'name': 'Ghost House Pictures', 'id': 768}, {'name': 'North Box Productions', 'id': 22637}]\",\"[{'iso_3166_1': 'US', 'name': 'United States of America'}, {'iso_3166_1': 'CA', 'name': 'Canada'}]\",8/30/12,92,\"[{'iso_639_1': 'en', 'name': 'English'}]\",Released,Fear The Demon That Doesn't Fear God,The Possession,,\"[{'cast_id': 23, 'character': 'Clyde', 'credit_id': '52fe4981c3a368484e12ee17', 'gender': 2, 'id': 47296, 'name': 'Jeffrey Dean Morgan', 'order': 0, 'profile_path': '/6ors2HGy8UdXm8kBx6on0HwRHB5.jpg'}, {'cast_id': 31, 'character': 'Em', 'credit_id': '52fe4981c3a368484e12ee39', 'gender': 0, 'id': 94482, 'name': 'Natasha Calis', 'order': 1, 'profile_path': '/i6txLt6FyZW7G7thV5AmTeHtWrC.jpg'}, {'cast_id': 37, 'character': 'Hannah', 'credit_id': '545658a50e0a2648d60074e0', 'gender': 1, 'id': 52869, 'name': 'Madison Davenport', 'order': 2, 'profile_path': '/AjqfjA4cVbLgVg2IZxUwBaGISGZ.jpg'}, {'cast_id': 24, 'character': 'Stephanie', 'credit_id': '52fe4981c3a368484e12ee1b', 'gender': 1, 'id': 26467, 'name': 'Kyra Sedgwick', 'order': 3, 'profile_path': '/udLKlspMdXSC9LMdhygL5rcJ4XI.jpg'}, {'cast_id': 28, 'character': 'Russell', 'credit_id': '52fe4981c3a368484e12ee2d', 'gender': 2, 'id': 42708, 'name': 'Rob LaBelle', 'order': 4, 'profile_path': '/v1cEWVrGmwDiePK5QxkUq5PjbQP.jpg'}, {'cast_id': 19, 'character': 'Darius', 'credit_id': '52fe4981c3a368484e12ee07', 'gender': 0, 'id': 582701, 'name': 'Nana Gbewonyo ', 'order': 5, 'profile_path': '/ujeMI3c2TnqtU3NPkX6HTq0Nhs.jpg'}, {'cast_id': 20, 'character': 'Man', 'credit_id': '52fe4981c3a368484e12ee0b', 'gender': 0, 'id': 582702, 'name': 'Jim Thorburn ', 'order': 6, 'profile_path': '/mzAeRnP6fdWGpkv2QvyoDJspnbK.jpg'}, {'cast_id': 21, 'character': 'Tzadok', 'credit_id': '52fe4981c3a368484e12ee0f', 'gender': 0, 'id': 582704, 'name': 'Matisyahu ', 'order': 7, 'profile_path': '/u07beEaEc7wYlfUjS9LpQVPx0ym.jpg'}, {'cast_id': 22, 'character': 'Student', 'credit_id': '52fe4981c3a368484e12ee13', 'gender': 2, 'id': 89885, 'name': 'Quinn Lord', 'order': 8, 'profile_path': '/lsvehrliOkHJYOMaDLXuPVDS4mH.jpg'}, {'cast_id': 25, 'character': 'Professor McMannis', 'credit_id': '52fe4981c3a368484e12ee1f', 'gender': 2, 'id': 63791, 'name': 'Jay Brazeau', 'order': 9, 'profile_path': '/oSFswqMxjLCAwVpEG2yK6NzLUiP.jpg'}, {'cast_id': 16, 'character': 'Possessed Italian Girl', 'credit_id': '52fe4981c3a368484e12ee03', 'gender': 1, 'id': 582698, 'name': 'Erin Simms', 'order': 10, 'profile_path': '/vP6BbmAbqfie12D7SME7uZvzt5J.jpg'}, {'cast_id': 29, 'character': \"\"Stephanie's Attorney\"\", 'credit_id': '52fe4981c3a368484e12ee31', 'gender': 2, 'id': 12055, 'name': 'John Cassini', 'order': 12, 'profile_path': '/x6on7gR2Q8iQknmrmEL6hMZWZPJ.jpg'}, {'cast_id': 30, 'character': 'Brett', 'credit_id': '52fe4981c3a368484e12ee35', 'gender': 2, 'id': 78141, 'name': 'Grant Show', 'order': 13, 'profile_path': '/vMt7QYDElxu4MaAAkfgX1RMUFww.jpg'}, {'cast_id': 104, 'character': 'Officer', 'credit_id': '5794ea95925141430200529d', 'gender': 2, 'id': 1655618, 'name': 'Tim Perez', 'order': 14, 'profile_path': '/d6eygE2yTbIsejyEwfRdORbfims.jpg'}]\",\"[{'credit_id': '52fe4981c3a368484e12ee29', 'department': 'Production', 'gender': 2, 'id': 7623, 'job': 'Executive Producer', 'name': 'Sam Raimi', 'profile_path': '/uEAaCUJzyMI8N5mOVyLtaOPKoEf.jpg'}, {'credit_id': '53622391c3a368394e0013fb', 'department': 'Production', 'gender': 1, 'id': 13585, 'job': 'Casting', 'name': 'Nancy Nayor', 'profile_path': '/43LHN7kjcpvsSBBoshm4C1GUouP.jpg'}, {'credit_id': '5540ad51c3a36877ee000eb8', 'department': 'Editing', 'gender': 0, 'id': 15084, 'job': 'Editor', 'name': 'Anders Villadsen', 'profile_path': None}, {'credit_id': '5540ad3e9251414af30015f7', 'department': 'Editing', 'gender': 2, 'id': 21055, 'job': 'Editor', 'name': 'Eric L. Beason', 'profile_path': None}, {'credit_id': '52fe4981c3a368484e12edcb', 'department': 'Directing', 'gender': 2, 'id': 22676, 'job': 'Director', 'name': 'Ole Bornedal', 'profile_path': '/7PZZHKAycQhPBsewBFUgkKFOH6Z.jpg'}, {'credit_id': '548a42d392514126180003ee', 'department': 'Production', 'gender': 2, 'id': 23541, 'job': 'Executive Producer', 'name': 'Joseph Drake', 'profile_path': None}, {'credit_id': '5515369fc3a36821e5000bb6', 'department': 'Production', 'gender': 2, 'id': 40383, 'job': 'Executive Producer', 'name': 'Nathan Kahane', 'profile_path': '/2J94KWasJlrH4RVI4BQaR0i8P0t.jpg'}, {'credit_id': '536223dbc3a368396e001314', 'department': 'Costume & Make-Up', 'gender': 0, 'id': 23816, 'job': 'Costume Design', 'name': 'Carla Hetland', 'profile_path': None}, {'credit_id': '5540aed0c3a36829e500128c', 'department': 'Art', 'gender': 1, 'id': 35699, 'job': 'Set Decoration', 'name': 'Louise Roper', 'profile_path': None}, {'credit_id': '551536ab925141045c004c65', 'department': 'Camera', 'gender': 2, 'id': 40268, 'job': 'Director of Photography', 'name': 'Dan Laustsen', 'profile_path': None}, {'credit_id': '548a4275c3a3680728000403', 'department': 'Production', 'gender': 2, 'id': 40513, 'job': 'Executive Producer', 'name': 'Michael Paseornek', 'profile_path': None}, {'credit_id': '5540b36ac3a3681d980016b6', 'department': 'Camera', 'gender': 2, 'id': 47102, 'job': 'Additional Photography', 'name': 'Brian Pearson', 'profile_path': None}, {'credit_id': '57de39689251413d74002c27', 'department': 'Production', 'gender': 1, 'id': 62117, 'job': 'Executive Producer', 'name': 'Nicole Brown', 'profile_path': '/vYcKgtKqnFBWR0yUVcFIPhupKyR.jpg'}, {'credit_id': '5540b09fc3a3681d98001676', 'department': 'Sound', 'gender': 0, 'id': 65937, 'job': 'Supervising Sound Editor', 'name': 'Jussi Tegelman', 'profile_path': None}, {'credit_id': '52fe4981c3a368484e12ede3', 'department': 'Writing', 'gender': 0, 'id': 84961, 'job': 'Writer', 'name': 'Juliet Snowden', 'profile_path': None}, {'credit_id': '53622429c3a368396e00131e', 'department': 'Costume & Make-Up', 'gender': 0, 'id': 75878, 'job': 'Makeup Department Head', 'name': 'Joann Fowler', 'profile_path': None}, {'credit_id': '5540b0449251414ae600164b', 'department': 'Sound', 'gender': 0, 'id': 113081, 'job': 'Sound Effects Editor', 'name': 'Chris M. Jacobson', 'profile_path': None}, {'credit_id': '5540afc5c3a3682a7400107e', 'department': 'Sound', 'gender': 0, 'id': 117468, 'job': 'ADR & Dubbing', 'name': 'Bruce Nyznik', 'profile_path': None}, {'credit_id': '5540b1e19251414af9001583', 'department': 'Crew', 'gender': 2, 'id': 197930, 'job': 'Stunt Coordinator', 'name': 'Scott J. Ateah', 'profile_path': None}, {'credit_id': '52fe4981c3a368484e12edd1', 'department': 'Writing', 'gender': 0, 'id': 582687, 'job': 'Writer', 'name': 'Leslie Gornstein  ', 'profile_path': None}, {'credit_id': '52fe4981c3a368484e12edd7', 'department': 'Writing', 'gender': 0, 'id': 582688, 'job': 'Writer', 'name': 'E.L. Katz   ', 'profile_path': None}, {'credit_id': '52fe4981c3a368484e12eddd', 'department': 'Writing', 'gender': 0, 'id': 582689, 'job': 'Writer', 'name': 'Kevin Mannis ', 'profile_path': None}, {'credit_id': '5540b67fc3a3681da5001732', 'department': 'Crew', 'gender': 0, 'id': 939218, 'job': 'Unit Publicist', 'name': 'Bill Vigars', 'profile_path': None}, {'credit_id': '5540b069c3a3681d9c001713', 'department': 'Sound', 'gender': 0, 'id': 1118400, 'job': 'Sound Effects Editor', 'name': 'Jamey Scott', 'profile_path': None}, {'credit_id': '536223bfc3a36839470012e9', 'department': 'Sound', 'gender': 0, 'id': 1181479, 'job': 'Music', 'name': 'Anton Sanko', 'profile_path': None}, {'credit_id': '5540ab549251413d6d001193', 'department': 'Costume & Make-Up', 'gender': 0, 'id': 1182909, 'job': 'Hairstylist', 'name': 'Anji Bemben', 'profile_path': None}, {'credit_id': '5540aead9251414aee0015cb', 'department': 'Art', 'gender': 0, 'id': 1191106, 'job': 'Art Direction', 'name': 'Nigel Evans', 'profile_path': None}, {'credit_id': '5540b0899251414ae8001661', 'department': 'Sound', 'gender': 0, 'id': 1340737, 'job': 'Sound Re-Recording Mixer', 'name': 'Marti D. Humphrey', 'profile_path': None}, {'credit_id': '5540b01ac3a3681da50016be', 'department': 'Editing', 'gender': 0, 'id': 1340741, 'job': 'Dialogue Editor', 'name': 'Justin W. Walker', 'profile_path': None}, {'credit_id': '5540b0b5c3a3681da50016cc', 'department': 'Crew', 'gender': 2, 'id': 1372414, 'job': 'Special Effects Coordinator', 'name': 'Jak Osmond', 'profile_path': None}, {'credit_id': '5540b6519251411fcb00003d', 'department': 'Crew', 'gender': 0, 'id': 1378734, 'job': 'Studio Teachers', 'name': 'Natalie Zara Smith', 'profile_path': None}, {'credit_id': '5540aae39251413d6d00117f', 'department': 'Costume & Make-Up', 'gender': 1, 'id': 1384361, 'job': 'Makeup Department Head', 'name': 'Norma Hill-Patton', 'profile_path': None}, {'credit_id': '5540b2d2c3a3681d9c001753', 'department': 'Camera', 'gender': 0, 'id': 1394972, 'job': 'Steadicam Operator', 'name': 'Norbert Kaluza', 'profile_path': None}, {'credit_id': '5540b223c3a3681da00015e6', 'department': 'Camera', 'gender': 0, 'id': 1395322, 'job': 'Camera Operator', 'name': 'Andrew Fisher', 'profile_path': None}, {'credit_id': '5540b30e9251414af0001679', 'department': 'Lighting', 'gender': 0, 'id': 1398846, 'job': 'Gaffer', 'name': 'John Dekker', 'profile_path': None}, {'credit_id': '5540b381c3a3682a740010c3', 'department': 'Camera', 'gender': 0, 'id': 1399071, 'job': 'Helicopter Camera', 'name': 'Hans Bjerno', 'profile_path': '/tzeE3ATzHWyEQH32GYeGuSgr1xz.jpg'}, {'credit_id': '5540b32b9251414ae600168a', 'department': 'Camera', 'gender': 0, 'id': 1400408, 'job': 'Still Photographer', 'name': 'Diyah Pera', 'profile_path': None}, {'credit_id': '5540b4859251414ae60016ad', 'department': 'Editing', 'gender': 0, 'id': 1400414, 'job': 'Digital Intermediate', 'name': 'Jay Harada', 'profile_path': None}, {'credit_id': '5540b53e9251411fcb000028', 'department': 'Crew', 'gender': 0, 'id': 1400417, 'job': 'Transportation Coordinator', 'name': 'Brian Whitlock', 'profile_path': None}, {'credit_id': '5540ac8e9251414ae60015f4', 'department': 'Crew', 'gender': 0, 'id': 1410328, 'job': 'Makeup Effects', 'name': 'C√©line Godeau', 'profile_path': None}, {'credit_id': '5540b24cc3a3681da50016e5', 'department': 'Camera', 'gender': 0, 'id': 1410582, 'job': 'Camera Operator', 'name': 'Scott MacDonald', 'profile_path': None}, {'credit_id': '5540ab3ec3a36829e5001228', 'department': 'Crew', 'gender': 0, 'id': 1418353, 'job': 'Makeup Effects', 'name': 'Vicki Syskakis', 'profile_path': None}, {'credit_id': '5540b5099251413d6d001268', 'department': 'Sound', 'gender': 0, 'id': 1419924, 'job': 'Music Editor', 'name': 'Maarten Hofmeijer', 'profile_path': None}, {'credit_id': '5540affc9251414af0001634', 'department': 'Sound', 'gender': 0, 'id': 1425911, 'job': 'Dolby Consultant', 'name': 'Bryan Pennington', 'profile_path': None}, {'credit_id': '5540ad1d9251414ae6001602', 'department': 'Crew', 'gender': 0, 'id': 1431014, 'job': 'Property Master', 'name': 'Dean Barker', 'profile_path': None}, {'credit_id': '5540b2789251413d6d00122c', 'department': 'Lighting', 'gender': 0, 'id': 1438623, 'job': 'Gaffer', 'name': 'Paul Slatter', 'profile_path': None}, {'credit_id': '5540b603c3a3681d9c001796', 'department': 'Production', 'gender': 0, 'id': 1438630, 'job': 'Location Manager', 'name': 'Terry Mackay', 'profile_path': None}, {'credit_id': '5540ab1bc3a3681da5001636', 'department': 'Costume & Make-Up', 'gender': 0, 'id': 1441345, 'job': 'Makeup Artist', 'name': 'Tanya Hudson', 'profile_path': None}, {'credit_id': '5540b200c3a36829e50012d0', 'department': 'Camera', 'gender': 0, 'id': 1441368, 'job': 'Camera Operator', 'name': 'Glen A. Dickson', 'profile_path': None}, {'credit_id': '554ae23cc3a3685e50000bf3', 'department': 'Visual Effects', 'gender': 0, 'id': 1460599, 'job': 'VFX Artist', 'name': 'Andy Asperin', 'profile_path': None}, {'credit_id': '5540aaff9251414af0001596', 'department': 'Costume & Make-Up', 'gender': 0, 'id': 1460753, 'job': 'Makeup Artist', 'name': 'Lisa Strong', 'profile_path': None}, {'credit_id': '5540ab68c3a3682a7400100f', 'department': 'Costume & Make-Up', 'gender': 0, 'id': 1460754, 'job': 'Hairstylist', 'name': 'Jennifer Amberson', 'profile_path': None}, {'credit_id': '5540abe6c3a3681dab001626', 'department': 'Costume & Make-Up', 'gender': 2, 'id': 1460755, 'job': 'Hairstylist', 'name': 'Paul Edwards', 'profile_path': None}, {'credit_id': '5540ac719251414af90014fd', 'department': 'Costume & Make-Up', 'gender': 0, 'id': 1460756, 'job': 'Hairstylist', 'name': 'Carol Raskin', 'profile_path': None}, {'credit_id': '5540ad6bc3a36877ee000ebd', 'department': 'Art', 'gender': 0, 'id': 1460758, 'job': 'Production Design', 'name': \"\"Rachel O'Toole\"\", 'profile_path': None}, {'credit_id': '5540af389251414af000161e', 'department': 'Art', 'gender': 0, 'id': 1460760, 'job': 'Assistant Art Director', 'name': 'Randy Hutniak', 'profile_path': None}, {'credit_id': '5540af66c3a3681d98001654', 'department': 'Crew', 'gender': 0, 'id': 1460761, 'job': 'Property Master', 'name': 'David Rosychuk', 'profile_path': None}, {'credit_id': '5540b11ac3a3682a74001099', 'department': 'Crew', 'gender': 0, 'id': 1460762, 'job': 'CG Supervisor', 'name': 'Richard Patterson', 'profile_path': None}, {'credit_id': '5540b18dc3a3681d9c00172c', 'department': 'Visual Effects', 'gender': 0, 'id': 1460763, 'job': 'Visual Effects Supervisor', 'name': 'Adam Stern', 'profile_path': None}, {'credit_id': '5540b2949251414aee001626', 'department': 'Lighting', 'gender': 0, 'id': 1460765, 'job': 'Gaffer', 'name': 'Rusty Pouch', 'profile_path': None}, {'credit_id': '5540b2b79251414ae8001693', 'department': 'Lighting', 'gender': 0, 'id': 1460766, 'job': 'Rigging Gaffer', 'name': \"\"Jeff O'Brian\"\", 'profile_path': None}, {'credit_id': '5540b2eec3a3681d980016a6', 'department': 'Camera', 'gender': 0, 'id': 1460767, 'job': 'Steadicam Operator', 'name': 'James Baldanza', 'profile_path': None}, {'credit_id': '5540b3419251413d6d00123e', 'department': 'Camera', 'gender': 0, 'id': 1460768, 'job': 'Still Photographer', 'name': 'Glenn Watson', 'profile_path': None}, {'credit_id': '5540b3bd9251414af3001699', 'department': 'Costume & Make-Up', 'gender': 0, 'id': 1460769, 'job': 'Costume Supervisor', 'name': 'Jacqui Gee', 'profile_path': None}, {'credit_id': '5540b3e0c3a3681d980016be', 'department': 'Costume & Make-Up', 'gender': 0, 'id': 1460772, 'job': 'Set Costumer', 'name': 'Charron Hume', 'profile_path': None}, {'credit_id': '5540b41ac3a3681d980016c5', 'department': 'Costume & Make-Up', 'gender': 0, 'id': 1460775, 'job': 'Set Costumer', 'name': 'James Spencer', 'profile_path': None}, {'credit_id': '5540b4589251414ae60016a4', 'department': 'Editing', 'gender': 0, 'id': 1460776, 'job': 'Digital Intermediate', 'name': 'James Cowan', 'profile_path': None}, {'credit_id': '5540b472c3a3681da500170b', 'department': 'Editing', 'gender': 0, 'id': 1460777, 'job': 'Digital Intermediate', 'name': 'Christine Dougherty', 'profile_path': None}, {'credit_id': '5540b49c9251413d6d00125d', 'department': 'Editing', 'gender': 0, 'id': 1460778, 'job': 'Digital Intermediate', 'name': 'Catherine McQuaid', 'profile_path': None}, {'credit_id': '5540b4c59251414ae80016b5', 'department': 'Editing', 'gender': 0, 'id': 1460781, 'job': 'Digital Intermediate', 'name': 'Christine Vasquez', 'profile_path': None}, {'credit_id': '5540b4e29251414ae60016bd', 'department': 'Editing', 'gender': 0, 'id': 1460782, 'job': 'First Assistant Editor', 'name': 'Bryan Lamoureux', 'profile_path': None}, {'credit_id': '5540b56ec3a3681d9c001789', 'department': 'Crew', 'gender': 0, 'id': 1460784, 'job': 'Choreographer', 'name': 'Kimberly Sato', 'profile_path': None}, {'credit_id': '5540b5879251414ae80016cb', 'department': 'Directing', 'gender': 1, 'id': 1460785, 'job': 'Script Supervisor', 'name': 'Ilene Pickus', 'profile_path': None}, {'credit_id': '5540b5a0c3a3681dab001705', 'department': 'Directing', 'gender': 0, 'id': 1460786, 'job': 'Script Supervisor', 'name': 'Stephanie Rossel', 'profile_path': None}, {'credit_id': '5540b5eac3a36829e5001323', 'department': 'Directing', 'gender': 0, 'id': 1460788, 'job': 'Script Supervisor', 'name': 'Elspeth Grafton', 'profile_path': None}, {'credit_id': '5540b627c3a36829e500132c', 'department': 'Production', 'gender': 1, 'id': 1460790, 'job': 'Location Manager', 'name': 'Jennifer Radzikowski', 'profile_path': None}, {'credit_id': '56c4e32b9251412696000865', 'department': 'Camera', 'gender': 0, 'id': 1579180, 'job': 'First Assistant Camera', 'name': 'Stewart Whelan', 'profile_path': None}]\",85446075\r\n",
            "8,,0,\"[{'id': 99, 'name': 'Documentary'}]\",,tt0391024,en,Control Room,\"A chronicle which provides a rare window into the international perception of the Iraq War, courtesy of Al Jazeera, the Arab world's most popular news outlet. Roundly criticized by Cabinet members and Pentagon officials for reporting with a pro-Iraqi bias, and strongly condemned for frequently airing civilian causalities as well as footage of American POWs, the station has revealed (and continues to show the world) everything about the Iraq War that the Bush administration did not want it to see.\",1.949044,/83BV8fGy5p9i8RwE9oj76tZ1Ikp.jpg,,,1/15/04,84,\"[{'iso_639_1': 'ar', 'name': 'العربية'}, {'iso_639_1': 'en', 'name': 'English'}]\",Released,Different channels. Different truths.,Control Room,\"[{'id': 917, 'name': 'journalism'}, {'id': 1638, 'name': 'translation'}, {'id': 2136, 'name': 'television'}, {'id': 2954, 'name': 'manipulation of the media'}, {'id': 5939, 'name': 'iraq'}, {'id': 12193, 'name': 'reporter'}, {'id': 187056, 'name': 'woman director'}]\",\"[{'cast_id': 2, 'character': 'Himself', 'credit_id': '52fe47a69251416c750a0db3', 'gender': 0, 'id': 556951, 'name': 'Samir Khader', 'order': 0, 'profile_path': '/aE8pJJpgngwrOGXNoSEzneqGAXS.jpg'}, {'cast_id': 3, 'character': 'Himself (as Lt. Josh Rushing)', 'credit_id': '52fe47a69251416c750a0db7', 'gender': 0, 'id': 556952, 'name': 'Josh Rushing', 'order': 1, 'profile_path': '/2ZVuvL7k3q9I3nGp667CWioMKEG.jpg'}, {'cast_id': 4, 'character': 'Himself (archive footage)', 'credit_id': '52fe47a69251416c750a0dbb', 'gender': 2, 'id': 19011, 'name': 'George W. Bush', 'order': 2, 'profile_path': '/8X7iJym7kDUBMFxsk6RPhWpFz3q.jpg'}, {'cast_id': 5, 'character': 'Himself', 'credit_id': '52fe47a69251416c750a0dbf', 'gender': 0, 'id': 556953, 'name': 'Hassan Ibrahim', 'order': 3, 'profile_path': None}]\",\"[{'credit_id': '52fe47a69251416c750a0daf', 'department': 'Directing', 'gender': 1, 'id': 115892, 'job': 'Director', 'name': 'Jehane Noujaim', 'profile_path': None}]\",2586511\r\n",
            "9,\"[{'id': 256377, 'name': 'The Muppet Collection', 'poster_path': '/8Ew8EIdFFurMMYjSbWPu1Hl4vLX.jpg', 'backdrop_path': '/1AWd3MM90G47mxtD112gRDxSXY9.jpg'}]\",0,\"[{'id': 28, 'name': 'Action'}, {'id': 35, 'name': 'Comedy'}, {'id': 10402, 'name': 'Music'}, {'id': 10751, 'name': 'Family'}, {'id': 12, 'name': 'Adventure'}]\",,tt0117110,en,Muppet Treasure Island,\"After telling the story of Flint's last journey to young Jim Hawkins, Billy Bones has a heart attack and dies just as Jim and his friends are attacked by pirates. The gang escapes into the town where they hire out a boat and crew to find the hidden treasure, which was revealed by Bones before he died. On their voyage across the seas, they soon find out that not everyone on board can be trusted.\",6.902423,/5A8gKzOrF9Z7tSUX6xd5dEx4NXf.jpg,\"[{'name': 'Walt Disney Pictures', 'id': 2}, {'name': 'Jim Henson Productions', 'id': 2504}, {'name': 'Jim Henson Company, The', 'id': 6254}]\",\"[{'iso_3166_1': 'US', 'name': 'United States of America'}]\",2/16/96,100,\"[{'iso_639_1': 'en', 'name': 'English'}]\",Released,Set sail for Muppet mayhem!,Muppet Treasure Island,\"[{'id': 2041, 'name': 'island'}, {'id': 4418, 'name': 'pirate gang'}, {'id': 6300, 'name': 'puppet'}, {'id': 6956, 'name': 'treasure hunt'}]\",\"[{'cast_id': 1, 'character': 'Long John Silver', 'credit_id': '52fe43c89251416c7501dea1', 'gender': 2, 'id': 13472, 'name': 'Tim Curry', 'order': 0, 'profile_path': '/eo8AHZqSKuPconj1ueXHHBS37pM.jpg'}, {'cast_id': 2, 'character': 'Jim Hawkins', 'credit_id': '52fe43c89251416c7501dea5', 'gender': 2, 'id': 19996, 'name': 'Kevin Bishop', 'order': 1, 'profile_path': '/uiRRSgBK05xrjzGecbp2Oz8SYN8.jpg'}, {'cast_id': 3, 'character': 'Mrs. Bluveridge', 'credit_id': '52fe43c89251416c7501dea9', 'gender': 1, 'id': 12094, 'name': 'Jennifer Saunders', 'order': 2, 'profile_path': '/c1qRVTYqUhWd7y2ws426zdyqhln.jpg'}, {'cast_id': 4, 'character': 'Billy Bones', 'credit_id': '52fe43c89251416c7501dead', 'gender': 0, 'id': 9188, 'name': 'Billy Connolly', 'order': 3, 'profile_path': '/7e1rVdJah2r0DaMpovrhbR2dHPS.jpg'}, {'cast_id': 13, 'character': '', 'credit_id': '533145589251410b48000fdd', 'gender': 2, 'id': 64181, 'name': 'Dave Goelz', 'order': 4, 'profile_path': '/hVfv7gsUPDRDFxUk7fyCktIL7Ar.jpg'}, {'cast_id': 15, 'character': 'Miss Piggy / Fozzie Bear / Sam the Eagle / Animal (voice)', 'credit_id': '5920e2e99251414ab104bc9f', 'gender': 2, 'id': 7908, 'name': 'Frank Oz', 'order': 5, 'profile_path': '/aLH5bYwMIlVxCe4rIDaEsVJqDKn.jpg'}, {'cast_id': 16, 'character': 'Kermit the Frog / Rizzo the Rat / Beaker (voice)', 'credit_id': '5920e2fe925141485e0513d1', 'gender': 2, 'id': 64180, 'name': 'Steve Whitmire', 'order': 6, 'profile_path': '/47ovNnEHh2fMYjTPH7A3MEAuKdW.jpg'}, {'cast_id': 17, 'character': 'Captain Flint', 'credit_id': '5974ef70925141580601aac4', 'gender': 2, 'id': 133876, 'name': 'David Nicholls', 'order': 7, 'profile_path': '/i6SfR3vndOofwycA5RzZ9RBQG3w.jpg'}, {'cast_id': 18, 'character': 'Calico Jerry', 'credit_id': '5974ef7dc3a3685e0101aade', 'gender': 0, 'id': 1705493, 'name': 'Frederick Warder', 'order': 8, 'profile_path': None}, {'cast_id': 19, 'character': 'Easy Pete', 'credit_id': '5974ef88925141580601aae1', 'gender': 0, 'id': 121112, 'name': 'Harry Jones', 'order': 9, 'profile_path': None}, {'cast_id': 20, 'character': 'Black Eyed Pea', 'credit_id': '5974ef96c3a3685da401a998', 'gender': 0, 'id': 1220350, 'name': 'Peter Geeves', 'order': 10, 'profile_path': None}, {'cast_id': 21, 'character': \"\"Big-Fat-Ugly-Bug-Faced-Baby-Eating O'Brien\"\", 'credit_id': '5974efb592514106a8012c91', 'gender': 0, 'id': 1314585, 'name': 'Jessica Hamilton', 'order': 11, 'profile_path': None}]\",\"[{'credit_id': '52fe43c89251416c7501deb3', 'department': 'Directing', 'gender': 2, 'id': 65298, 'job': 'Director', 'name': 'Brian Henson', 'profile_path': '/m2Bczi1gvhnIYCGp8Fhg2QCPuNf.jpg'}, {'credit_id': '52fe43c89251416c7501deb9', 'department': 'Production', 'gender': 2, 'id': 7908, 'job': 'Producer', 'name': 'Frank Oz', 'profile_path': '/aLH5bYwMIlVxCe4rIDaEsVJqDKn.jpg'}, {'credit_id': '52fe43c89251416c7501debf', 'department': 'Production', 'gender': 2, 'id': 65298, 'job': 'Producer', 'name': 'Brian Henson', 'profile_path': '/m2Bczi1gvhnIYCGp8Fhg2QCPuNf.jpg'}, {'credit_id': '52fe43c89251416c7501dec5', 'department': 'Writing', 'gender': 2, 'id': 64184, 'job': 'Screenplay', 'name': 'Jerry Juhl', 'profile_path': '/cgNumNNGSb5MeN0WIXkkhY0iXGV.jpg'}, {'credit_id': '52fe43c89251416c7501decb', 'department': 'Writing', 'gender': 2, 'id': 29533, 'job': 'Novel', 'name': 'Robert Louis Stevenson', 'profile_path': '/fGEGp5kpR2mhX89XqAJoJQFGeuG.jpg'}, {'credit_id': '52fe43c89251416c7501ded1', 'department': 'Sound', 'gender': 2, 'id': 947, 'job': 'Original Music Composer', 'name': 'Hans Zimmer', 'profile_path': '/7IjJpvGtCfY0DsritmfCh2iX9I4.jpg'}, {'credit_id': '52fe43c89251416c7501ded7', 'department': 'Editing', 'gender': 2, 'id': 12940, 'job': 'Editor', 'name': 'Michael Jablow', 'profile_path': None}, {'credit_id': '546892b422136e68d50007c5', 'department': 'Camera', 'gender': 0, 'id': 1385880, 'job': 'Director of Photography', 'name': 'John Fenner', 'profile_path': None}]\",34327391\r\n"
          ],
          "name": "stdout"
        }
      ]
    },
    {
      "cell_type": "code",
      "metadata": {
        "id": "R3hyrCxK9QEh",
        "colab_type": "code",
        "colab": {}
      },
      "source": [
        "# Some columns contain sort of json format in string format. We can use the pandas `converter` trick to cast string to whatever format we want\n",
        "\n",
        "def string_to_list(x):\n",
        "  return eval(x) if x and x != '#N/A' else []\n",
        "\n",
        "io_columns = [\n",
        "              'belongs_to_collection',\n",
        "              'genres',\n",
        "              'production_companies',\n",
        "              'production_countries',\n",
        "              'spoken_languages',\n",
        "              'Keywords',\n",
        "              'cast',\n",
        "              'crew'\n",
        "]\n",
        "\n",
        "\n",
        "io_params = {\n",
        "    'index_col': 'id',\n",
        "    'converters': {col: string_to_list for col in io_columns}\n",
        "    \n",
        "}\n",
        "\n",
        "def load_data(train_set=True, data_path=DATA_PATH, params=io_params):\n",
        "  if train_set:\n",
        "    path=os.path.join(data_path, 'train.csv')\n",
        "  else:\n",
        "    path=os.path.join(data_path, 'test.csv')\n",
        "  return pd.read_csv(path, **io_params)"
      ],
      "execution_count": 0,
      "outputs": []
    },
    {
      "cell_type": "code",
      "metadata": {
        "id": "7Vfnvljh5ZDf",
        "colab_type": "code",
        "colab": {
          "base_uri": "https://localhost:8080/",
          "height": 448
        },
        "outputId": "4aca7647-e977-4866-f818-7bea5b364837"
      },
      "source": [
        "movies = load_data()\n",
        "movies.head(3)"
      ],
      "execution_count": 48,
      "outputs": [
        {
          "output_type": "execute_result",
          "data": {
            "text/html": [
              "<div>\n",
              "<style scoped>\n",
              "    .dataframe tbody tr th:only-of-type {\n",
              "        vertical-align: middle;\n",
              "    }\n",
              "\n",
              "    .dataframe tbody tr th {\n",
              "        vertical-align: top;\n",
              "    }\n",
              "\n",
              "    .dataframe thead th {\n",
              "        text-align: right;\n",
              "    }\n",
              "</style>\n",
              "<table border=\"1\" class=\"dataframe\">\n",
              "  <thead>\n",
              "    <tr style=\"text-align: right;\">\n",
              "      <th></th>\n",
              "      <th>belongs_to_collection</th>\n",
              "      <th>budget</th>\n",
              "      <th>genres</th>\n",
              "      <th>homepage</th>\n",
              "      <th>imdb_id</th>\n",
              "      <th>original_language</th>\n",
              "      <th>original_title</th>\n",
              "      <th>overview</th>\n",
              "      <th>popularity</th>\n",
              "      <th>poster_path</th>\n",
              "      <th>production_companies</th>\n",
              "      <th>production_countries</th>\n",
              "      <th>release_date</th>\n",
              "      <th>runtime</th>\n",
              "      <th>spoken_languages</th>\n",
              "      <th>status</th>\n",
              "      <th>tagline</th>\n",
              "      <th>title</th>\n",
              "      <th>Keywords</th>\n",
              "      <th>cast</th>\n",
              "      <th>crew</th>\n",
              "      <th>revenue</th>\n",
              "    </tr>\n",
              "    <tr>\n",
              "      <th>id</th>\n",
              "      <th></th>\n",
              "      <th></th>\n",
              "      <th></th>\n",
              "      <th></th>\n",
              "      <th></th>\n",
              "      <th></th>\n",
              "      <th></th>\n",
              "      <th></th>\n",
              "      <th></th>\n",
              "      <th></th>\n",
              "      <th></th>\n",
              "      <th></th>\n",
              "      <th></th>\n",
              "      <th></th>\n",
              "      <th></th>\n",
              "      <th></th>\n",
              "      <th></th>\n",
              "      <th></th>\n",
              "      <th></th>\n",
              "      <th></th>\n",
              "      <th></th>\n",
              "      <th></th>\n",
              "    </tr>\n",
              "  </thead>\n",
              "  <tbody>\n",
              "    <tr>\n",
              "      <th>1</th>\n",
              "      <td>[{'id': 313576, 'name': 'Hot Tub Time Machine ...</td>\n",
              "      <td>14000000</td>\n",
              "      <td>[{'id': 35, 'name': 'Comedy'}]</td>\n",
              "      <td>NaN</td>\n",
              "      <td>tt2637294</td>\n",
              "      <td>en</td>\n",
              "      <td>Hot Tub Time Machine 2</td>\n",
              "      <td>When Lou, who has become the \"father of the In...</td>\n",
              "      <td>6.575393</td>\n",
              "      <td>/tQtWuwvMf0hCc2QR2tkolwl7c3c.jpg</td>\n",
              "      <td>[{'name': 'Paramount Pictures', 'id': 4}, {'na...</td>\n",
              "      <td>[{'iso_3166_1': 'US', 'name': 'United States o...</td>\n",
              "      <td>2/20/15</td>\n",
              "      <td>93.0</td>\n",
              "      <td>[{'iso_639_1': 'en', 'name': 'English'}]</td>\n",
              "      <td>Released</td>\n",
              "      <td>The Laws of Space and Time are About to be Vio...</td>\n",
              "      <td>Hot Tub Time Machine 2</td>\n",
              "      <td>[{'id': 4379, 'name': 'time travel'}, {'id': 9...</td>\n",
              "      <td>[{'cast_id': 4, 'character': 'Lou', 'credit_id...</td>\n",
              "      <td>[{'credit_id': '59ac067c92514107af02c8c8', 'de...</td>\n",
              "      <td>12314651</td>\n",
              "    </tr>\n",
              "    <tr>\n",
              "      <th>2</th>\n",
              "      <td>[{'id': 107674, 'name': 'The Princess Diaries ...</td>\n",
              "      <td>40000000</td>\n",
              "      <td>[{'id': 35, 'name': 'Comedy'}, {'id': 18, 'nam...</td>\n",
              "      <td>NaN</td>\n",
              "      <td>tt0368933</td>\n",
              "      <td>en</td>\n",
              "      <td>The Princess Diaries 2: Royal Engagement</td>\n",
              "      <td>Mia Thermopolis is now a college graduate and ...</td>\n",
              "      <td>8.248895</td>\n",
              "      <td>/w9Z7A0GHEhIp7etpj0vyKOeU1Wx.jpg</td>\n",
              "      <td>[{'name': 'Walt Disney Pictures', 'id': 2}]</td>\n",
              "      <td>[{'iso_3166_1': 'US', 'name': 'United States o...</td>\n",
              "      <td>8/6/04</td>\n",
              "      <td>113.0</td>\n",
              "      <td>[{'iso_639_1': 'en', 'name': 'English'}]</td>\n",
              "      <td>Released</td>\n",
              "      <td>It can take a lifetime to find true love; she'...</td>\n",
              "      <td>The Princess Diaries 2: Royal Engagement</td>\n",
              "      <td>[{'id': 2505, 'name': 'coronation'}, {'id': 42...</td>\n",
              "      <td>[{'cast_id': 1, 'character': 'Mia Thermopolis'...</td>\n",
              "      <td>[{'credit_id': '52fe43fe9251416c7502563d', 'de...</td>\n",
              "      <td>95149435</td>\n",
              "    </tr>\n",
              "    <tr>\n",
              "      <th>3</th>\n",
              "      <td>[]</td>\n",
              "      <td>3300000</td>\n",
              "      <td>[{'id': 18, 'name': 'Drama'}]</td>\n",
              "      <td>http://sonyclassics.com/whiplash/</td>\n",
              "      <td>tt2582802</td>\n",
              "      <td>en</td>\n",
              "      <td>Whiplash</td>\n",
              "      <td>Under the direction of a ruthless instructor, ...</td>\n",
              "      <td>64.299990</td>\n",
              "      <td>/lIv1QinFqz4dlp5U4lQ6HaiskOZ.jpg</td>\n",
              "      <td>[{'name': 'Bold Films', 'id': 2266}, {'name': ...</td>\n",
              "      <td>[{'iso_3166_1': 'US', 'name': 'United States o...</td>\n",
              "      <td>10/10/14</td>\n",
              "      <td>105.0</td>\n",
              "      <td>[{'iso_639_1': 'en', 'name': 'English'}]</td>\n",
              "      <td>Released</td>\n",
              "      <td>The road to greatness can take you to the edge.</td>\n",
              "      <td>Whiplash</td>\n",
              "      <td>[{'id': 1416, 'name': 'jazz'}, {'id': 1523, 'n...</td>\n",
              "      <td>[{'cast_id': 5, 'character': 'Andrew Neimann',...</td>\n",
              "      <td>[{'credit_id': '54d5356ec3a3683ba0000039', 'de...</td>\n",
              "      <td>13092000</td>\n",
              "    </tr>\n",
              "  </tbody>\n",
              "</table>\n",
              "</div>"
            ],
            "text/plain": [
              "                                belongs_to_collection  ...   revenue\n",
              "id                                                     ...          \n",
              "1   [{'id': 313576, 'name': 'Hot Tub Time Machine ...  ...  12314651\n",
              "2   [{'id': 107674, 'name': 'The Princess Diaries ...  ...  95149435\n",
              "3                                                  []  ...  13092000\n",
              "\n",
              "[3 rows x 22 columns]"
            ]
          },
          "metadata": {
            "tags": []
          },
          "execution_count": 48
        }
      ]
    },
    {
      "cell_type": "code",
      "metadata": {
        "id": "kfmvFgii5olJ",
        "colab_type": "code",
        "colab": {
          "base_uri": "https://localhost:8080/",
          "height": 102
        },
        "outputId": "c39523ea-ec62-405c-cd78-4be81e870616"
      },
      "source": [
        "movies.iloc[:3, 0] # Now we can see the `blongs_to_collection` format become list of dictionaries, instead of string, and nan is empty list."
      ],
      "execution_count": 50,
      "outputs": [
        {
          "output_type": "execute_result",
          "data": {
            "text/plain": [
              "id\n",
              "1    [{'id': 313576, 'name': 'Hot Tub Time Machine ...\n",
              "2    [{'id': 107674, 'name': 'The Princess Diaries ...\n",
              "3                                                   []\n",
              "Name: belongs_to_collection, dtype: object"
            ]
          },
          "metadata": {
            "tags": []
          },
          "execution_count": 50
        }
      ]
    },
    {
      "cell_type": "code",
      "metadata": {
        "id": "7EgK9XDT5_uv",
        "colab_type": "code",
        "colab": {
          "base_uri": "https://localhost:8080/",
          "height": 85
        },
        "outputId": "50ac54ea-e013-4d30-d683-3017bdae8bb5"
      },
      "source": [
        "movies.iloc[0, 0]"
      ],
      "execution_count": 52,
      "outputs": [
        {
          "output_type": "execute_result",
          "data": {
            "text/plain": [
              "[{'backdrop_path': '/noeTVcgpBiD48fDjFVic1Vz7ope.jpg',\n",
              "  'id': 313576,\n",
              "  'name': 'Hot Tub Time Machine Collection',\n",
              "  'poster_path': '/iEhb00TGPucF0b4joM1ieyY026U.jpg'}]"
            ]
          },
          "metadata": {
            "tags": []
          },
          "execution_count": 52
        }
      ]
    },
    {
      "cell_type": "markdown",
      "metadata": {
        "id": "K4jAYKiqETPP",
        "colab_type": "text"
      },
      "source": [
        "# Quick view of data structure"
      ]
    },
    {
      "cell_type": "code",
      "metadata": {
        "id": "jQ51r3Z_ugFk",
        "colab_type": "code",
        "colab": {
          "base_uri": "https://localhost:8080/",
          "height": 476
        },
        "outputId": "f6e8c131-30a8-4935-9721-c1578023f087"
      },
      "source": [
        "movies.info()"
      ],
      "execution_count": 53,
      "outputs": [
        {
          "output_type": "stream",
          "text": [
            "<class 'pandas.core.frame.DataFrame'>\n",
            "Int64Index: 3000 entries, 1 to 3000\n",
            "Data columns (total 22 columns):\n",
            "belongs_to_collection    3000 non-null object\n",
            "budget                   3000 non-null int64\n",
            "genres                   3000 non-null object\n",
            "homepage                 946 non-null object\n",
            "imdb_id                  3000 non-null object\n",
            "original_language        3000 non-null object\n",
            "original_title           3000 non-null object\n",
            "overview                 2992 non-null object\n",
            "popularity               3000 non-null float64\n",
            "poster_path              2999 non-null object\n",
            "production_companies     3000 non-null object\n",
            "production_countries     3000 non-null object\n",
            "release_date             3000 non-null object\n",
            "runtime                  2998 non-null float64\n",
            "spoken_languages         3000 non-null object\n",
            "status                   3000 non-null object\n",
            "tagline                  2403 non-null object\n",
            "title                    3000 non-null object\n",
            "Keywords                 3000 non-null object\n",
            "cast                     3000 non-null object\n",
            "crew                     3000 non-null object\n",
            "revenue                  3000 non-null int64\n",
            "dtypes: float64(2), int64(2), object(18)\n",
            "memory usage: 619.1+ KB\n"
          ],
          "name": "stdout"
        }
      ]
    },
    {
      "cell_type": "code",
      "metadata": {
        "id": "1NgW43vy6mhO",
        "colab_type": "code",
        "colab": {}
      },
      "source": [
        ""
      ],
      "execution_count": 0,
      "outputs": []
    },
    {
      "cell_type": "markdown",
      "metadata": {
        "id": "njPbaMa-ETaL",
        "colab_type": "text"
      },
      "source": [
        "# Analysis of data with visualisation"
      ]
    },
    {
      "cell_type": "code",
      "metadata": {
        "id": "o-njdzwNEglL",
        "colab_type": "code",
        "colab": {}
      },
      "source": [
        ""
      ],
      "execution_count": 0,
      "outputs": []
    },
    {
      "cell_type": "code",
      "metadata": {
        "id": "nptiRrILwVF8",
        "colab_type": "code",
        "colab": {}
      },
      "source": [
        ""
      ],
      "execution_count": 0,
      "outputs": []
    }
  ]
}